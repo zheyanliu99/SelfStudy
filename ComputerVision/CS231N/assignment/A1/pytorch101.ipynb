{
 "cells": [
  {
   "cell_type": "markdown",
   "source": [
    "# EECS 498-007/598-005 Assignment 1-1: PyTorch 101\n",
    "\n",
    "Before we start, please put your name and UMID in following format\n",
    "\n",
    ": Firstname LASTNAME, #00000000   //   e.g.) Justin JOHNSON, #12345678"
   ],
   "metadata": {
    "colab_type": "text",
    "id": "QcJK3kXl--c3"
   }
  },
  {
   "cell_type": "markdown",
   "source": [
    "**Your Answer:**   \n",
    "Your NAME, #XXXXXXXX"
   ],
   "metadata": {
    "colab_type": "text",
    "id": "7sA2iBcm_cPb"
   }
  },
  {
   "cell_type": "markdown",
   "source": [
    "# Setup Code\n",
    "Before getting started we need to run some boilerplate code to set up our environment. You'll need to rerun this setup code each time you start the notebook.\n",
    "\n",
    "First, run this cell load the [autoreload](https://ipython.readthedocs.io/en/stable/config/extensions/autoreload.html?highlight=autoreload) extension. This allows us to edit `.py` source files, and re-import them into the notebook for a seamless editing and debugging experience."
   ],
   "metadata": {
    "colab_type": "text",
    "id": "kQndOAmiVTO3"
   }
  },
  {
   "cell_type": "code",
   "execution_count": null,
   "source": [
    "%load_ext autoreload\r\n",
    "%autoreload 2"
   ],
   "outputs": [],
   "metadata": {
    "colab": {},
    "colab_type": "code",
    "id": "H5PzjwH7VTO4"
   }
  },
  {
   "cell_type": "markdown",
   "source": [
    "### Google Colab Setup\n",
    "Next we need to run a few commands to set up our environment on Google Colab. If you are running this notebook on a local machine you can skip this section.\n",
    "\n",
    "Run the following cell to mount your Google Drive. Follow the link, sign in to your Google account (the same account you used to store this notebook!) and copy the authorization code into the text box that appears below."
   ],
   "metadata": {
    "colab_type": "text",
    "id": "bCtoiSyVVTO8"
   }
  },
  {
   "cell_type": "code",
   "execution_count": null,
   "source": [
    "from google.colab import drive\r\n",
    "drive.mount('/content/drive')"
   ],
   "outputs": [],
   "metadata": {
    "colab": {
     "base_uri": "https://localhost:8080/",
     "height": 122
    },
    "colab_type": "code",
    "id": "tHG0slB6VTO8",
    "outputId": "6a4af12f-e22e-409f-b9f0-7e03da7e3693"
   }
  },
  {
   "cell_type": "markdown",
   "source": [
    "Now recall the path in your Google Drive where you uploaded this notebook, fill it in below. If everything is working correctly then running the folowing cell should print the filenames from the assignment:\n",
    "\n",
    "```\n",
    "['pytorch101.py', 'knn.py', 'knn.ipynb', 'eecs598', 'pytorch101.ipynb']\n",
    "```"
   ],
   "metadata": {
    "colab_type": "text",
    "id": "UWjXo-vXVTO_"
   }
  },
  {
   "cell_type": "code",
   "execution_count": null,
   "source": [
    "import os\r\n",
    "\r\n",
    "# TODO: Fill in the Google Drive path where you uploaded the assignment\r\n",
    "# Example: If you create a 2020FA folder and put all the files under A1 folder, then '2020FA/A1'\r\n",
    "# GOOGLE_DRIVE_PATH_AFTER_MYDRIVE = '2020FA/A1'\r\n",
    "GOOGLE_DRIVE_PATH_AFTER_MYDRIVE = None \r\n",
    "GOOGLE_DRIVE_PATH = os.path.join('drive', 'My Drive', GOOGLE_DRIVE_PATH_AFTER_MYDRIVE)\r\n",
    "print(os.listdir(GOOGLE_DRIVE_PATH))"
   ],
   "outputs": [],
   "metadata": {
    "colab": {
     "base_uri": "https://localhost:8080/",
     "height": 54
    },
    "colab_type": "code",
    "id": "KqMvJnNHVTPA",
    "outputId": "50cbb153-f728-4c23-84fc-1c2cf772bba3"
   }
  },
  {
   "cell_type": "markdown",
   "source": [
    "Once you have successfully mounted your Google Drive and located the path to this assignment, run the following cell to allow us to import from the `.py` files of this assignment. If it works correctly, it should print the message:\r\n",
    "\r\n",
    "```\r\n",
    "Hello from pytorch101.py!\r\n",
    "```\r\n",
    "\r\n",
    "as well as the last edit time for the file `pytorch101.py`."
   ],
   "metadata": {
    "colab_type": "text",
    "id": "ko-wLqHWVTPC"
   }
  },
  {
   "cell_type": "code",
   "execution_count": null,
   "source": [
    "import sys\r\n",
    "sys.path.append(GOOGLE_DRIVE_PATH)\r\n",
    "\r\n",
    "import time, os\r\n",
    "os.environ[\"TZ\"] = \"US/Eastern\"\r\n",
    "time.tzset()\r\n",
    "\r\n",
    "from pytorch101 import hello\r\n",
    "hello()\r\n",
    "\r\n",
    "pytorch101_path = os.path.join(GOOGLE_DRIVE_PATH, 'pytorch101.py')\r\n",
    "pytorch101_edit_time = time.ctime(os.path.getmtime(pytorch101_path))\r\n",
    "print('pytorch101.py last edited on %s' % pytorch101_edit_time)"
   ],
   "outputs": [],
   "metadata": {
    "colab": {
     "base_uri": "https://localhost:8080/",
     "height": 51
    },
    "colab_type": "code",
    "id": "1AoThF9eVTPD",
    "outputId": "fca2be9c-1751-43fb-d146-4d114ccddb4f"
   }
  },
  {
   "cell_type": "markdown",
   "source": [
    "# Introduction\r\n",
    "\r\n",
    "Python 3 and [PyTorch](https://pytorch.org/) will be used throughout the semseter, so it is important to be familiar with them. This material in this notebook draws from http://cs231n.github.io/python-numpy-tutorial/ and https://github.com/kuleshov/cs228-material/blob/master/tutorials/python/cs228-python-tutorial.ipynb. This material focuses mainly on PyTorch.\r\n",
    "\r\n",
    "This notebook will walk you through many of the important features of PyTorch that you will need to use throughout the semester. In some cells and files you will see code blocks that look like this:\r\n",
    "\r\n",
    "```python\r\n",
    "##############################################################################\r\n",
    "# TODO: Write the equation for a line\r\n",
    "##############################################################################\r\n",
    "pass\r\n",
    "##############################################################################\r\n",
    "#                             END OF YOUR CODE                               #\r\n",
    "##############################################################################\r\n",
    "```\r\n",
    "\r\n",
    "You should replace the `pass` statement with your own code and leave the blocks intact, like this:\r\n",
    "\r\n",
    "```python\r\n",
    "##############################################################################\r\n",
    "# TODO: Instructions for what you need to do\r\n",
    "##############################################################################\r\n",
    "y = m * x + b\r\n",
    "##############################################################################\r\n",
    "#                             END OF YOUR CODE                               #\r\n",
    "##############################################################################\r\n",
    "```\r\n",
    "\r\n",
    "When completing the notebook, please adhere to the following rules:\r\n",
    "- Do not write or modify any code outside of code blocks\r\n",
    "- Do not add or delete any cells from the notebook. You may add new cells to perform scatch work, but delete them before submitting.\r\n",
    "- Run all cells before submitting. You will only get credit for code that has been run.\r\n",
    "\r\n",
    "This notebook contains many inline sanity checks for the code you write. However, **passing these sanity checks does not mean your code is correct!** During grading we may run your code on additional inputs, and we may look at your code to make sure you've followed the specific guildelines for each implementation. You are encouraged to write additional test cases for the functions you are asked to write instead of solely relying on the sanity checks in the notebook."
   ],
   "metadata": {
    "colab_type": "text",
    "id": "Qc83ETI1a3o9"
   }
  },
  {
   "cell_type": "markdown",
   "source": [
    "# Python 3\n"
   ],
   "metadata": {
    "colab_type": "text",
    "id": "hQrEwOpXb9Gh"
   }
  },
  {
   "cell_type": "markdown",
   "source": [
    "If you're unfamiliar with Python 3, here are some of the most common changes from Python 2 to look out for.\r\n"
   ],
   "metadata": {
    "colab_type": "text",
    "id": "xAKwfCs_mK3d"
   }
  },
  {
   "cell_type": "markdown",
   "source": [
    "### Print is a function"
   ],
   "metadata": {
    "colab_type": "text",
    "id": "zjosrOn8mOMV"
   }
  },
  {
   "cell_type": "code",
   "execution_count": null,
   "source": [
    "print(\"Hello!\")"
   ],
   "outputs": [],
   "metadata": {
    "colab": {
     "base_uri": "https://localhost:8080/",
     "height": 34
    },
    "colab_type": "code",
    "id": "O41SjFuamR7d",
    "outputId": "0acaff10-3b17-42bf-f891-e290d6cdc317"
   }
  },
  {
   "cell_type": "markdown",
   "source": [
    "Without parentheses, printing will not work."
   ],
   "metadata": {
    "colab_type": "text",
    "id": "nEh1swLBmQN-"
   }
  },
  {
   "cell_type": "markdown",
   "source": [
    "### Floating point division by default"
   ],
   "metadata": {
    "colab_type": "text",
    "id": "OgPaSNS2mVPn"
   }
  },
  {
   "cell_type": "code",
   "execution_count": null,
   "source": [
    "5 / 2"
   ],
   "outputs": [],
   "metadata": {
    "colab": {
     "base_uri": "https://localhost:8080/",
     "height": 34
    },
    "colab_type": "code",
    "id": "SQKlRZ8KmYDl",
    "outputId": "74a0b0a0-ab8c-4644-880b-6ce5893987ff"
   }
  },
  {
   "cell_type": "markdown",
   "source": [
    "To do integer division, we use two backslashes:"
   ],
   "metadata": {
    "colab_type": "text",
    "id": "DOmfK0WWmb2V"
   }
  },
  {
   "cell_type": "code",
   "execution_count": null,
   "source": [
    "5 // 2"
   ],
   "outputs": [],
   "metadata": {
    "colab": {
     "base_uri": "https://localhost:8080/",
     "height": 34
    },
    "colab_type": "code",
    "id": "UUg1MjiPmgNX",
    "outputId": "1c3d20a9-1f86-4aa8-cda9-4f6de790b583"
   }
  },
  {
   "cell_type": "markdown",
   "source": [
    "### No xrange"
   ],
   "metadata": {
    "colab_type": "text",
    "id": "zeH5501nmh7W"
   }
  },
  {
   "cell_type": "markdown",
   "source": [
    "The xrange from Python 2 is now merged into \"range\" for Python 3 and there is no xrange in Python 3. In Python 3, range(3) does not create a list of 3 elements as it would in Python 2, rather just creates a more memory efficient iterator.\n",
    "\n",
    "Hence,  \n",
    "xrange in Python 3: Does not exist  \n",
    "range in Python 3: Has very similar behavior to Python 2's xrange"
   ],
   "metadata": {
    "colab_type": "text",
    "id": "3wNKyyilmkMy"
   }
  },
  {
   "cell_type": "code",
   "execution_count": null,
   "source": [
    "for i in range(3):\r\n",
    "    print(i)"
   ],
   "outputs": [],
   "metadata": {
    "colab": {
     "base_uri": "https://localhost:8080/",
     "height": 68
    },
    "colab_type": "code",
    "id": "dP8Dk9PAmnQh",
    "outputId": "df2b4f3d-2ff3-4cb3-ff6e-1364d7aae8d6"
   }
  },
  {
   "cell_type": "code",
   "execution_count": null,
   "source": [
    "range(3)"
   ],
   "outputs": [],
   "metadata": {
    "colab": {
     "base_uri": "https://localhost:8080/",
     "height": 34
    },
    "colab_type": "code",
    "id": "6SKbKDgLmqd-",
    "outputId": "dd00126e-d3dd-41fb-c3f8-4d761a9451ff"
   }
  },
  {
   "cell_type": "code",
   "execution_count": null,
   "source": [
    "# If need be, can use the following to get a similar behavior to Python 2's range:\r\n",
    "print(list(range(3)))"
   ],
   "outputs": [],
   "metadata": {
    "colab": {
     "base_uri": "https://localhost:8080/",
     "height": 34
    },
    "colab_type": "code",
    "id": "Wm_VcW3VmsSD",
    "outputId": "60a5e0ef-ff4a-457a-c16d-ce395f03913b"
   }
  },
  {
   "cell_type": "markdown",
   "source": [
    "# PyTorch"
   ],
   "metadata": {
    "colab_type": "text",
    "id": "1MEmHrgBsgX4"
   }
  },
  {
   "cell_type": "markdown",
   "source": [
    "[PyTorch](https://pytorch.org/) is an open source machine learning framework. At its core, PyTorch provides a few key features:\n",
    "\n",
    "- A multidimensional **Tensor** object, similar to [numpy](https://numpy.org/) but with GPU accelleration.\n",
    "- An optimized **autograd** engine for automatically computing derivatives\n",
    "- A clean, modular API for building and deploying **deep learning models**\n",
    "\n",
    "We will use PyTorch for all programming assignments throughout the semester. This notebook will focus on the **Tensor API**, as it is the main part of PyTorch that we will use for the first few assignments.\n",
    "\n",
    "You can find more information about PyTorch by following one of the [oficial tutorials](https://pytorch.org/tutorials/) or by [reading the documentation](https://pytorch.org/docs/stable/)."
   ],
   "metadata": {
    "colab_type": "text",
    "id": "c3e_Nux0siHo"
   }
  },
  {
   "cell_type": "markdown",
   "source": [
    "To use PyTorch, we first need to import the `torch` package.\n",
    "\n",
    "We also check the version; the assignments in this course will use PyTorch verion 1.6.0, since this is the default version in Google Colab."
   ],
   "metadata": {
    "colab_type": "text",
    "id": "zdiO3_y-vKQ9"
   }
  },
  {
   "cell_type": "code",
   "execution_count": 1,
   "source": [
    "import torch\r\n",
    "print(torch.__version__)"
   ],
   "outputs": [
    {
     "output_type": "stream",
     "name": "stdout",
     "text": [
      "1.8.1+cpu\n"
     ]
    }
   ],
   "metadata": {
    "colab": {
     "base_uri": "https://localhost:8080/",
     "height": 34
    },
    "colab_type": "code",
    "id": "sydFm14itrqq",
    "outputId": "9cd6cf03-6f60-4773-e4bc-d6c2ea0eb035"
   }
  },
  {
   "cell_type": "markdown",
   "source": [
    "## Tensor Basics"
   ],
   "metadata": {
    "colab_type": "text",
    "id": "HrBSx6hYu8ca"
   }
  },
  {
   "cell_type": "markdown",
   "source": [
    "### Creating and Accessing tensors"
   ],
   "metadata": {
    "colab_type": "text",
    "id": "LWagwmXuvIle"
   }
  },
  {
   "cell_type": "markdown",
   "source": [
    "A `torch` **tensor** is a multidimensional grid of values, all of the same type, and is indexed by a tuple of nonnegative integers. The number of dimensions is the **rank** of the tensor; the **shape** of a tensor is a tuple of integers giving the size of the array along each dimension.\r\n",
    "\r\n",
    "We can initialize `torch` tensor from nested Python lists. We can access or mutate elements of a PyTorch tensor using square brackets.\r\n",
    "\r\n",
    "Accessing an element from a PyTorch tensor returns a PyTorch scalar; we can convert this to a Python scalar using the `.item()` method:"
   ],
   "metadata": {
    "colab_type": "text",
    "id": "Bf_SY4RzvAh_"
   }
  },
  {
   "cell_type": "code",
   "execution_count": 2,
   "source": [
    "# Create a rank 1 tensor from a Python list\r\n",
    "a = torch.tensor([1, 2, 3])\r\n",
    "print('Here is a:')\r\n",
    "print(a)\r\n",
    "print('type(a): ', type(a))\r\n",
    "print('rank of a: ', a.dim())\r\n",
    "print('a.shape: ', a.shape)\r\n",
    "\r\n",
    "# Access elements using square brackets\r\n",
    "print()\r\n",
    "print('a[0]: ', a[0])\r\n",
    "print('type(a[0]): ', type(a[0]))\r\n",
    "print('type(a[0].item()): ', type(a[0].item()))\r\n",
    "\r\n",
    "# Mutate elements using square brackets\r\n",
    "a[1] = 10\r\n",
    "print()\r\n",
    "print('a after mutating:')\r\n",
    "print(a)"
   ],
   "outputs": [
    {
     "output_type": "stream",
     "name": "stdout",
     "text": [
      "Here is a:\n",
      "tensor([1, 2, 3])\n",
      "type(a):  <class 'torch.Tensor'>\n",
      "rank of a:  1\n",
      "a.shape:  torch.Size([3])\n",
      "\n",
      "a[0]:  tensor(1)\n",
      "type(a[0]):  <class 'torch.Tensor'>\n",
      "type(a[0].item()):  <class 'int'>\n",
      "\n",
      "a after mutating:\n",
      "tensor([ 1, 10,  3])\n"
     ]
    }
   ],
   "metadata": {
    "colab": {
     "base_uri": "https://localhost:8080/",
     "height": 221
    },
    "colab_type": "code",
    "id": "IpwfVUvPu_lF",
    "outputId": "225aa9c5-d19e-43ba-ff93-de7a4cb1627c"
   }
  },
  {
   "cell_type": "markdown",
   "source": [
    "The example above shows a one-dimensional tensor; we can similarly create tensors with two or more dimensions:"
   ],
   "metadata": {
    "colab_type": "text",
    "id": "FZq4zsnLEgXH"
   }
  },
  {
   "cell_type": "code",
   "execution_count": 5,
   "source": [
    "# Create a two-dimensional tensor\r\n",
    "b = torch.tensor([[1, 2, 3], [4, 5, 5]])\r\n",
    "print('Here is b:')\r\n",
    "print(b)\r\n",
    "print('rank of b:', b.dim())\r\n",
    "print('b.shape: ', b.shape)\r\n",
    "\r\n",
    "# Access elements from a multidimensional tensor\r\n",
    "print()\r\n",
    "print('b[0, 1]:', b[0, 1])\r\n",
    "print('b[1, 2]:', b[1, 2])\r\n",
    "\r\n",
    "# Mutate elements of a multidimensional tensor\r\n",
    "b[1, 1] = 100\r\n",
    "print()\r\n",
    "print('b after mutating:')\r\n",
    "print(b)"
   ],
   "outputs": [
    {
     "output_type": "stream",
     "name": "stdout",
     "text": [
      "Here is b:\n",
      "tensor([[1, 2, 3],\n",
      "        [4, 5, 5]])\n",
      "rank of b: 2\n",
      "b.shape:  torch.Size([2, 3])\n",
      "\n",
      "b[0, 1]: tensor(2)\n",
      "b[1, 2]: tensor(5)\n",
      "\n",
      "b after mutating:\n",
      "tensor([[  1,   2,   3],\n",
      "        [  4, 100,   5]])\n"
     ]
    }
   ],
   "metadata": {
    "colab": {
     "base_uri": "https://localhost:8080/",
     "height": 221
    },
    "colab_type": "code",
    "id": "7TcvHxpTFUcL",
    "outputId": "5a32ca36-bcba-435d-e16d-09c60d72939a"
   }
  },
  {
   "cell_type": "markdown",
   "source": [
    "Now it's **your turn**. In the file `pytorch101.py`, complete the implementation of the functions `create_sample_tensor`, `mutate_tensor`, and `count_tensor_elements` to practice constructing, mutating, and thinking about the shapes of tensors."
   ],
   "metadata": {
    "colab_type": "text",
    "id": "BBOsvh53GXa8"
   }
  },
  {
   "cell_type": "code",
   "execution_count": 1,
   "source": [
    "from pytorch101 import create_sample_tensor, mutate_tensor, count_tensor_elements\r\n",
    "\r\n",
    "# Create a sample tensor\r\n",
    "x = create_sample_tensor()\r\n",
    "print('Here is the sample tensor:')\r\n",
    "print(x)\r\n",
    "\r\n",
    "# Mutate the tensor by setting a few elements\r\n",
    "indices = [(0, 0), (1, 0), (1, 1)]\r\n",
    "values = [4, 5, 6]\r\n",
    "mutate_tensor(x, indices, values)\r\n",
    "print('\\nAfter mutating:')\r\n",
    "print(x)\r\n",
    "print('\\nCorrect shape: ', x.shape == (3, 2))\r\n",
    "print('x[0, 0] correct: ', x[0, 0].item() == 4)\r\n",
    "print('x[1, 0] correct: ', x[1, 0].item() == 5)\r\n",
    "print('x[1, 1] correct: ', x[1, 1].item() == 6)\r\n",
    "\r\n",
    "# Check the number of elements in the sample tensor\r\n",
    "num = count_tensor_elements(x)\r\n",
    "print('\\nNumber of elements in x: ', num)\r\n",
    "print('Correctly counted: ', num == 6)"
   ],
   "outputs": [
    {
     "output_type": "stream",
     "name": "stdout",
     "text": [
      "Here is the sample tensor:\n",
      "tensor([[0., 0.],\n",
      "        [0., 0.],\n",
      "        [0., 0.]])\n",
      "\n",
      "After mutating:\n",
      "tensor([[4., 0.],\n",
      "        [5., 6.],\n",
      "        [0., 0.]])\n",
      "\n",
      "Correct shape:  True\n",
      "x[0, 0] correct:  True\n",
      "x[1, 0] correct:  True\n",
      "x[1, 1] correct:  True\n",
      "\n",
      "Number of elements in x:  6\n",
      "Correctly counted:  True\n"
     ]
    }
   ],
   "metadata": {
    "colab": {
     "base_uri": "https://localhost:8080/",
     "height": 306
    },
    "colab_type": "code",
    "id": "zjCIUzbaVTPs",
    "outputId": "b45e121a-0b85-4956-c901-d7f42eca46b0"
   }
  },
  {
   "cell_type": "markdown",
   "source": [
    "### Tensor constructors"
   ],
   "metadata": {
    "colab_type": "text",
    "id": "Yz_VDA3IvP33"
   }
  },
  {
   "cell_type": "markdown",
   "source": [
    "PyTorch provides many convenience methods for constructing tensors; this avoids the need to use Python lists. For example:\n",
    "\n",
    "- [`torch.zeros`](https://pytorch.org/docs/1.1.0/torch.html#torch.zeros): Creates a tensor of all zeros\n",
    "- [`torch.ones`](https://pytorch.org/docs/1.1.0/torch.html#torch.ones): Creates a tensor of all ones\n",
    "- [`torch.rand`](https://pytorch.org/docs/1.1.0/torch.html#torch.rand): Creates a tensor with uniform random numbers\n",
    "\n",
    "You can find a full list of tensor creation operations [in the documentation](https://pytorch.org/docs/stable/torch.html#creation-ops)."
   ],
   "metadata": {
    "colab_type": "text",
    "id": "BoAlslEdwV-k"
   }
  },
  {
   "cell_type": "code",
   "execution_count": 2,
   "source": [
    "import torch\r\n",
    "# Create a tensor of all zeros\r\n",
    "a = torch.zeros(2, 3)\r\n",
    "print('tensor of zeros:')\r\n",
    "print(a)\r\n",
    "\r\n",
    "# Create a tensor of all ones\r\n",
    "b = torch.ones(1, 2)\r\n",
    "print('\\ntensor of ones:')\r\n",
    "print(b)\r\n",
    "\r\n",
    "# Create a 3x3 identity matrix\r\n",
    "c = torch.eye(3)\r\n",
    "print('\\nidentity matrix:')\r\n",
    "print(c)\r\n",
    "\r\n",
    "# Tensor of random values\r\n",
    "d = torch.rand((4, 5))\r\n",
    "print('\\nrandom tensor:')\r\n",
    "print(d)"
   ],
   "outputs": [
    {
     "output_type": "stream",
     "name": "stdout",
     "text": [
      "tensor of zeros:\n",
      "tensor([[0., 0., 0.],\n",
      "        [0., 0., 0.]])\n",
      "\n",
      "tensor of ones:\n",
      "tensor([[1., 1.]])\n",
      "\n",
      "identity matrix:\n",
      "tensor([[1., 0., 0.],\n",
      "        [0., 1., 0.],\n",
      "        [0., 0., 1.]])\n",
      "\n",
      "random tensor:\n",
      "tensor([[0.2148, 0.3269, 0.0878, 0.6339, 0.7542],\n",
      "        [0.1968, 0.1233, 0.8584, 0.9511, 0.6058],\n",
      "        [0.6593, 0.5845, 0.6068, 0.9686, 0.8760],\n",
      "        [0.2852, 0.4888, 0.8866, 0.7046, 0.8390]])\n"
     ]
    }
   ],
   "metadata": {
    "colab": {
     "base_uri": "https://localhost:8080/",
     "height": 306
    },
    "colab_type": "code",
    "id": "FL6DXGXzxHBA",
    "outputId": "f8e6b805-ace4-4e9c-ff1d-8e0150fdf8f2"
   }
  },
  {
   "cell_type": "markdown",
   "source": [
    "**Your turn**: In the file `pytorch101.py`, complete the implementation of `create_tensor_of_pi` to practice using a tensor constructor.\n",
    "\n",
    "Hint: [`torch.full`](https://pytorch.org/docs/stable/generated/torch.full.html#torch.full)"
   ],
   "metadata": {
    "colab_type": "text",
    "id": "y9QuvWYxMsoK"
   }
  },
  {
   "cell_type": "code",
   "execution_count": 4,
   "source": [
    "from pytorch101 import create_tensor_of_pi\r\n",
    "\r\n",
    "x = create_tensor_of_pi(4, 5)\r\n",
    "\r\n",
    "print('x is a tensor:', torch.is_tensor(x))\r\n",
    "print('x has correct shape: ', x.shape == (4, 5))\r\n",
    "print('x is filled with sevens: ', (x == 3.14).all().item() == 1)"
   ],
   "outputs": [
    {
     "output_type": "stream",
     "name": "stdout",
     "text": [
      "x is a tensor: True\n",
      "x has correct shape:  True\n",
      "x is filled with sevens:  True\n"
     ]
    }
   ],
   "metadata": {
    "colab": {
     "base_uri": "https://localhost:8080/",
     "height": 68
    },
    "colab_type": "code",
    "id": "N_y7Z5I0NIaA",
    "outputId": "dd07e76b-dc46-43dc-b5ce-9b3942c193ef"
   }
  },
  {
   "cell_type": "markdown",
   "source": [
    "### Datatypes"
   ],
   "metadata": {
    "colab_type": "text",
    "id": "Rz_hiJD33fu1"
   }
  },
  {
   "cell_type": "markdown",
   "source": [
    "In the examples above, you may have noticed that some of our tensors contained floating-point values, while others contained integer values.\n",
    "\n",
    "PyTorch provides a [large set of numeric datatypes](https://pytorch.org/docs/stable/tensor_attributes.html#torch.torch.dtype) that you can use to construct tensors. PyTorch tries to guess a datatype when you create a tensor; functions that construct tensors typically have a `dtype` argument that you can use to explicitly specify a datatype.\n",
    "\n",
    "Each tensor has a `dtype` attribute that you can use to check its data type:"
   ],
   "metadata": {
    "colab_type": "text",
    "id": "GG1xBunZ3ixx"
   }
  },
  {
   "cell_type": "code",
   "execution_count": 5,
   "source": [
    "# Let torch choose the datatype\r\n",
    "x0 = torch.tensor([1, 2])   # List of integers\r\n",
    "x1 = torch.tensor([1., 2.]) # List of floats\r\n",
    "x2 = torch.tensor([1., 2])  # Mixed list\r\n",
    "print('dtype when torch chooses for us:')\r\n",
    "print('List of integers:', x0.dtype)\r\n",
    "print('List of floats:', x1.dtype)\r\n",
    "print('Mixed list:', x2.dtype)\r\n",
    "\r\n",
    "# Force a particular datatype\r\n",
    "y0 = torch.tensor([1, 2], dtype=torch.float32)  # 32-bit float\r\n",
    "y1 = torch.tensor([1, 2], dtype=torch.int32)    # 32-bit (signed) integer\r\n",
    "y2 = torch.tensor([1, 2], dtype=torch.int64)    # 64-bit (signed) integer\r\n",
    "print('\\ndtype when we force a datatype:')\r\n",
    "print('32-bit float: ', y0.dtype)\r\n",
    "print('32-bit integer: ', y1.dtype)\r\n",
    "print('64-bit integer: ', y2.dtype)\r\n",
    "\r\n",
    "# Other creation ops also take a dtype argument\r\n",
    "z0 = torch.ones(1, 2)  # Let torch choose for us\r\n",
    "z1 = torch.ones(1, 2, dtype=torch.int16) # 16-bit (signed) integer\r\n",
    "z2 = torch.ones(1, 2, dtype=torch.uint8) # 8-bit (unsigned) integer\r\n",
    "print('\\ntorch.ones with different dtypes')\r\n",
    "print('default dtype:', z0.dtype)\r\n",
    "print('16-bit integer:', z1.dtype)\r\n",
    "print('8-bit unsigned integer:', z2.dtype)"
   ],
   "outputs": [
    {
     "output_type": "stream",
     "name": "stdout",
     "text": [
      "dtype when torch chooses for us:\n",
      "List of integers: torch.int64\n",
      "List of floats: torch.float32\n",
      "Mixed list: torch.float32\n",
      "\n",
      "dtype when we force a datatype:\n",
      "32-bit float:  torch.float32\n",
      "32-bit integer:  torch.int32\n",
      "64-bit integer:  torch.int64\n",
      "\n",
      "torch.ones with different dtypes\n",
      "default dtype: torch.float32\n",
      "16-bit integer: torch.int16\n",
      "8-bit unsigned integer: torch.uint8\n"
     ]
    }
   ],
   "metadata": {
    "colab": {
     "base_uri": "https://localhost:8080/",
     "height": 255
    },
    "colab_type": "code",
    "id": "vREVDf_n31Qz",
    "outputId": "0fe6ec3a-bf37-40fd-900b-3328402264e3"
   }
  },
  {
   "cell_type": "markdown",
   "source": [
    "We can **cast** a tensor to another datatype using the [`.to()`](https://pytorch.org/docs/1.1.0/tensors.html#torch.Tensor.to) method; there are also convenience methods like [`.float()`](https://pytorch.org/docs/1.1.0/tensors.html#torch.Tensor.float) and [`.long()`](https://pytorch.org/docs/1.1.0/tensors.html#torch.Tensor.long) that cast to particular datatypes:\n"
   ],
   "metadata": {
    "colab_type": "text",
    "id": "W2reBgQmx_x4"
   }
  },
  {
   "cell_type": "code",
   "execution_count": 6,
   "source": [
    "x0 = torch.eye(3, dtype=torch.int64)\r\n",
    "x1 = x0.float()  # Cast to 32-bit float\r\n",
    "x2 = x0.double() # Cast to 64-bit float\r\n",
    "x3 = x0.to(torch.float32) # Alternate way to cast to 32-bit float\r\n",
    "x4 = x0.to(torch.float64) # Alternate way to cast to 64-bit float\r\n",
    "print('x0:', x0.dtype)\r\n",
    "print('x1:', x1.dtype)\r\n",
    "print('x2:', x2.dtype)\r\n",
    "print('x3:', x3.dtype)\r\n",
    "print('x4:', x4.dtype)"
   ],
   "outputs": [
    {
     "output_type": "stream",
     "name": "stdout",
     "text": [
      "x0: torch.int64\n",
      "x1: torch.float32\n",
      "x2: torch.float64\n",
      "x3: torch.float32\n",
      "x4: torch.float64\n"
     ]
    }
   ],
   "metadata": {
    "colab": {
     "base_uri": "https://localhost:8080/",
     "height": 102
    },
    "colab_type": "code",
    "id": "sAMpwGsdyHAw",
    "outputId": "c7827373-3b14-4e5b-dddc-c32823eaac10"
   }
  },
  {
   "cell_type": "markdown",
   "source": [
    "PyTorch provides several ways to create a tensor with the same datatype as another tensor:\n",
    "\n",
    "- PyTorch provides tensor constructors such as [`torch.zeros_like()`](https://pytorch.org/docs/stable/generated/torch.zeros_like.html#torch.zeros_like) that create new tensors with the same shape and type as a given tensor\n",
    "- Tensor objects have instance methods such as [`.new_zeros()`](https://pytorch.org/docs/stable/tensors.html#torch.Tensor.new_zeros) that create tensors the same type but possibly different shapes\n",
    "- The tensor instance method [`.to()`](https://pytorch.org/docs/stable/tensors.html#torch.Tensor.to) can take a tensor as an argument, in which case it casts to the datatype of the argument."
   ],
   "metadata": {
    "colab_type": "text",
    "id": "k2O8Atl1wMB7"
   }
  },
  {
   "cell_type": "code",
   "execution_count": 5,
   "source": [
    "x0 = torch.eye(3, dtype=torch.float64)  # Shape (3, 3), dtype torch.float64\r\n",
    "x1 = torch.zeros_like(x0)               # Shape (3, 3), dtype torch.float64\r\n",
    "x2 = x0.new_zeros(4, 5)                 # Shape (4, 5), dtype torch.float64\r\n",
    "x3 = torch.ones(6, 7).to(x0)            # Shape (6, 7), dtype torch.float64)\r\n",
    "print('x0 shape is %r, dtype is %r' % (x0.shape, x0.dtype))\r\n",
    "print('x1 shape is %r, dtype is %r' % (x1.shape, x1.dtype))\r\n",
    "print('x2 shape is %r, dtype is %r' % (x2.shape, x2.dtype))\r\n",
    "print('x3 shape is %r, dtype is %r' % (x3.shape, x3.dtype))"
   ],
   "outputs": [
    {
     "output_type": "stream",
     "name": "stdout",
     "text": [
      "x0 shape is torch.Size([3, 3]), dtype is torch.float64\n",
      "x1 shape is torch.Size([3, 3]), dtype is torch.float64\n",
      "x2 shape is torch.Size([4, 5]), dtype is torch.float64\n",
      "x3 shape is torch.Size([6, 7]), dtype is torch.float64\n"
     ]
    }
   ],
   "metadata": {
    "colab": {
     "base_uri": "https://localhost:8080/",
     "height": 85
    },
    "colab_type": "code",
    "id": "1APDsx54xV6p",
    "outputId": "cf885f43-3aec-4236-9ad0-c0a50a8f1892"
   }
  },
  {
   "cell_type": "markdown",
   "source": [
    "**Your turn**: In the file `pytorch101.py`, implement the function `multiples_of_ten` which should create and return a tensor of dtype `torch.float64` containing all the multiples of ten in a given range.\n",
    "\n",
    "Hint: [`torch.arange`](https://pytorch.org/docs/stable/generated/torch.arange.html#torch.arange)"
   ],
   "metadata": {
    "colab_type": "text",
    "id": "OPuGPa0v4h_2"
   }
  },
  {
   "cell_type": "code",
   "execution_count": 2,
   "source": [
    "import torch\r\n",
    "from pytorch101 import multiples_of_ten\r\n",
    "\r\n",
    "start = 5\r\n",
    "stop = 25\r\n",
    "x = multiples_of_ten(start, stop)\r\n",
    "print('Correct dtype: ', x.dtype == torch.float64)\r\n",
    "print('Correct shape: ', x.shape == (2,))\r\n",
    "print('Correct values: ', x.tolist() == [10, 20])\r\n",
    "\r\n",
    "# If there are no multiples of ten in the given range you should return an empty tensor\r\n",
    "start = 5\r\n",
    "stop = 7\r\n",
    "x = multiples_of_ten(start, stop)\r\n",
    "print('\\nCorrect dtype: ', x.dtype == torch.float64)\r\n",
    "print('Correct shape: ', x.shape == (0,))"
   ],
   "outputs": [
    {
     "output_type": "stream",
     "name": "stdout",
     "text": [
      "Correct dtype:  True\n",
      "Correct shape:  True\n",
      "Correct values:  True\n",
      "\n",
      "Correct dtype:  True\n",
      "Correct shape:  True\n"
     ]
    }
   ],
   "metadata": {
    "colab": {
     "base_uri": "https://localhost:8080/",
     "height": 119
    },
    "colab_type": "code",
    "id": "Qddo6C5Bgwcr",
    "outputId": "b648a8a7-0c0a-4826-9271-3b568624eac5"
   }
  },
  {
   "cell_type": "markdown",
   "source": [
    "Even though PyTorch provides a large number of numeric datatypes, the most commonly used datatypes are:\n",
    "\n",
    "- `torch.float32`: Standard floating-point type; used to store learnable parameters, network activations, etc. Nearly all arithmetic is done using this type.\n",
    "- `torch.int64`: Typically used to store indices\n",
    "- `torch.bool`: Stores boolean values: 0 is false and 1 is true\n",
    "- `torch.float16`: Used for mixed-precision arithmetic, usually on NVIDIA GPUs with [tensor cores](https://www.nvidia.com/en-us/data-center/tensorcore/). You won't need to worry about this datatype in this course."
   ],
   "metadata": {
    "colab_type": "text",
    "id": "RwJL3HVySvXn"
   }
  },
  {
   "cell_type": "markdown",
   "source": [
    "## Tensor indexing"
   ],
   "metadata": {
    "colab_type": "text",
    "id": "rlANfnILvX3S"
   }
  },
  {
   "cell_type": "markdown",
   "source": [
    "We have already seen how to get and set individual elements of PyTorch tensors. PyTorch also provides many other ways of indexing into tensors. Getting comfortable with these different options makes it easy to modify different parts of tensors with ease."
   ],
   "metadata": {
    "colab_type": "text",
    "id": "KP4dRrHhyLO5"
   }
  },
  {
   "cell_type": "markdown",
   "source": [
    "### Slice indexing"
   ],
   "metadata": {
    "colab_type": "text",
    "id": "mo-PoTWNvbba"
   }
  },
  {
   "cell_type": "markdown",
   "source": [
    "Similar to Python lists and numpy arrays, PyTorch tensors can be **sliced** using the syntax `start:stop` or `start:stop:step`. The `stop` index is always non-inclusive: it is the first element not to be included in the slice.\n",
    "\n",
    "Start and stop indices can be negative, in which case they count backward from the end of the tensor."
   ],
   "metadata": {
    "colab_type": "text",
    "id": "qUqTYvglyVLc"
   }
  },
  {
   "cell_type": "code",
   "execution_count": 3,
   "source": [
    "a = torch.tensor([0, 11, 22, 33, 44, 55, 66])\r\n",
    "print(0, a)        # (0) Original tensor\r\n",
    "print(1, a[2:5])   # (1) Elements between index 2 and 5\r\n",
    "print(2, a[2:])    # (2) Elements after index 2\r\n",
    "print(3, a[:5])    # (3) Elements before index 5\r\n",
    "print(4, a[:])     # (4) All elements\r\n",
    "print(5, a[1:5:2]) # (5) Every second element between indices 1 and 5\r\n",
    "print(6, a[:-1])   # (6) All but the last element\r\n",
    "print(7, a[-4::2]) # (7) Every second element, starting from the fourth-last"
   ],
   "outputs": [
    {
     "output_type": "stream",
     "name": "stdout",
     "text": [
      "0 tensor([ 0, 11, 22, 33, 44, 55, 66])\n",
      "1 tensor([22, 33, 44])\n",
      "2 tensor([22, 33, 44, 55, 66])\n",
      "3 tensor([ 0, 11, 22, 33, 44])\n",
      "4 tensor([ 0, 11, 22, 33, 44, 55, 66])\n",
      "5 tensor([11, 33])\n",
      "6 tensor([ 0, 11, 22, 33, 44, 55])\n",
      "7 tensor([33, 55])\n"
     ]
    }
   ],
   "metadata": {
    "colab": {
     "base_uri": "https://localhost:8080/",
     "height": 153
    },
    "colab_type": "code",
    "id": "yEr5BzdUdCtZ",
    "outputId": "625e2a90-361f-4057-a81b-96e54658ae0c"
   }
  },
  {
   "cell_type": "markdown",
   "source": [
    "For multidimensional tensors, you can provide a slice or integer for each dimension of the tensor in order to extract different types of subtensors:"
   ],
   "metadata": {
    "colab_type": "text",
    "id": "yrcr9PojgTS1"
   }
  },
  {
   "cell_type": "code",
   "execution_count": 4,
   "source": [
    "# Create the following rank 2 tensor with shape (3, 4)\r\n",
    "# [[ 1  2  3  4]\r\n",
    "#  [ 5  6  7  8]\r\n",
    "#  [ 9 10 11 12]]\r\n",
    "a = torch.tensor([[1,2,3,4], [5,6,7,8], [9,10,11,12]])\r\n",
    "print('Original tensor:')\r\n",
    "print(a)\r\n",
    "print('shape: ', a.shape)\r\n",
    "\r\n",
    "# Get row 1, and all columns. \r\n",
    "print('\\nSingle row:')\r\n",
    "print(a[1, :])\r\n",
    "print(a[1])  # Gives the same result; we can omit : for trailing dimensions\r\n",
    "print('shape: ', a[1].shape)\r\n",
    "\r\n",
    "print('\\nSingle column:')\r\n",
    "print(a[:, 1])\r\n",
    "print('shape: ', a[:, 1].shape)\r\n",
    "\r\n",
    "# Get the first two rows and the last three columns\r\n",
    "print('\\nFirst two rows, last two columns:')\r\n",
    "print(a[:2, -3:])\r\n",
    "print('shape: ', a[:2, -3:].shape)\r\n",
    "\r\n",
    "# Get every other row, and columns at index 1 and 2\r\n",
    "print('\\nEvery other row, middle columns:')\r\n",
    "print(a[::2, 1:3])\r\n",
    "print('shape: ', a[::2, 1:3].shape)"
   ],
   "outputs": [
    {
     "output_type": "stream",
     "name": "stdout",
     "text": [
      "Original tensor:\n",
      "tensor([[ 1,  2,  3,  4],\n",
      "        [ 5,  6,  7,  8],\n",
      "        [ 9, 10, 11, 12]])\n",
      "shape:  torch.Size([3, 4])\n",
      "\n",
      "Single row:\n",
      "tensor([5, 6, 7, 8])\n",
      "tensor([5, 6, 7, 8])\n",
      "shape:  torch.Size([4])\n",
      "\n",
      "Single column:\n",
      "tensor([ 2,  6, 10])\n",
      "shape:  torch.Size([3])\n",
      "\n",
      "First two rows, last two columns:\n",
      "tensor([[2, 3, 4],\n",
      "        [6, 7, 8]])\n",
      "shape:  torch.Size([2, 3])\n",
      "\n",
      "Every other row, middle columns:\n",
      "tensor([[ 2,  3],\n",
      "        [10, 11]])\n",
      "shape:  torch.Size([2, 2])\n"
     ]
    }
   ],
   "metadata": {
    "colab": {
     "base_uri": "https://localhost:8080/",
     "height": 425
    },
    "colab_type": "code",
    "id": "S5fOdjTUyhNf",
    "outputId": "004af7cd-e612-4711-ae72-c9eae663a24c"
   }
  },
  {
   "cell_type": "markdown",
   "source": [
    "There are two common ways to access a single row or column of a tensor: using an integer will reduce the rank by one, and using a length-one slice will keep the same rank. Note that this is different behavior from MATLAB."
   ],
   "metadata": {
    "colab_type": "text",
    "id": "gOsR8Pdertku"
   }
  },
  {
   "cell_type": "code",
   "execution_count": null,
   "source": [
    "# Create the following rank 2 tensor with shape (3, 4)\r\n",
    "a = torch.tensor([[1,2,3,4], [5,6,7,8], [9,10,11,12]])\r\n",
    "print('Original tensor')\r\n",
    "print(a)\r\n",
    "\r\n",
    "row_r1 = a[1, :]    # Rank 1 view of the second row of a  \r\n",
    "row_r2 = a[1:2, :]  # Rank 2 view of the second row of a\r\n",
    "print('\\nTwo ways of accessing a single row:')\r\n",
    "print(row_r1, row_r1.shape)\r\n",
    "print(row_r2, row_r2.shape)\r\n",
    "\r\n",
    "# We can make the same distinction when accessing columns::\r\n",
    "col_r1 = a[:, 1]\r\n",
    "col_r2 = a[:, 1:2]\r\n",
    "print('\\nTwo ways of accessing a single column:')\r\n",
    "print(col_r1, col_r1.shape)\r\n",
    "print(col_r2, col_r2.shape)"
   ],
   "outputs": [],
   "metadata": {
    "colab": {
     "base_uri": "https://localhost:8080/",
     "height": 255
    },
    "colab_type": "code",
    "id": "P1kHcc5jsF-c",
    "outputId": "096907d3-0871-4dbb-96d7-e824d06e7d88"
   }
  },
  {
   "cell_type": "markdown",
   "source": [
    "Slicing a tensor returns a **view** into the same data, so modifying it will also modify the original tensor. To avoid this, you can use the `clone()` method to make a copy of a tensor."
   ],
   "metadata": {
    "colab_type": "text",
    "id": "Jk625fJfyxV8"
   }
  },
  {
   "cell_type": "code",
   "execution_count": null,
   "source": [
    "# Create a tensor, a slice, and a clone of a slice\r\n",
    "a = torch.tensor([[1, 2, 3, 4], [5, 6, 7, 8]])\r\n",
    "b = a[0, 1:]\r\n",
    "c = a[0, 1:].clone()\r\n",
    "print('Before mutating:')\r\n",
    "print(a)\r\n",
    "print(b)\r\n",
    "print(c)\r\n",
    "\r\n",
    "a[0, 1] = 20  # a[0, 1] and b[0] point to the same element\r\n",
    "b[1] = 30     # b[1] and a[0, 2] point to the same element\r\n",
    "c[2] = 40     # c is a clone, so it has its own data\r\n",
    "print('\\nAfter mutating:')\r\n",
    "print(a)\r\n",
    "print(b)\r\n",
    "print(c)\r\n",
    "\r\n",
    "print(a.storage().data_ptr() == c.storage().data_ptr())"
   ],
   "outputs": [],
   "metadata": {
    "colab": {
     "base_uri": "https://localhost:8080/",
     "height": 221
    },
    "colab_type": "code",
    "id": "IXbikYPwyxGA",
    "outputId": "be7d4881-0a65-49c8-dbf3-d49064414bf9"
   }
  },
  {
   "cell_type": "markdown",
   "source": [
    "**Your turn**: In the file `pytorch101.py`, implement the function `slice_indexing_practice` to practice indexing tensors with different types of slices."
   ],
   "metadata": {
    "colab_type": "text",
    "id": "5t5omyKwm9dB"
   }
  },
  {
   "cell_type": "code",
   "execution_count": 3,
   "source": [
    "# We will use this helper function to check your results\r\n",
    "def check(orig, actual, expected):\r\n",
    "    if not torch.is_tensor(actual):\r\n",
    "        return False\r\n",
    "    expected = torch.tensor(expected)\r\n",
    "    same_elements = (actual == expected).all().item()\r\n",
    "    same_storage = (orig.storage().data_ptr() == actual.storage().data_ptr())\r\n",
    "    return same_elements and same_storage"
   ],
   "outputs": [],
   "metadata": {
    "colab": {},
    "colab_type": "code",
    "id": "yKq2mswvqMmw"
   }
  },
  {
   "cell_type": "code",
   "execution_count": 2,
   "source": [
    "from pytorch101 import slice_indexing_practice\r\n",
    "import torch\r\n",
    "\r\n",
    "# Create the following rank 2 tensor of shape (3, 5)\r\n",
    "# [[ 1  2  3  4  5]\r\n",
    "#  [ 6  7  8  9 10]\r\n",
    "#  [11 12 13 14 15]]\r\n",
    "x = torch.tensor([[1, 2, 3, 4, 5], [6, 7, 8, 8, 10], [11, 12, 13, 14, 15]])\r\n",
    "out = slice_indexing_practice(x)\r\n",
    "\r\n",
    "last_row = out[0]\r\n",
    "print('last_row:')\r\n",
    "print(last_row)\r\n",
    "correct = check(x, last_row, [11, 12, 13, 14, 15])\r\n",
    "print('Correct: %r\\n' % correct)\r\n",
    "\r\n",
    "third_col = out[1]\r\n",
    "print('third_col:')\r\n",
    "print(third_col)\r\n",
    "correct = check(x, third_col.view(3,-1), [[3], [8], [13]])\r\n",
    "print('Correct: %r\\n' % correct)\r\n",
    "\r\n",
    "first_two_rows_three_cols = out[2]\r\n",
    "print('first_two_rows_three_cols:')\r\n",
    "print(first_two_rows_three_cols)\r\n",
    "correct = check(x, first_two_rows_three_cols, [[1, 2, 3], [6, 7, 8]])\r\n",
    "print('Correct: %r\\n' % correct)\r\n",
    "\r\n",
    "even_rows_odd_cols = out[3]\r\n",
    "print('even_rows_odd_cols:')\r\n",
    "print(even_rows_odd_cols)\r\n",
    "correct = check(x, even_rows_odd_cols, [[2, 4], [12, 14]])\r\n",
    "print('Correct: %r\\n' % correct)"
   ],
   "outputs": [
    {
     "output_type": "stream",
     "name": "stdout",
     "text": [
      "last_row:\n",
      "tensor([11, 12, 13, 14, 15])\n"
     ]
    },
    {
     "output_type": "error",
     "ename": "NameError",
     "evalue": "name 'check' is not defined",
     "traceback": [
      "\u001b[1;31m---------------------------------------------------------------------------\u001b[0m",
      "\u001b[1;31mNameError\u001b[0m                                 Traceback (most recent call last)",
      "\u001b[1;32m<ipython-input-2-246014ef737b>\u001b[0m in \u001b[0;36m<module>\u001b[1;34m\u001b[0m\n\u001b[0;32m     12\u001b[0m \u001b[0mprint\u001b[0m\u001b[1;33m(\u001b[0m\u001b[1;34m'last_row:'\u001b[0m\u001b[1;33m)\u001b[0m\u001b[1;33m\u001b[0m\u001b[1;33m\u001b[0m\u001b[0m\n\u001b[0;32m     13\u001b[0m \u001b[0mprint\u001b[0m\u001b[1;33m(\u001b[0m\u001b[0mlast_row\u001b[0m\u001b[1;33m)\u001b[0m\u001b[1;33m\u001b[0m\u001b[1;33m\u001b[0m\u001b[0m\n\u001b[1;32m---> 14\u001b[1;33m \u001b[0mcorrect\u001b[0m \u001b[1;33m=\u001b[0m \u001b[0mcheck\u001b[0m\u001b[1;33m(\u001b[0m\u001b[0mx\u001b[0m\u001b[1;33m,\u001b[0m \u001b[0mlast_row\u001b[0m\u001b[1;33m,\u001b[0m \u001b[1;33m[\u001b[0m\u001b[1;36m11\u001b[0m\u001b[1;33m,\u001b[0m \u001b[1;36m12\u001b[0m\u001b[1;33m,\u001b[0m \u001b[1;36m13\u001b[0m\u001b[1;33m,\u001b[0m \u001b[1;36m14\u001b[0m\u001b[1;33m,\u001b[0m \u001b[1;36m15\u001b[0m\u001b[1;33m]\u001b[0m\u001b[1;33m)\u001b[0m\u001b[1;33m\u001b[0m\u001b[1;33m\u001b[0m\u001b[0m\n\u001b[0m\u001b[0;32m     15\u001b[0m \u001b[0mprint\u001b[0m\u001b[1;33m(\u001b[0m\u001b[1;34m'Correct: %r\\n'\u001b[0m \u001b[1;33m%\u001b[0m \u001b[0mcorrect\u001b[0m\u001b[1;33m)\u001b[0m\u001b[1;33m\u001b[0m\u001b[1;33m\u001b[0m\u001b[0m\n\u001b[0;32m     16\u001b[0m \u001b[1;33m\u001b[0m\u001b[0m\n",
      "\u001b[1;31mNameError\u001b[0m: name 'check' is not defined"
     ]
    }
   ],
   "metadata": {
    "colab": {
     "base_uri": "https://localhost:8080/",
     "height": 357
    },
    "colab_type": "code",
    "id": "5-5UtVXPVTQL",
    "outputId": "22c5e69e-2d2e-42cb-feaa-c533c91f6be2"
   }
  },
  {
   "cell_type": "markdown",
   "source": [
    "So far we have used slicing to **access** subtensors; we can also use slicing to **modify** subtensors by writing assignment expressions where the left-hand side is a slice expression, and the right-hand side is a constant or a tensor of the correct shape:"
   ],
   "metadata": {
    "colab_type": "text",
    "id": "RNjhLwb0xY2A"
   }
  },
  {
   "cell_type": "code",
   "execution_count": 3,
   "source": [
    "a = torch.zeros(2, 4, dtype=torch.int64)\r\n",
    "a[:, :2] = 1\r\n",
    "a[:, 2:] = torch.tensor([[2, 3], [4, 5]])\r\n",
    "print(a)"
   ],
   "outputs": [
    {
     "output_type": "stream",
     "name": "stdout",
     "text": [
      "tensor([[1, 1, 2, 3],\n",
      "        [1, 1, 4, 5]])\n"
     ]
    }
   ],
   "metadata": {
    "colab": {
     "base_uri": "https://localhost:8080/",
     "height": 51
    },
    "colab_type": "code",
    "id": "DFnky42Rx2I5",
    "outputId": "9c463108-a4cd-4814-8631-6a0c1604133b"
   }
  },
  {
   "cell_type": "markdown",
   "source": [
    "**Your turn**: in the file `pytorch101.py`, implement the function `slice_assignment_practice` to practice modifying tensors with slicing assignment statements.\n",
    "\n",
    "This function should use slicing assignment operations to modify the first four rows and first six columns of the input tensor so they are equal to\n",
    "\n",
    "$$\n",
    "\\begin{bmatrix}\n",
    "0 & 1 & 2 & 2 & 2 & 2 \\\\\n",
    "0 & 1 & 2 & 2 & 2 & 2 \\\\\n",
    "3 & 4 & 3 & 4 & 5 & 5 \\\\\n",
    "3 & 4 & 3 & 4 & 5 & 5 \\\\\n",
    "\\end{bmatrix}\n",
    "$$\n",
    "\n",
    "Your implementation must obey the following:\n",
    "- You should mutate the tensor x in-place and return it\n",
    "- You should only modify the first 4 rows and first 6 columns; all other\n",
    "elements should remain unchanged\n",
    "- You may only mutate the tensor using slice assignment operations, where you\n",
    "assign an integer to a slice of the tensor\n",
    "- You must use <= 6 slicing operations to achieve the desired result"
   ],
   "metadata": {
    "colab_type": "text",
    "id": "HPVCQ5HszihV"
   }
  },
  {
   "cell_type": "code",
   "execution_count": 4,
   "source": [
    "from pytorch101 import slice_assignment_practice\r\n",
    "import torch\r\n",
    "\r\n",
    "x = torch.zeros(5, 7, dtype=torch.int64)\r\n",
    "print('Here is x before calling slice_assignment_practice:')\r\n",
    "print(x)\r\n",
    "slice_assignment_practice(x)\r\n",
    "print('Here is x after calling slice assignment practice:')\r\n",
    "x[:,-1] = 0\r\n",
    "x[-1,:] = 0\r\n",
    "print(x)\r\n",
    "\r\n",
    "expected = [\r\n",
    "    [0, 1, 2, 2, 2, 2, 0],\r\n",
    "    [0, 1, 2, 2, 2, 2, 0],\r\n",
    "    [3, 4, 3, 4, 5, 5, 0],\r\n",
    "    [3, 4, 3, 4, 5, 5, 0],\r\n",
    "    [0, 0, 0, 0, 0, 0, 0],\r\n",
    "]\r\n",
    "print('Correct: ', x.tolist() == expected)"
   ],
   "outputs": [
    {
     "output_type": "stream",
     "name": "stdout",
     "text": [
      "Here is x before calling slice_assignment_practice:\n",
      "tensor([[0, 0, 0, 0, 0, 0, 0],\n",
      "        [0, 0, 0, 0, 0, 0, 0],\n",
      "        [0, 0, 0, 0, 0, 0, 0],\n",
      "        [0, 0, 0, 0, 0, 0, 0],\n",
      "        [0, 0, 0, 0, 0, 0, 0]])\n",
      "Here is x after calling slice assignment practice:\n",
      "tensor([[0, 1, 2, 2, 2, 2, 0],\n",
      "        [0, 1, 2, 2, 2, 2, 0],\n",
      "        [3, 4, 3, 4, 5, 5, 0],\n",
      "        [3, 4, 3, 4, 5, 5, 0],\n",
      "        [0, 0, 0, 0, 0, 0, 0]])\n",
      "Correct:  True\n"
     ]
    }
   ],
   "metadata": {
    "colab": {
     "base_uri": "https://localhost:8080/",
     "height": 238
    },
    "colab_type": "code",
    "id": "FzXlnFqAVTQQ",
    "outputId": "4a9f2caf-0835-45f6-e1cb-afd5f25e10ad"
   }
  },
  {
   "cell_type": "markdown",
   "source": [
    "### Integer tensor indexing"
   ],
   "metadata": {
    "colab_type": "text",
    "id": "4y93rPhGveWw"
   }
  },
  {
   "cell_type": "markdown",
   "source": [
    "When you index into torch tensor using slicing, the resulting tensor view will always be a subarray of the original tensor. This is powerful, but can be restrictive.\n",
    "\n",
    "We can also use **index arrays** to index tensors; this lets us construct new tensors with a lot more flexibility than using slices.\n",
    "\n",
    "As an example, we can use index arrays to reorder the rows or columns of a tensor:"
   ],
   "metadata": {
    "colab_type": "text",
    "id": "GlTyhjEN0AIE"
   }
  },
  {
   "cell_type": "code",
   "execution_count": 5,
   "source": [
    "# Create the following rank 2 tensor with shape (3, 4)\r\n",
    "# [[ 1  2  3  4]\r\n",
    "#  [ 5  6  7  8]\r\n",
    "#  [ 9 10 11 12]]\r\n",
    "a = torch.tensor([[1, 2, 3, 4], [5, 6, 7, 8], [9, 10, 11, 12]])\r\n",
    "print('Original tensor:')\r\n",
    "print(a)\r\n",
    "\r\n",
    "# Create a new tensor of shape (5, 4) by reordering rows from a:\r\n",
    "# - First two rows same as the first row of a\r\n",
    "# - Third row is the same as the last row of a\r\n",
    "# - Fourth and fifth rows are the same as the second row from a\r\n",
    "idx = [0, 0, 2, 1, 1]  # index arrays can be Python lists of integers\r\n",
    "print('\\nReordered rows:')\r\n",
    "print(a[idx])\r\n",
    "\r\n",
    "# Create a new tensor of shape (3, 4) by reversing the columns from a\r\n",
    "idx = torch.tensor([3, 2, 1, 0])  # Index arrays can be int64 torch tensors\r\n",
    "idx = [3, 2, 1, 0] \r\n",
    "print('\\nReordered columns:')\r\n",
    "print(a[:, idx])"
   ],
   "outputs": [
    {
     "output_type": "stream",
     "name": "stdout",
     "text": [
      "Original tensor:\n",
      "tensor([[ 1,  2,  3,  4],\n",
      "        [ 5,  6,  7,  8],\n",
      "        [ 9, 10, 11, 12]])\n",
      "\n",
      "Reordered rows:\n",
      "tensor([[ 1,  2,  3,  4],\n",
      "        [ 1,  2,  3,  4],\n",
      "        [ 9, 10, 11, 12],\n",
      "        [ 5,  6,  7,  8],\n",
      "        [ 5,  6,  7,  8]])\n",
      "\n",
      "Reordered columns:\n",
      "tensor([[ 4,  3,  2,  1],\n",
      "        [ 8,  7,  6,  5],\n",
      "        [12, 11, 10,  9]])\n"
     ]
    }
   ],
   "metadata": {
    "colab": {
     "base_uri": "https://localhost:8080/",
     "height": 289
    },
    "colab_type": "code",
    "id": "IXePPNkjM_SD",
    "outputId": "309a5e74-701b-4c8c-e7fc-70f3754ba266"
   }
  },
  {
   "cell_type": "markdown",
   "source": [
    "More generally, given index arrays `idx0` and `idx1` with `N` elements each, `a[idx0, idx1]` is equivalent to:\n",
    "\n",
    "```\n",
    "torch.tensor([\n",
    "  a[idx0[0], idx1[0]],\n",
    "  a[idx0[1], idx1[1]],\n",
    "  ...,\n",
    "  a[idx0[N - 1], idx1[N - 1]]\n",
    "])\n",
    "```\n",
    "\n",
    "(A similar pattern extends to tensors with more than two dimensions)\n",
    "\n",
    "We can for example use this to get or set the diagonal of a tensor:"
   ],
   "metadata": {
    "colab_type": "text",
    "id": "CpIBR1bCQji6"
   }
  },
  {
   "cell_type": "code",
   "execution_count": 6,
   "source": [
    "a = torch.tensor([[1, 2, 3], [4, 5, 6], [7, 8, 9]])\r\n",
    "print('Original tensor:')\r\n",
    "print(a)\r\n",
    "\r\n",
    "idx = [0, 1, 2]\r\n",
    "print('\\nGet the diagonal:')\r\n",
    "print(a[idx, idx])\r\n",
    "\r\n",
    "# Modify the diagonal\r\n",
    "a[idx, idx] = torch.tensor([11, 22, 33])\r\n",
    "print('\\nAfter setting the diagonal:')\r\n",
    "print(a)"
   ],
   "outputs": [
    {
     "output_type": "stream",
     "name": "stdout",
     "text": [
      "Original tensor:\n",
      "tensor([[1, 2, 3],\n",
      "        [4, 5, 6],\n",
      "        [7, 8, 9]])\n",
      "\n",
      "Get the diagonal:\n",
      "tensor([1, 5, 9])\n",
      "\n",
      "After setting the diagonal:\n",
      "tensor([[11,  2,  3],\n",
      "        [ 4, 22,  6],\n",
      "        [ 7,  8, 33]])\n"
     ]
    }
   ],
   "metadata": {
    "colab": {
     "base_uri": "https://localhost:8080/",
     "height": 221
    },
    "colab_type": "code",
    "id": "ocIR8R5ZSEaP",
    "outputId": "abc73d35-be7c-478c-81c4-15bbcbd434ce"
   }
  },
  {
   "cell_type": "markdown",
   "source": [
    "One useful trick with integer array indexing is selecting or mutating one element from each row or column of a matrix:"
   ],
   "metadata": {
    "colab_type": "text",
    "id": "O-cr-EqA0vfO"
   }
  },
  {
   "cell_type": "code",
   "execution_count": 7,
   "source": [
    "# Create a new tensor from which we will select elements\r\n",
    "a = torch.tensor([[1, 2, 3], [4, 5, 6], [7, 8, 9], [10, 11, 12]])\r\n",
    "print('Original tensor:')\r\n",
    "print(a)\r\n",
    "\r\n",
    "# Take on element from each row of a:\r\n",
    "# from row 0, take element 1;\r\n",
    "# from row 1, take element 2;\r\n",
    "# from row 2, take element 1;\r\n",
    "# from row 3, take element 0\r\n",
    "idx0 = torch.arange(a.shape[0])  # Quick way to build [0, 1, 2, 3]\r\n",
    "idx1 = torch.tensor([1, 2, 1, 0])\r\n",
    "print('\\nSelect one element from each row:')\r\n",
    "print(a[idx0, idx1])\r\n",
    "\r\n",
    "# Now set each of those elements to zero\r\n",
    "a[idx0, idx1] = 0\r\n",
    "print('\\nAfter modifying one element from each row:')\r\n",
    "print(a)"
   ],
   "outputs": [
    {
     "output_type": "stream",
     "name": "stdout",
     "text": [
      "Original tensor:\n",
      "tensor([[ 1,  2,  3],\n",
      "        [ 4,  5,  6],\n",
      "        [ 7,  8,  9],\n",
      "        [10, 11, 12]])\n",
      "\n",
      "Select one element from each row:\n",
      "tensor([ 2,  6,  8, 10])\n",
      "\n",
      "After modifying one element from each row:\n",
      "tensor([[ 1,  0,  3],\n",
      "        [ 4,  5,  0],\n",
      "        [ 7,  0,  9],\n",
      "        [ 0, 11, 12]])\n"
     ]
    }
   ],
   "metadata": {
    "colab": {
     "base_uri": "https://localhost:8080/",
     "height": 255
    },
    "colab_type": "code",
    "id": "HWA8E8iI0x17",
    "outputId": "3065adbe-9274-4759-b11e-62680f3f2ec0"
   }
  },
  {
   "cell_type": "markdown",
   "source": [
    "**Your turn**: in the file `pytorch101.py`, implement the functions `shuffle_cols`, `reverse_rows`, and `take_one_elem_per_col` to practice using integer indexing to manipulate tensors. In each of these functions, your implementation should construct the output tensor **using a single indexing operation on the input**."
   ],
   "metadata": {
    "colab_type": "text",
    "id": "s5_-WUmSVEoR"
   }
  },
  {
   "cell_type": "code",
   "execution_count": 9,
   "source": [
    "from pytorch101 import shuffle_cols, reverse_rows, take_one_elem_per_col\r\n",
    "import torch\r\n",
    "\r\n",
    "# Build a tensor of shape (4, 3):\r\n",
    "# [[ 1,  2,  3],\r\n",
    "#  [ 4,  5,  6],\r\n",
    "#  [ 7,  8,  9],\r\n",
    "#  [10, 11, 12]]\r\n",
    "x = torch.tensor([[1, 2, 3], [4, 5, 6], [7, 8, 9], [10, 11, 12]])\r\n",
    "print('Here is x:')\r\n",
    "print(x)\r\n",
    "\r\n",
    "y1 = shuffle_cols(x)\r\n",
    "print('\\nHere is shuffle_cols(x):')\r\n",
    "print(y1)\r\n",
    "expected = [[1, 1, 3, 2], [4, 4, 6, 5], [7, 7, 9, 8], [10, 10, 12, 11]]\r\n",
    "y1_correct = torch.is_tensor(y1) and y1.tolist() == expected\r\n",
    "print('Correct: %r\\n' % y1_correct)\r\n",
    "\r\n",
    "y2 = reverse_rows(x)\r\n",
    "print('Here is reverse_rows(x):')\r\n",
    "print(y2)\r\n",
    "expected = [[10, 11, 12], [7, 8, 9], [4, 5, 6], [1, 2, 3]]\r\n",
    "y2_correct = torch.is_tensor(y2) and y2.tolist() == expected\r\n",
    "print('Correct: %r\\n' % y2_correct)\r\n",
    "\r\n",
    "y3 = take_one_elem_per_col(x)\r\n",
    "print('Here is take_one_elem_per_col(x):')\r\n",
    "print(y3)\r\n",
    "expected = [4, 2, 12]\r\n",
    "y3_correct = torch.is_tensor(y3) and y3.tolist() == expected\r\n",
    "print('Correct: %r' % y3_correct)"
   ],
   "outputs": [
    {
     "output_type": "stream",
     "name": "stdout",
     "text": [
      "Here is x:\n",
      "tensor([[ 1,  2,  3],\n",
      "        [ 4,  5,  6],\n",
      "        [ 7,  8,  9],\n",
      "        [10, 11, 12]])\n"
     ]
    },
    {
     "output_type": "error",
     "ename": "RuntimeError",
     "evalue": "shape mismatch: value tensor of shape [4] cannot be broadcast to indexing result of shape [4, 2]",
     "traceback": [
      "\u001b[1;31m---------------------------------------------------------------------------\u001b[0m",
      "\u001b[1;31mRuntimeError\u001b[0m                              Traceback (most recent call last)",
      "\u001b[1;32m<ipython-input-9-06795f2cba97>\u001b[0m in \u001b[0;36m<module>\u001b[1;34m\u001b[0m\n\u001b[0;32m     11\u001b[0m \u001b[0mprint\u001b[0m\u001b[1;33m(\u001b[0m\u001b[0mx\u001b[0m\u001b[1;33m)\u001b[0m\u001b[1;33m\u001b[0m\u001b[1;33m\u001b[0m\u001b[0m\n\u001b[0;32m     12\u001b[0m \u001b[1;33m\u001b[0m\u001b[0m\n\u001b[1;32m---> 13\u001b[1;33m \u001b[0my1\u001b[0m \u001b[1;33m=\u001b[0m \u001b[0mshuffle_cols\u001b[0m\u001b[1;33m(\u001b[0m\u001b[0mx\u001b[0m\u001b[1;33m)\u001b[0m\u001b[1;33m\u001b[0m\u001b[1;33m\u001b[0m\u001b[0m\n\u001b[0m\u001b[0;32m     14\u001b[0m \u001b[0mprint\u001b[0m\u001b[1;33m(\u001b[0m\u001b[1;34m'\\nHere is shuffle_cols(x):'\u001b[0m\u001b[1;33m)\u001b[0m\u001b[1;33m\u001b[0m\u001b[1;33m\u001b[0m\u001b[0m\n\u001b[0;32m     15\u001b[0m \u001b[0mprint\u001b[0m\u001b[1;33m(\u001b[0m\u001b[0my1\u001b[0m\u001b[1;33m)\u001b[0m\u001b[1;33m\u001b[0m\u001b[1;33m\u001b[0m\u001b[0m\n",
      "\u001b[1;32mc:\\Users\\jimmy\\Desktop\\学习\\网课\\CS231N\\assignment\\A1\\pytorch101.py\u001b[0m in \u001b[0;36mshuffle_cols\u001b[1;34m(x)\u001b[0m\n\u001b[0;32m    201\u001b[0m   \"\"\"\n\u001b[0;32m    202\u001b[0m   \u001b[0my\u001b[0m \u001b[1;33m=\u001b[0m \u001b[0mtorch\u001b[0m\u001b[1;33m.\u001b[0m\u001b[0mzeros\u001b[0m\u001b[1;33m(\u001b[0m\u001b[0mx\u001b[0m\u001b[1;33m.\u001b[0m\u001b[0mshape\u001b[0m\u001b[1;33m[\u001b[0m\u001b[1;36m0\u001b[0m\u001b[1;33m]\u001b[0m\u001b[1;33m,\u001b[0m\u001b[1;36m4\u001b[0m\u001b[1;33m)\u001b[0m\u001b[1;33m\u001b[0m\u001b[1;33m\u001b[0m\u001b[0m\n\u001b[1;32m--> 203\u001b[1;33m   \u001b[0my\u001b[0m\u001b[1;33m[\u001b[0m\u001b[1;33m:\u001b[0m\u001b[1;33m,\u001b[0m\u001b[1;33m[\u001b[0m\u001b[1;36m0\u001b[0m\u001b[1;33m,\u001b[0m\u001b[1;36m1\u001b[0m\u001b[1;33m]\u001b[0m\u001b[1;33m]\u001b[0m \u001b[1;33m=\u001b[0m \u001b[0mx\u001b[0m\u001b[1;33m[\u001b[0m\u001b[1;33m:\u001b[0m\u001b[1;33m,\u001b[0m\u001b[1;36m0\u001b[0m\u001b[1;33m]\u001b[0m\u001b[1;33m\u001b[0m\u001b[1;33m\u001b[0m\u001b[0m\n\u001b[0m\u001b[0;32m    204\u001b[0m   \u001b[0my\u001b[0m\u001b[1;33m[\u001b[0m\u001b[1;33m:\u001b[0m\u001b[1;33m,\u001b[0m\u001b[1;36m2\u001b[0m\u001b[1;33m]\u001b[0m \u001b[1;33m=\u001b[0m \u001b[0mx\u001b[0m\u001b[1;33m[\u001b[0m\u001b[1;33m:\u001b[0m\u001b[1;33m,\u001b[0m\u001b[1;36m2\u001b[0m\u001b[1;33m]\u001b[0m\u001b[1;33m\u001b[0m\u001b[1;33m\u001b[0m\u001b[0m\n\u001b[0;32m    205\u001b[0m   \u001b[0my\u001b[0m\u001b[1;33m[\u001b[0m\u001b[1;33m:\u001b[0m\u001b[1;33m,\u001b[0m\u001b[1;36m3\u001b[0m\u001b[1;33m]\u001b[0m \u001b[1;33m=\u001b[0m \u001b[0mx\u001b[0m\u001b[1;33m[\u001b[0m\u001b[1;33m:\u001b[0m\u001b[1;33m,\u001b[0m\u001b[1;36m1\u001b[0m\u001b[1;33m]\u001b[0m\u001b[1;33m\u001b[0m\u001b[1;33m\u001b[0m\u001b[0m\n",
      "\u001b[1;31mRuntimeError\u001b[0m: shape mismatch: value tensor of shape [4] cannot be broadcast to indexing result of shape [4, 2]"
     ]
    }
   ],
   "metadata": {
    "colab": {
     "base_uri": "https://localhost:8080/",
     "height": 408
    },
    "colab_type": "code",
    "id": "FX05_ov5VTQZ",
    "outputId": "62f1afbf-551c-433d-ccb0-412e99877e78"
   }
  },
  {
   "cell_type": "code",
   "execution_count": 15,
   "source": [
    "x = torch.tensor([[1, 2, 3], [4, 5, 6], [7, 8, 9], [10, 11, 12]])\r\n",
    "y = torch.zeros((x.shape[0],4))\r\n",
    "y[:,0] = x[:,0]\r\n",
    "y[:,1] = x[:,0]"
   ],
   "outputs": [],
   "metadata": {}
  },
  {
   "cell_type": "markdown",
   "source": [
    "### Boolean tensor indexing"
   ],
   "metadata": {
    "colab_type": "text",
    "id": "oGt8ZPb_vixw"
   }
  },
  {
   "cell_type": "markdown",
   "source": [
    "Boolean tensor indexing lets you pick out arbitrary elements of a tensor according to a boolean mask. Frequently this type of indexing is used to select or modify the elements of a tensor that satisfy some condition.\n",
    "\n",
    "In PyTorch, we use tensors of dtype `torch.bool` to hold boolean masks.\n",
    "\n",
    "(Prior to version 1.2.0, there was no `torch.bool` type so instead `torch.uint8` was usually used to represent boolean data, with 0 indicating false and 1 indicating true. Watch out for this in older PyTorch code!)"
   ],
   "metadata": {
    "colab_type": "text",
    "id": "6CkQaRj01xmU"
   }
  },
  {
   "cell_type": "code",
   "execution_count": 16,
   "source": [
    "a = torch.tensor([[1,2], [3, 4], [5, 6]])\r\n",
    "print('Original tensor:')\r\n",
    "print(a)\r\n",
    "\r\n",
    "# Find the elements of a that are bigger than 3. The mask has the same shape as\r\n",
    "# a, where each element of mask tells whether the corresponding element of a\r\n",
    "# is greater than three.\r\n",
    "mask = (a > 3)\r\n",
    "print('\\nMask tensor:')\r\n",
    "print(mask)\r\n",
    "\r\n",
    "# We can use the mask to construct a rank-1 tensor containing the elements of a\r\n",
    "# that are selected by the mask\r\n",
    "print('\\nSelecting elements with the mask:')\r\n",
    "print(a[mask])\r\n",
    "\r\n",
    "# We can also use boolean masks to modify tensors; for example this sets all\r\n",
    "# elements <= 3 to zero:\r\n",
    "a[a <= 3] = 0\r\n",
    "print('\\nAfter modifying with a mask:')\r\n",
    "print(a)"
   ],
   "outputs": [
    {
     "output_type": "stream",
     "name": "stdout",
     "text": [
      "Original tensor:\n",
      "tensor([[1, 2],\n",
      "        [3, 4],\n",
      "        [5, 6]])\n",
      "\n",
      "Mask tensor:\n",
      "tensor([[False, False],\n",
      "        [False,  True],\n",
      "        [ True,  True]])\n",
      "\n",
      "Selecting elements with the mask:\n",
      "tensor([4, 5, 6])\n",
      "\n",
      "After modifying with a mask:\n",
      "tensor([[0, 0],\n",
      "        [0, 4],\n",
      "        [5, 6]])\n"
     ]
    }
   ],
   "metadata": {
    "colab": {
     "base_uri": "https://localhost:8080/",
     "height": 306
    },
    "colab_type": "code",
    "id": "29Zf7rb82Dkd",
    "outputId": "e6456a7b-713f-4850-d049-d57b0fd20a80"
   }
  },
  {
   "cell_type": "markdown",
   "source": [
    "**Your turn**: In the file `pytorch101.py`, implement the function `count_negative_entries` which counts the number of negative entries in a torch tensor. You can easily accomplish this using boolean tensor indexing. Your implementation should perform only a single indexing operation on the input tensor."
   ],
   "metadata": {
    "colab_type": "text",
    "id": "LtSmmMGodrTX"
   }
  },
  {
   "cell_type": "code",
   "execution_count": 17,
   "source": [
    "from pytorch101 import count_negative_entries\r\n",
    "\r\n",
    "# Make a few test cases\r\n",
    "torch.manual_seed(598)\r\n",
    "x0 = torch.tensor([[-1, -1, 0], [0, 1, 2], [3, 4, 5]])\r\n",
    "x1 = torch.tensor([0, 1, 2, 3])\r\n",
    "x2 = torch.randn(100, 100)\r\n",
    "print('Correct for x0: ', count_negative_entries(x0) == 2)\r\n",
    "print('Correct for x1: ', count_negative_entries(x1) == 0)\r\n",
    "print('Correct for x2: ', count_negative_entries(x2) == 4984)"
   ],
   "outputs": [
    {
     "output_type": "stream",
     "name": "stdout",
     "text": [
      "Correct for x0:  False\n",
      "Correct for x1:  True\n",
      "Correct for x2:  False\n"
     ]
    }
   ],
   "metadata": {
    "colab": {
     "base_uri": "https://localhost:8080/",
     "height": 68
    },
    "colab_type": "code",
    "id": "2hkeYXN9d5xh",
    "outputId": "964e70a5-c21a-46de-9490-a06aeaf37133"
   }
  },
  {
   "cell_type": "markdown",
   "source": [
    "Now implement the function `make_one_hot` that creates a matrix of **one-hot vectors** from a list of Python integers.\n",
    "\n",
    "A one-hot vector for an integer $n$ is a vector that has a one in its $n$th slot, and zeros in all other slots. One-hot vectors are commonly used to represent categorical variables in machine learning models.\n",
    "\n",
    "For example, given a list `[1, 4, 3, 2]` of integers, your function should produce the tensor:\n",
    "\n",
    "```\n",
    "[[0 1 0 0 0],\n",
    " [0 0 0 0 1],\n",
    " [0 0 0 1 0],\n",
    " [0 0 1 0 0]]\n",
    "```\n",
    "\n",
    "Here the first row corresponds to the first element of the list: it has a one at index 1, and zeros at all other indices. The second row corresponds to the second element of the list: it has a one at index 4, and zeros at all other indices. The other rows follow the same pattern. The output has just enough columns so that none of the rows go out-of-bounds: the largest index in the input is 4, so the output matrix has 5 columns."
   ],
   "metadata": {
    "colab_type": "text",
    "id": "Q68ZApgH31W9"
   }
  },
  {
   "cell_type": "code",
   "execution_count": 34,
   "source": [
    "from pytorch101 import make_one_hot\r\n",
    "\r\n",
    "def make_one_hot(x0):\r\n",
    "    y0 = torch.zeros(len(x0),max(x0)+1)\r\n",
    "    idx = torch.arange(len(x0))\r\n",
    "    y0[idx, x0] = 1\r\n",
    "    return y0\r\n",
    "\r\n",
    "def check_one_hot(x, y):\r\n",
    "    C = y.shape[1]\r\n",
    "    for i, n in enumerate(x):\r\n",
    "        if n >= C: return False\r\n",
    "        for j in range(C):\r\n",
    "            expected = 1.0 if j == n else 0.0\r\n",
    "            if y[i, j].item() != expected: return False\r\n",
    "        return True\r\n",
    "      \r\n",
    "x0 = [1, 4, 3, 2]\r\n",
    "y0 = make_one_hot(x0)\r\n",
    "print('Here is y0:')\r\n",
    "print(y0)\r\n",
    "print('y0 correct: ', check_one_hot(x0, y0))\r\n",
    "\r\n",
    "x1 = [1, 3, 5, 7, 6, 2]\r\n",
    "y1 = make_one_hot(x1)\r\n",
    "print('\\nHere is y1:')\r\n",
    "print(y1)\r\n",
    "print('y1 correct: ', check_one_hot(x1, y1))"
   ],
   "outputs": [
    {
     "output_type": "stream",
     "name": "stdout",
     "text": [
      "Here is y0:\n",
      "tensor([[0., 1., 0., 0., 0.],\n",
      "        [0., 0., 0., 0., 1.],\n",
      "        [0., 0., 0., 1., 0.],\n",
      "        [0., 0., 1., 0., 0.]])\n",
      "y0 correct:  True\n",
      "\n",
      "Here is y1:\n",
      "tensor([[0., 1., 0., 0., 0., 0., 0., 0.],\n",
      "        [0., 0., 0., 1., 0., 0., 0., 0.],\n",
      "        [0., 0., 0., 0., 0., 1., 0., 0.],\n",
      "        [0., 0., 0., 0., 0., 0., 0., 1.],\n",
      "        [0., 0., 0., 0., 0., 0., 1., 0.],\n",
      "        [0., 0., 1., 0., 0., 0., 0., 0.]])\n",
      "y1 correct:  True\n"
     ]
    }
   ],
   "metadata": {
    "colab": {
     "base_uri": "https://localhost:8080/",
     "height": 272
    },
    "colab_type": "code",
    "id": "jaT1kuQ37Rsq",
    "outputId": "b0dda448-e981-45ae-d785-acc25cd88d9c"
   }
  },
  {
   "cell_type": "markdown",
   "source": [
    "## Reshaping operations"
   ],
   "metadata": {
    "colab_type": "text",
    "id": "Ad-xqELwyqpN"
   }
  },
  {
   "cell_type": "markdown",
   "source": [
    "### View"
   ],
   "metadata": {
    "colab_type": "text",
    "id": "Ql9_eXuU4OG8"
   }
  },
  {
   "cell_type": "markdown",
   "source": [
    "PyTorch provides many ways to manipulate the shapes of tensors. The simplest example is [`.view()`](https://pytorch.org/docs/1.1.0/tensors.html#torch.Tensor.view): This returns a new tensor with the same number of elements as its input, but with a different shape.\n",
    "\n",
    "We can use `.view()` to flatten matrices into vectors, and to convert rank-1 vectors into rank-2 row or column matrices:"
   ],
   "metadata": {
    "colab_type": "text",
    "id": "xfPb_2BY0HKw"
   }
  },
  {
   "cell_type": "code",
   "execution_count": null,
   "source": [
    "x0 = torch.tensor([[1, 2, 3, 4], [5, 6, 7, 8]])\r\n",
    "print('Original tensor:')\r\n",
    "print(x0)\r\n",
    "print('shape:', x0.shape)\r\n",
    "\r\n",
    "# Flatten x0 into a rank 1 vector of shape (8,)\r\n",
    "x1 = x0.view(8)\r\n",
    "print('\\nFlattened tensor:')\r\n",
    "print(x1)\r\n",
    "print('shape:', x1.shape)\r\n",
    "\r\n",
    "# Convert x1 to a rank 2 \"row vector\" of shape (1, 8)\r\n",
    "x2 = x1.view(1, 8)\r\n",
    "print('\\nRow vector:')\r\n",
    "print(x2)\r\n",
    "print('shape:', x2.shape)\r\n",
    "\r\n",
    "# Convert x1 to a rank 2 \"column vector\" of shape (8, 1)\r\n",
    "x3 = x1.view(8, 1)\r\n",
    "print('\\nColumn vector:')\r\n",
    "print(x3)\r\n",
    "print('shape:', x3.shape)\r\n",
    "\r\n",
    "# Convert x1 to a rank 3 tensor of shape (2, 2, 2):\r\n",
    "x4 = x1.view(2, 2, 2)\r\n",
    "print('\\nRank 3 tensor:')\r\n",
    "print(x4)\r\n",
    "print('shape:', x4.shape)"
   ],
   "outputs": [],
   "metadata": {
    "colab": {
     "base_uri": "https://localhost:8080/",
     "height": 544
    },
    "colab_type": "code",
    "id": "kw-M7C_61FZK",
    "outputId": "406ffd88-74c2-4988-9e8d-8461d621a629"
   }
  },
  {
   "cell_type": "markdown",
   "source": [
    "As a convenience, calls to `.view()` may include a single -1 argument; this puts enough elements on that dimension so that the output has the same shape as the input. This makes it easy to write some reshape operations in a way that is agnostic to the shape of the tensor:"
   ],
   "metadata": {
    "colab_type": "text",
    "id": "eHsZ8BPF2PEq"
   }
  },
  {
   "cell_type": "code",
   "execution_count": 35,
   "source": [
    "# We can reuse these functions for tensors of different shapes\r\n",
    "def flatten(x):\r\n",
    "    return x.view(-1)\r\n",
    "\r\n",
    "def make_row_vec(x):\r\n",
    "    return x.view(1, -1)\r\n",
    "\r\n",
    "x0 = torch.tensor([[1, 2, 3], [4, 5, 6]])\r\n",
    "x0_flat = flatten(x0)\r\n",
    "x0_row = make_row_vec(x0)\r\n",
    "print('x0:')\r\n",
    "print(x0)\r\n",
    "print('x0_flat:')\r\n",
    "print(x0_flat)\r\n",
    "print('x0_row:')\r\n",
    "print(x0_row)\r\n",
    "\r\n",
    "x1 = torch.tensor([[1, 2], [3, 4]])\r\n",
    "x1_flat = flatten(x1)\r\n",
    "x1_row = make_row_vec(x1)\r\n",
    "print('\\nx1:')\r\n",
    "print(x1)\r\n",
    "print('x1_flat:')\r\n",
    "print(x1_flat)\r\n",
    "print('x1_row:')\r\n",
    "print(x1_row)"
   ],
   "outputs": [
    {
     "output_type": "stream",
     "name": "stdout",
     "text": [
      "x0:\n",
      "tensor([[1, 2, 3],\n",
      "        [4, 5, 6]])\n",
      "x0_flat:\n",
      "tensor([1, 2, 3, 4, 5, 6])\n",
      "x0_row:\n",
      "tensor([[1, 2, 3, 4, 5, 6]])\n",
      "\n",
      "x1:\n",
      "tensor([[1, 2],\n",
      "        [3, 4]])\n",
      "x1_flat:\n",
      "tensor([1, 2, 3, 4])\n",
      "x1_row:\n",
      "tensor([[1, 2, 3, 4]])\n"
     ]
    }
   ],
   "metadata": {
    "colab": {
     "base_uri": "https://localhost:8080/",
     "height": 272
    },
    "colab_type": "code",
    "id": "qNWu-R_J2qFY",
    "outputId": "e3479783-3f4a-44b6-d06e-28cdf6aa4176"
   }
  },
  {
   "cell_type": "markdown",
   "source": [
    "As its name implies, a tensor returned by `.view()` shares the same data as the input, so changes to one will affect the other and vice-versa:"
   ],
   "metadata": {
    "colab_type": "text",
    "id": "DK-ZB5aB2NPq"
   }
  },
  {
   "cell_type": "code",
   "execution_count": 36,
   "source": [
    "x = torch.tensor([[1, 2, 3], [4, 5, 6]])\r\n",
    "x_flat = x.view(-1)\r\n",
    "print('x before modifying:')\r\n",
    "print(x)\r\n",
    "print('x_flat before modifying:')\r\n",
    "print(x_flat)\r\n",
    "\r\n",
    "x[0, 0] = 10   # x[0, 0] and x_flat[0] point to the same data\r\n",
    "x_flat[1] = 20 # x_flat[1] and x[0, 1] point to the same data\r\n",
    "\r\n",
    "print('\\nx after modifying:')\r\n",
    "print(x)\r\n",
    "print('x_flat after modifying:')\r\n",
    "print(x_flat)"
   ],
   "outputs": [
    {
     "output_type": "stream",
     "name": "stdout",
     "text": [
      "x before modifying:\n",
      "tensor([[1, 2, 3],\n",
      "        [4, 5, 6]])\n",
      "x_flat before modifying:\n",
      "tensor([1, 2, 3, 4, 5, 6])\n",
      "\n",
      "x after modifying:\n",
      "tensor([[10, 20,  3],\n",
      "        [ 4,  5,  6]])\n",
      "x_flat after modifying:\n",
      "tensor([10, 20,  3,  4,  5,  6])\n"
     ]
    }
   ],
   "metadata": {
    "colab": {
     "base_uri": "https://localhost:8080/",
     "height": 204
    },
    "colab_type": "code",
    "id": "ebT99rUo2McN",
    "outputId": "51b6203b-7a3c-42c3-9028-0e1f28477c75"
   }
  },
  {
   "cell_type": "markdown",
   "source": [
    "### Swapping axes"
   ],
   "metadata": {
    "colab_type": "text",
    "id": "Z150qBob4Wkz"
   }
  },
  {
   "cell_type": "markdown",
   "source": [
    "Another common reshape operation you might want to perform is transposing a matrix. You might be surprised if you try to transpose a matrix with `.view()`: The `view()` function takes elements in row-major order, so **you cannot transpose matrices with `.view()`**.\n",
    "\n",
    "In general, you should only use `.view()` to add new dimensions to a tensor, or to collapse adjacent dimensions of a tensor.\n",
    "\n",
    "For other types of reshape operations, you usually need to use a function that can swap axes of a tensor. The simplest such function is `.t()`, specificially for transposing matrices. It is available both as a [function in the `torch` module](https://pytorch.org/docs/stable/generated/torch.t.html#torch.t), and as a [tensor instance method](https://pytorch.org/docs/stable/tensors.html#torch.Tensor.t):"
   ],
   "metadata": {
    "colab_type": "text",
    "id": "TCMDxbyBys78"
   }
  },
  {
   "cell_type": "code",
   "execution_count": 37,
   "source": [
    "x = torch.tensor([[1, 2, 3], [4, 5, 6]])\r\n",
    "print('Original matrix:')\r\n",
    "print(x)\r\n",
    "print('\\nTransposing with view DOES NOT WORK!')\r\n",
    "print(x.view(3, 2))\r\n",
    "print('\\nTransposed matrix:')\r\n",
    "print(torch.t(x))\r\n",
    "print(x.t())"
   ],
   "outputs": [
    {
     "output_type": "stream",
     "name": "stdout",
     "text": [
      "Original matrix:\n",
      "tensor([[1, 2, 3],\n",
      "        [4, 5, 6]])\n",
      "\n",
      "Transposing with view DOES NOT WORK!\n",
      "tensor([[1, 2],\n",
      "        [3, 4],\n",
      "        [5, 6]])\n",
      "\n",
      "Transposed matrix:\n",
      "tensor([[1, 4],\n",
      "        [2, 5],\n",
      "        [3, 6]])\n",
      "tensor([[1, 4],\n",
      "        [2, 5],\n",
      "        [3, 6]])\n"
     ]
    }
   ],
   "metadata": {
    "colab": {
     "base_uri": "https://localhost:8080/",
     "height": 289
    },
    "colab_type": "code",
    "id": "o_B4NuX6zQm-",
    "outputId": "19269c4b-0995-48f4-bdf3-3610e631a507"
   }
  },
  {
   "cell_type": "markdown",
   "source": [
    "For tensors with more than two dimensions, we can use the function [`torch.transpose`](https://pytorch.org/docs/stable/generated/torch.transpose.html#torch.transpose) to swap arbitrary dimensions, or the [`.permute`](https://pytorch.org/docs/stable/tensors.html#torch.Tensor.permute) method to arbitrarily permute dimensions:"
   ],
   "metadata": {
    "colab_type": "text",
    "id": "RN93xo98zn0v"
   }
  },
  {
   "cell_type": "code",
   "execution_count": 38,
   "source": [
    "# Create a tensor of shape (2, 3, 4)\r\n",
    "x0 = torch.tensor([\r\n",
    "     [[1,  2,  3,  4],\r\n",
    "      [5,  6,  7,  8],\r\n",
    "      [9, 10, 11, 12]],\r\n",
    "     [[13, 14, 15, 16],\r\n",
    "      [17, 18, 19, 20],\r\n",
    "      [21, 22, 23, 24]]])\r\n",
    "print('Original tensor:')\r\n",
    "print(x0)\r\n",
    "print('shape:', x0.shape)\r\n",
    "\r\n",
    "# Swap axes 1 and 2; shape is (2, 4, 3)\r\n",
    "x1 = x0.transpose(1, 2)\r\n",
    "print('\\nSwap axes 1 and 2:')\r\n",
    "print(x1)\r\n",
    "print(x1.shape)\r\n",
    "\r\n",
    "# Permute axes; the argument (1, 2, 0) means:\r\n",
    "# - Make the old dimension 1 appear at dimension 0;\r\n",
    "# - Make the old dimension 2 appear at dimension 1;\r\n",
    "# - Make the old dimension 0 appear at dimension 2\r\n",
    "# This results in a tensor of shape (3, 4, 2)\r\n",
    "x2 = x0.permute(1, 2, 0)\r\n",
    "print('\\nPermute axes')\r\n",
    "print(x2)\r\n",
    "print('shape:', x2.shape)"
   ],
   "outputs": [
    {
     "output_type": "stream",
     "name": "stdout",
     "text": [
      "Original tensor:\n",
      "tensor([[[ 1,  2,  3,  4],\n",
      "         [ 5,  6,  7,  8],\n",
      "         [ 9, 10, 11, 12]],\n",
      "\n",
      "        [[13, 14, 15, 16],\n",
      "         [17, 18, 19, 20],\n",
      "         [21, 22, 23, 24]]])\n",
      "shape: torch.Size([2, 3, 4])\n",
      "\n",
      "Swap axes 1 and 2:\n",
      "tensor([[[ 1,  5,  9],\n",
      "         [ 2,  6, 10],\n",
      "         [ 3,  7, 11],\n",
      "         [ 4,  8, 12]],\n",
      "\n",
      "        [[13, 17, 21],\n",
      "         [14, 18, 22],\n",
      "         [15, 19, 23],\n",
      "         [16, 20, 24]]])\n",
      "torch.Size([2, 4, 3])\n",
      "\n",
      "Permute axes\n",
      "tensor([[[ 1, 13],\n",
      "         [ 2, 14],\n",
      "         [ 3, 15],\n",
      "         [ 4, 16]],\n",
      "\n",
      "        [[ 5, 17],\n",
      "         [ 6, 18],\n",
      "         [ 7, 19],\n",
      "         [ 8, 20]],\n",
      "\n",
      "        [[ 9, 21],\n",
      "         [10, 22],\n",
      "         [11, 23],\n",
      "         [12, 24]]])\n",
      "shape: torch.Size([3, 4, 2])\n"
     ]
    }
   ],
   "metadata": {
    "colab": {
     "base_uri": "https://localhost:8080/",
     "height": 663
    },
    "colab_type": "code",
    "id": "XgN7YB8YzzkA",
    "outputId": "11f0e22e-836f-45fd-bd14-f8a9a8551643"
   }
  },
  {
   "cell_type": "markdown",
   "source": [
    "### Contiguous tensors"
   ],
   "metadata": {
    "colab_type": "text",
    "id": "f4SJCVbf-bZ0"
   }
  },
  {
   "cell_type": "markdown",
   "source": [
    "Some combinations of reshaping operations will fail with cryptic errors. The exact reasons for this have to do with the way that tensors and views of tensors are implemented, and are beyond the scope of this assignment. However if you're curious, [this blog post by Edward Yang](http://blog.ezyang.com/2019/05/pytorch-internals/) gives a clear explanation of the problem.\n",
    "\n",
    "What you need to know is that you can typically overcome these sorts of errors by either by calling [`.contiguous()`](https://pytorch.org/docs/stable/tensors.html#torch.Tensor.contiguous) before `.view()`, or by using [`.reshape()`](https://pytorch.org/docs/stable/generated/torch.reshape.html#torch.reshape) instead of `.view()`."
   ],
   "metadata": {
    "colab_type": "text",
    "id": "ubOOujO_-pQT"
   }
  },
  {
   "cell_type": "code",
   "execution_count": null,
   "source": [
    "x0 = torch.randn(2, 3, 4)\r\n",
    "\r\n",
    "try:\r\n",
    "  # This sequence of reshape operations will crash\r\n",
    "  x1 = x0.transpose(1, 2).view(8, 3)\r\n",
    "except RuntimeError as e:\r\n",
    "  print(type(e), e)\r\n",
    "  \r\n",
    "# We can solve the problem using either .contiguous() or .reshape()\r\n",
    "x1 = x0.transpose(1, 2).contiguous().view(8, 3)\r\n",
    "x2 = x0.transpose(1, 2).reshape(8, 3)\r\n",
    "print('x1 shape: ', x1.shape)\r\n",
    "print('x2 shape: ', x2.shape)"
   ],
   "outputs": [],
   "metadata": {
    "colab": {
     "base_uri": "https://localhost:8080/",
     "height": 88
    },
    "colab_type": "code",
    "id": "YGC6NERq_CT9",
    "outputId": "7e4f113c-ed1a-42ee-c6b6-c8ee82b59e9b"
   }
  },
  {
   "cell_type": "markdown",
   "source": [
    "### **Your turn**"
   ],
   "metadata": {
    "colab_type": "text",
    "id": "WJiiBxNE-X8g"
   }
  },
  {
   "cell_type": "markdown",
   "source": [
    "In the file `pytorch101.py`, implement the function `reshape_practice` to practice using reshape operations on tensors. Given the 1-dimensional input tensor `x` containing the numbers 0 through 23 in order, it should the following output tensor `y` of shape `(3, 8)` by using reshape operations on x:\r\n",
    "\r\n",
    "\r\n",
    "```\r\n",
    "y = tensor([[ 0,  1,  2,  3, 12, 13, 14, 15],\r\n",
    "            [ 4,  5,  6,  7, 16, 17, 18, 19],\r\n",
    "            [ 8,  9, 10, 11, 20, 21, 22, 23]])\r\n",
    "```\r\n",
    "\r\n",
    "Hint: You will need to create an intermediate tensor of rank 3"
   ],
   "metadata": {
    "colab_type": "text",
    "id": "iOVzHiX-86Ew"
   }
  },
  {
   "cell_type": "code",
   "execution_count": 40,
   "source": [
    "from pytorch101 import reshape_practice\r\n",
    "\r\n",
    "x = torch.arange(24)\r\n",
    "print('Here is x:')\r\n",
    "print(x)\r\n",
    "y = reshape_practice(x)\r\n",
    "print('Here is y:')\r\n",
    "print(y)\r\n",
    "\r\n",
    "expected = [\r\n",
    "    [0, 1,  2,  3, 12, 13, 14, 15],\r\n",
    "    [4, 5,  6,  7, 16, 17, 18, 19],\r\n",
    "    [8, 9, 10, 11, 20, 21, 22, 23]]\r\n",
    "# print('Correct:', y.tolist() == expected)"
   ],
   "outputs": [
    {
     "output_type": "stream",
     "name": "stdout",
     "text": [
      "Here is x:\n",
      "tensor([ 0,  1,  2,  3,  4,  5,  6,  7,  8,  9, 10, 11, 12, 13, 14, 15, 16, 17,\n",
      "        18, 19, 20, 21, 22, 23])\n",
      "Here is y:\n",
      "None\n"
     ]
    }
   ],
   "metadata": {
    "colab": {
     "base_uri": "https://localhost:8080/",
     "height": 153
    },
    "colab_type": "code",
    "id": "8reAZGzFVTQ3",
    "outputId": "5fc6a34c-e98e-4b3c-82d7-57199778578b"
   }
  },
  {
   "cell_type": "markdown",
   "source": [
    "## Tensor operations\n",
    "So far we have seen how to construct, access, and reshape tensors. But one of the most important reasons to use tensors is for performing computation! PyTorch provides many different operations to perform computations on tensors."
   ],
   "metadata": {
    "colab_type": "text",
    "id": "NgcdvD1evxTQ"
   }
  },
  {
   "cell_type": "markdown",
   "source": [
    "### Elementwise operations"
   ],
   "metadata": {
    "colab_type": "text",
    "id": "1BCVlPHZ4_Qz"
   }
  },
  {
   "cell_type": "markdown",
   "source": [
    "Basic mathematical functions operate elementwise on tensors, and are available as operator overloads, as functions in the `torch` module, and as instance methods on torch objects; all produce the same results:"
   ],
   "metadata": {
    "colab_type": "text",
    "id": "f2wbN18E5CKI"
   }
  },
  {
   "cell_type": "code",
   "execution_count": 54,
   "source": [
    "x = torch.tensor([[1, 2, 3, 4]], dtype=torch.float32)\r\n",
    "y = torch.tensor([[5, 6, 7, 8]], dtype=torch.float32)\r\n",
    "\r\n",
    "# Elementwise sum; all give the same result\r\n",
    "print('Elementwise sum:')\r\n",
    "print(x + y)\r\n",
    "print(torch.add(x, y))\r\n",
    "print(x.add(y))\r\n",
    "\r\n",
    "# Elementwise difference\r\n",
    "print('\\nElementwise difference:')\r\n",
    "print(x - y)\r\n",
    "print(torch.sub(x, y))\r\n",
    "print(x.sub(y))\r\n",
    "\r\n",
    "# Elementwise product\r\n",
    "print('\\nElementwise product:')\r\n",
    "print(x * y)\r\n",
    "print(torch.mul(x, y))\r\n",
    "print(x.mul(y))\r\n",
    "\r\n",
    "# Elementwise division\r\n",
    "print('\\nElementwise division')\r\n",
    "print(x / y)\r\n",
    "print(torch.div(x, y))\r\n",
    "print(x.div(y))\r\n",
    "\r\n",
    "# Elementwise power\r\n",
    "print('\\nElementwise power')\r\n",
    "print(x ** y)\r\n",
    "print(torch.pow(x, y))\r\n",
    "print(x.pow(y))"
   ],
   "outputs": [
    {
     "output_type": "stream",
     "name": "stdout",
     "text": [
      "Elementwise sum:\n",
      "tensor([[ 6.,  8., 10., 12.]])\n",
      "tensor([[ 6.,  8., 10., 12.]])\n",
      "tensor([[ 6.,  8., 10., 12.]])\n",
      "\n",
      "Elementwise difference:\n",
      "tensor([[-4., -4., -4., -4.]])\n",
      "tensor([[-4., -4., -4., -4.]])\n",
      "tensor([[-4., -4., -4., -4.]])\n",
      "\n",
      "Elementwise product:\n",
      "tensor([[ 5., 12., 21., 32.]])\n",
      "tensor([[ 5., 12., 21., 32.]])\n",
      "tensor([[ 5., 12., 21., 32.]])\n",
      "\n",
      "Elementwise division\n",
      "tensor([[0.2000, 0.3333, 0.4286, 0.5000]])\n",
      "tensor([[0.2000, 0.3333, 0.4286, 0.5000]])\n",
      "tensor([[0.2000, 0.3333, 0.4286, 0.5000]])\n",
      "\n",
      "Elementwise power\n",
      "tensor([[1.0000e+00, 6.4000e+01, 2.1870e+03, 6.5536e+04]])\n",
      "tensor([[1.0000e+00, 6.4000e+01, 2.1870e+03, 6.5536e+04]])\n",
      "tensor([[1.0000e+00, 6.4000e+01, 2.1870e+03, 6.5536e+04]])\n"
     ]
    }
   ],
   "metadata": {
    "colab": {
     "base_uri": "https://localhost:8080/",
     "height": 425
    },
    "colab_type": "code",
    "id": "QrMkbk535KRZ",
    "outputId": "5b514d9a-9258-4abb-f804-70ef311381bc"
   }
  },
  {
   "cell_type": "markdown",
   "source": [
    "Torch also provides many standard mathematical functions; these are available both as functions in the `torch` module and as instance methods on tensors:\n",
    "\n",
    "You can find a full list of all available mathematical functions [in the documentation](https://pytorch.org/docs/stable/torch.html#pointwise-ops); many functions in the `torch` module have corresponding instance methods [on tensor objects](https://pytorch.org/docs/stable/tensors.html)."
   ],
   "metadata": {
    "colab_type": "text",
    "id": "A6WwPJMYlYvN"
   }
  },
  {
   "cell_type": "code",
   "execution_count": null,
   "source": [
    "x = torch.tensor([[1, 2, 3, 4]], dtype=torch.float32)\r\n",
    "\r\n",
    "print('Square root:')\r\n",
    "print(torch.sqrt(x))\r\n",
    "print(x.sqrt())\r\n",
    "\r\n",
    "print('\\nTrig functions:')\r\n",
    "print(torch.sin(x))\r\n",
    "print(x.sin())\r\n",
    "print(torch.cos(x))\r\n",
    "print(x.cos())"
   ],
   "outputs": [],
   "metadata": {
    "colab": {
     "base_uri": "https://localhost:8080/",
     "height": 170
    },
    "colab_type": "code",
    "id": "s87mjsnG58vR",
    "outputId": "49400087-f190-4471-cee2-7554a6325cf1"
   }
  },
  {
   "cell_type": "markdown",
   "source": [
    "### Reduction operations"
   ],
   "metadata": {
    "colab_type": "text",
    "id": "yDyH9USAuyZ-"
   }
  },
  {
   "cell_type": "markdown",
   "source": [
    "So far we've seen basic arithmetic operations on tensors that operate elementwise. We may sometimes want to perform operations that aggregate over part or all of a tensor, such as a summation; these are called **reduction** operations.\n",
    "\n",
    "Like the elementwise operations above, most reduction operations are available both as functions in the `torch` module and as instance methods on `tensor` objects.\n",
    "\n",
    "The simplest reduction operation is summation. We can use the [`.sum()`](https://pytorch.org/docs/stable/tensors.html#torch.Tensor.sum) function (or eqivalently [`torch.sum`](https://pytorch.org/docs/stable/generated/torch.sum.html)) to reduce either an entire tensor, or to reduce along only one dimension of the tensor using the `dim` argument:"
   ],
   "metadata": {
    "colab_type": "text",
    "id": "wbHP9SpZHoMO"
   }
  },
  {
   "cell_type": "code",
   "execution_count": 55,
   "source": [
    "x = torch.tensor([[1, 2, 3], \r\n",
    "                  [4, 5, 6]], dtype=torch.float32)\r\n",
    "print('Original tensor:')\r\n",
    "print(x)\r\n",
    "\r\n",
    "print('\\nSum over entire tensor:')\r\n",
    "print(torch.sum(x))\r\n",
    "print(x.sum())\r\n",
    "\r\n",
    "# We can sum over each row:\r\n",
    "print('\\nSum of each row:')\r\n",
    "print(torch.sum(x, dim=0))\r\n",
    "print(x.sum(dim=0))\r\n",
    "\r\n",
    "# Sum over each column:\r\n",
    "print('\\nSum of each column:')\r\n",
    "print(torch.sum(x, dim=1))\r\n",
    "print(x.sum(dim=1))"
   ],
   "outputs": [
    {
     "output_type": "stream",
     "name": "stdout",
     "text": [
      "Original tensor:\n",
      "tensor([[1., 2., 3.],\n",
      "        [4., 5., 6.]])\n",
      "\n",
      "Sum over entire tensor:\n",
      "tensor(21.)\n",
      "tensor(21.)\n",
      "\n",
      "Sum of each row:\n",
      "tensor([5., 7., 9.])\n",
      "tensor([5., 7., 9.])\n",
      "\n",
      "Sum of each column:\n",
      "tensor([ 6., 15.])\n",
      "tensor([ 6., 15.])\n"
     ]
    }
   ],
   "metadata": {
    "colab": {
     "base_uri": "https://localhost:8080/",
     "height": 272
    },
    "colab_type": "code",
    "id": "LlmsYJWUE2r3",
    "outputId": "b4afc13e-dffe-4543-ffc2-766b8de6f956"
   }
  },
  {
   "cell_type": "markdown",
   "source": [
    "Other useful reduction operations include [`mean`](https://pytorch.org/docs/stable/torch.html#torch.mean), [`min`](https://pytorch.org/docs/stable/torch.html#torch.min), and [`max`](https://pytorch.org/docs/stable/torch.html#torch.max). You can find a full list of all available reduction operations [in the documentation](https://pytorch.org/docs/stable/torch.html#reduction-ops).\r\n",
    "\r\n",
    "Some reduction operations return more than one value; for example `min` returns both the minimum value over the specified dimension, as well as the index where the minimum value occurs:"
   ],
   "metadata": {
    "colab_type": "text",
    "id": "DzKio_3Quz5a"
   }
  },
  {
   "cell_type": "code",
   "execution_count": 56,
   "source": [
    "x = torch.tensor([[2, 4, 3, 5], [3, 3, 5, 2]], dtype=torch.float32)\r\n",
    "print('Original tensor:')\r\n",
    "print(x, x.shape)\r\n",
    "\r\n",
    "# Finding the overall minimum only returns a single value\r\n",
    "print('\\nOverall minimum: ', x.min())\r\n",
    "\r\n",
    "# Compute the minimum along each column; we get both the value and location:\r\n",
    "# The minimum of the first column is 2, and it appears at index 0;\r\n",
    "# the minimum of the second column is 3 and it appears at index 1; etc\r\n",
    "col_min_vals, col_min_idxs = x.min(dim=0)\r\n",
    "print('\\nMinimum along each column:')\r\n",
    "print('values:', col_min_vals)\r\n",
    "print('idxs:', col_min_idxs)\r\n",
    "\r\n",
    "# Compute the minimum along each row; we get both the value and the minimum\r\n",
    "row_min_vals, row_min_idxs = x.min(dim=1)\r\n",
    "print('\\nMinimum along each row:')\r\n",
    "print('values:', row_min_vals)\r\n",
    "print('idxs:', row_min_idxs)"
   ],
   "outputs": [
    {
     "output_type": "stream",
     "name": "stdout",
     "text": [
      "Original tensor:\n",
      "tensor([[2., 4., 3., 5.],\n",
      "        [3., 3., 5., 2.]]) torch.Size([2, 4])\n",
      "\n",
      "Overall minimum:  tensor(2.)\n",
      "\n",
      "Minimum along each column:\n",
      "values: tensor([2., 3., 3., 2.])\n",
      "idxs: tensor([0, 1, 0, 1])\n",
      "\n",
      "Minimum along each row:\n",
      "values: tensor([2., 2.])\n",
      "idxs: tensor([0, 3])\n"
     ]
    }
   ],
   "metadata": {
    "colab": {
     "base_uri": "https://localhost:8080/",
     "height": 238
    },
    "colab_type": "code",
    "id": "TFD7aT54H4ik",
    "outputId": "48510970-e982-450c-8d9e-614250e8322e"
   }
  },
  {
   "cell_type": "markdown",
   "source": [
    "Reduction operations *reduce* the rank of tensors: the dimension over which you perform the reduction will be removed from the shape of the output. If you pass `keepdim=True` to a reduction operation, the specified dimension will not be removed; the output tensor will instead have a shape of 1 in that dimension.\n",
    "\n",
    "When you are working with multidimensional tensors, thinking about rows and columns can become confusing; instead it's more useful to think about the shape that will result from each operation. For example:"
   ],
   "metadata": {
    "colab_type": "text",
    "id": "XFwYRESoFr4t"
   }
  },
  {
   "cell_type": "code",
   "execution_count": 62,
   "source": [
    "# Create a tensor of shape (128, 10, 3, 64, 64)\r\n",
    "x = torch.randn(128, 10, 3, 64, 64)\r\n",
    "print(x.shape)\r\n",
    "\r\n",
    "# Take the mean over dimension 1; shape is now (128, 3, 64, 64)\r\n",
    "x = x.mean(dim=1)\r\n",
    "print(x.shape)\r\n",
    "\r\n",
    "# Take the sum over dimension 2; shape is now (128, 3, 64)\r\n",
    "x = x.sum(dim=2)\r\n",
    "print(x.shape)\r\n",
    "\r\n",
    "# Take the mean over dimension 1, but keep the dimension from being eliminated\r\n",
    "# by passing keepdim=True; shape is now (128, 1, 64)\r\n",
    "x = x.mean(dim=1, keepdim=True)\r\n",
    "print(x.shape)"
   ],
   "outputs": [
    {
     "output_type": "stream",
     "name": "stdout",
     "text": [
      "torch.Size([128, 10, 3, 64, 64])\n",
      "torch.Size([128, 3, 64, 64])\n",
      "torch.Size([128, 3, 64])\n",
      "torch.Size([128, 1, 64])\n"
     ]
    }
   ],
   "metadata": {
    "colab": {
     "base_uri": "https://localhost:8080/",
     "height": 85
    },
    "colab_type": "code",
    "id": "sjcAveyJFqm7",
    "outputId": "31bfa3e1-2811-485a-bb92-26d93d933eb5"
   }
  },
  {
   "cell_type": "markdown",
   "source": [
    "**Your turn**: In the file `pytorch101.py`, implement the function `zero_row_min` which sets the minimum value along each row of a tensor to zero. You should use reduction and indexing operations, and you should not use any explicit loops.\n",
    "\n",
    "Hint: [`clone`](https://pytorch.org/docs/stable/tensors.html#torch.Tensor.clone), [`argmin`](https://pytorch.org/docs/stable/tensors.html#torch.Tensor.argmin)"
   ],
   "metadata": {
    "colab_type": "text",
    "id": "gXMp4tcM0Q_E"
   }
  },
  {
   "cell_type": "code",
   "execution_count": 68,
   "source": [
    "from pytorch101 import zero_row_min\r\n",
    "def zero_row_min(x0):\r\n",
    "    row_min_vals, row_min_idxs = x0.min(dim=1)\r\n",
    "    col_idxs = torch.arange(x0.shape[0])\r\n",
    "    # print(row_min_idxs, col_idxs)\r\n",
    "    x0[col_idxs,row_min_idxs] = 0\r\n",
    "    return x0\r\n",
    "    \r\n",
    "x0 = torch.tensor([[10, 20, 30], [2, 5, 1]])\r\n",
    "print('Here is x0:')\r\n",
    "print(x0)\r\n",
    "y0 = zero_row_min(x0)\r\n",
    "print('Here is y0:')\r\n",
    "print(y0)\r\n",
    "expected = [[0, 20, 30], [2, 5, 0]]\r\n",
    "y0_correct = torch.is_tensor(y0) and y0.tolist() == expected\r\n",
    "print('y0 correct: ', y0_correct)\r\n",
    "\r\n",
    "x1 = torch.tensor([[2, 5, 10, -1], [1, 3, 2, 4], [5, 6, 2, 10]])\r\n",
    "print('\\nHere is x1:')\r\n",
    "print(x1)\r\n",
    "y1 = zero_row_min(x1)\r\n",
    "print('Here is y1:')\r\n",
    "print(y1)\r\n",
    "expected = [[2, 5, 10, 0], [0, 3, 2, 4], [5, 6, 0, 10]]\r\n",
    "y1_correct = torch.is_tensor(y1) and y1.tolist() == expected\r\n",
    "print('y1 correct: ', y1_correct)"
   ],
   "outputs": [
    {
     "output_type": "stream",
     "name": "stdout",
     "text": [
      "Here is x0:\n",
      "tensor([[10, 20, 30],\n",
      "        [ 2,  5,  1]])\n",
      "Here is y0:\n",
      "tensor([[ 0, 20, 30],\n",
      "        [ 2,  5,  0]])\n",
      "y0 correct:  True\n",
      "\n",
      "Here is x1:\n",
      "tensor([[ 2,  5, 10, -1],\n",
      "        [ 1,  3,  2,  4],\n",
      "        [ 5,  6,  2, 10]])\n",
      "Here is y1:\n",
      "tensor([[ 2,  5, 10,  0],\n",
      "        [ 0,  3,  2,  4],\n",
      "        [ 5,  6,  0, 10]])\n",
      "y1 correct:  True\n"
     ]
    }
   ],
   "metadata": {
    "colab": {
     "base_uri": "https://localhost:8080/",
     "height": 306
    },
    "colab_type": "code",
    "id": "aaJzt-Y62blF",
    "outputId": "efe4efcd-e0d1-45ef-85d9-8b4487f8aea9"
   }
  },
  {
   "cell_type": "markdown",
   "source": [
    "### Matrix operations"
   ],
   "metadata": {
    "colab_type": "text",
    "id": "lRyLyXU2u29N"
   }
  },
  {
   "cell_type": "markdown",
   "source": [
    "Note that unlike MATLAB, * is elementwise multiplication, not matrix multiplication. PyTorch provides a number of linear algebra functions that compute different types of vector and matrix products. The most commonly used are:\n",
    "\n",
    "- [`torch.dot`](https://pytorch.org/docs/stable/generated/torch.dot.html#torch.dot): Computes inner product of vectors\n",
    "- [`torch.mm`](https://pytorch.org/docs/stable/generated/torch.mm.html#torch.mm): Computes matrix-matrix products\n",
    "- [`torch.mv`](https://pytorch.org/docs/stable/generated/torch.mv.html#torch.mv): Computes matrix-vector products\n",
    "- [`torch.addmm`](https://pytorch.org/docs/stable/generated/torch.addmm.html#torch.addmm) / [`torch.addmv`](https://pytorch.org/docs/stable/generated/torch.addmv.html#torch.addmv): Computes matrix-matrix and matrix-vector multiplications plus a bias\n",
    "- [`torch.bmm`](https://pytorch.org/docs/stable/generated/torch.bmm.html#torch.bmm) / [`torch.baddmm`](https://pytorch.org/docs/stable/generated/torch.baddbmm.html#torch.baddbmm): Batched versions of `torch.mm` and `torch.addmm`, respectively\n",
    "- [`torch.matmul`](https://pytorch.org/docs/stable/generated/torch.matmul.html#torch.matmul): General matrix product that performs different operations depending on the rank of the inputs. Confusingly, this is similar to `np.dot` in numpy.\n",
    "\n",
    "You can find a full list of the available linear algebra operators [in the documentation](https://pytorch.org/docs/stable/torch.html#blas-and-lapack-operations).\n",
    "\n",
    "Here is an example of using `torch.dot` to compute inner products. Like the other mathematical operators we've seen, most linear algebra operators are available both as functions in the `torch` module and as instance methods of tensors:"
   ],
   "metadata": {
    "colab_type": "text",
    "id": "7DwjbapG6MM_"
   }
  },
  {
   "cell_type": "code",
   "execution_count": 69,
   "source": [
    "v = torch.tensor([9,10], dtype=torch.float32)\r\n",
    "w = torch.tensor([11, 12], dtype=torch.float32)\r\n",
    "\r\n",
    "# Inner product of vectors\r\n",
    "print('Dot products:')\r\n",
    "print(torch.dot(v, w))\r\n",
    "print(v.dot(w))\r\n",
    "\r\n",
    "# dot only works for vectors -- it will give an error for tensors of rank > 1\r\n",
    "x = torch.tensor([[1,2],[3,4]], dtype=torch.float32)\r\n",
    "y = torch.tensor([[5,6],[7,8]], dtype=torch.float32)\r\n",
    "try:\r\n",
    "  print(x.dot(y))\r\n",
    "except RuntimeError as e:\r\n",
    "  print(e)\r\n",
    "  \r\n",
    "# Instead we use mm for matrix-matrix products:\r\n",
    "print('\\nMatrix-matrix product:')\r\n",
    "print(torch.mm(x, y))\r\n",
    "print(x.mm(y))"
   ],
   "outputs": [
    {
     "output_type": "stream",
     "name": "stdout",
     "text": [
      "Dot products:\n",
      "tensor(219.)\n",
      "tensor(219.)\n",
      "1D tensors expected, but got 2D and 2D tensors\n",
      "\n",
      "Matrix-matrix product:\n",
      "tensor([[19., 22.],\n",
      "        [43., 50.]])\n",
      "tensor([[19., 22.],\n",
      "        [43., 50.]])\n"
     ]
    }
   ],
   "metadata": {
    "colab": {
     "base_uri": "https://localhost:8080/",
     "height": 187
    },
    "colab_type": "code",
    "id": "TRUYW2as6ZCh",
    "outputId": "cc9cd4cb-15a5-4a37-acba-9c4942383f65"
   }
  },
  {
   "cell_type": "markdown",
   "source": [
    "With all the different linear algebra operators that PyTorch provides, there is usually more than one way to compute something. For example to compute matrix-vector products we can use `torch.mv`; we can reshape the vector to have rank 2 and use `torch.mm`; or we can use `torch.matmul`. All give the same results, but the outputs might have different ranks:"
   ],
   "metadata": {
    "colab_type": "text",
    "id": "MQRxK34KdHm3"
   }
  },
  {
   "cell_type": "code",
   "execution_count": 70,
   "source": [
    "print('Here is x (rank 2):')\r\n",
    "print(x)\r\n",
    "print('\\nHere is v (rank 1):')\r\n",
    "print(v)\r\n",
    "\r\n",
    "# Matrix-vector multiply with torch.mv produces a rank-1 output\r\n",
    "print('\\nMatrix-vector product with torch.mv (rank 1 output)')\r\n",
    "print(torch.mv(x, v))\r\n",
    "print(x.mv(v))\r\n",
    "\r\n",
    "# We can reshape the vector to have rank 2 and use torch.mm to perform\r\n",
    "# matrix-vector products, but the result will have rank 2\r\n",
    "print('\\nMatrix-vector product with torch.mm (rank 2 output)')\r\n",
    "print(torch.mm(x, v.view(2, 1)))\r\n",
    "print(x.mm(v.view(2, 1)))\r\n",
    "\r\n",
    "print('\\nMatrix-vector product with torch.matmul (rank 1 output)')\r\n",
    "print(torch.matmul(x, v))\r\n",
    "print(x.matmul(v))"
   ],
   "outputs": [
    {
     "output_type": "stream",
     "name": "stdout",
     "text": [
      "Here is x (rank 2):\n",
      "tensor([[1., 2.],\n",
      "        [3., 4.]])\n",
      "\n",
      "Here is v (rank 1):\n",
      "tensor([ 9., 10.])\n",
      "\n",
      "Matrix-vector product with torch.mv (rank 1 output)\n",
      "tensor([29., 67.])\n",
      "tensor([29., 67.])\n",
      "\n",
      "Matrix-vector product with torch.mm (rank 2 output)\n",
      "tensor([[29.],\n",
      "        [67.]])\n",
      "tensor([[29.],\n",
      "        [67.]])\n",
      "\n",
      "Matrix-vector product with torch.matmul (rank 1 output)\n",
      "tensor([29., 67.])\n",
      "tensor([29., 67.])\n"
     ]
    }
   ],
   "metadata": {
    "colab": {
     "base_uri": "https://localhost:8080/",
     "height": 357
    },
    "colab_type": "code",
    "id": "qqEzcnHkdRYA",
    "outputId": "6c6618ad-56af-4e08-a2a6-deeae1263706"
   }
  },
  {
   "cell_type": "markdown",
   "source": [
    "**Your turn**: In the file `pytorch101.py`, implement the function `batched_matrix_multiply`. You should implement two pathways within this function: one that uses an explicit loop over the batch dimension, and another that performs the batched matrix multiply using a single PyTorch operation and no explicit loop.\n",
    "\n",
    "Hint: [`torch.stack`](https://pytorch.org/docs/master/generated/torch.stack.html), [`bmm`](https://pytorch.org/docs/stable/generated/torch.bmm.html#torch.bmm)\n",
    "\n"
   ],
   "metadata": {
    "colab_type": "text",
    "id": "-eqQJ5IUjtNT"
   }
  },
  {
   "cell_type": "code",
   "execution_count": null,
   "source": [
    "from pytorch101 import batched_matrix_multiply\r\n",
    "\r\n",
    "B, N, M, P = 2, 3, 5, 4\r\n",
    "x = torch.randn(B, N, M)\r\n",
    "y = torch.randn(B, M, P)\r\n",
    "z_expected = torch.stack([x[0] @ y[0], x[1] @ y[1]])\r\n",
    "\r\n",
    "# The two may not return exactly the same result; different linear algebra\r\n",
    "# routines often return slightly different results due to the fact that\r\n",
    "# floating-point math is non-exact and non-associative.\r\n",
    "z1 = batched_matrix_multiply(x, y, use_loop=True)\r\n",
    "z1_diff = (z1 - z_expected).abs().max().item()\r\n",
    "print('z1 difference: ', z1_diff)\r\n",
    "print('z1 difference within tolerance: ', z1_diff < 1e-6)\r\n",
    "\r\n",
    "z2 = batched_matrix_multiply(x, y, use_loop=False)\r\n",
    "z2_diff = (z2 - z_expected).abs().max().item()\r\n",
    "print('\\nz2 difference: ', z2_diff)\r\n",
    "print('z2 difference within tolerance: ', z2_diff < 1e-6)"
   ],
   "outputs": [],
   "metadata": {
    "colab": {
     "base_uri": "https://localhost:8080/",
     "height": 102
    },
    "colab_type": "code",
    "id": "sZD1VQHKVTRQ",
    "outputId": "5ce63c85-10c1-4c1f-9a13-11e0c65b40d9"
   }
  },
  {
   "cell_type": "markdown",
   "source": [
    "### Vectorization\n",
    "In many cases, avoiding explicit Python loops in your code and instead using PyTorch operators to handle looping internally will cause your code to run a lot faster. This style of writing code, called **vectorization**, avoids overhead from the Python interpreter, and can also better parallelize the computation (e.g. across CPU cores, on on GPUs). Whenever possible you should strive to write vectorized code.\n",
    "\n",
    "Run the following the compare the speed of the `batched_matrix_multiply` with `use_loop=True` and with `use_loop=False`."
   ],
   "metadata": {
    "colab_type": "text",
    "id": "mbCVOr2sVTRR"
   }
  },
  {
   "cell_type": "code",
   "execution_count": 71,
   "source": [
    "import time\r\n",
    "import matplotlib.pyplot as plt\r\n",
    "from pytorch101 import batched_matrix_multiply\r\n",
    "\r\n",
    "N, M, P = 100, 100, 100\r\n",
    "loop_times = []\r\n",
    "no_loop_times = []\r\n",
    "Bs = list(range(5, 100, 5))\r\n",
    "num_trials = 20\r\n",
    "for B in Bs:\r\n",
    "    loop_trials = []\r\n",
    "    no_loop_trials = []\r\n",
    "    for trial in range(num_trials):\r\n",
    "        x = torch.randn(B, N, M)\r\n",
    "        y = torch.randn(B, M, P)\r\n",
    "        t0 = time.time()\r\n",
    "        z1 = batched_matrix_multiply(x, y, use_loop=True)\r\n",
    "        t1 = time.time()\r\n",
    "        z2 = batched_matrix_multiply(x, y, use_loop=False)\r\n",
    "        t2 = time.time()\r\n",
    "        loop_trials.append(t1 - t0)\r\n",
    "        no_loop_trials.append(t2 - t1)\r\n",
    "    loop_mean = torch.tensor(loop_trials).mean().item()\r\n",
    "    no_loop_mean = torch.tensor(no_loop_trials).mean().item()\r\n",
    "    loop_times.append(loop_mean)\r\n",
    "    no_loop_times.append(no_loop_mean)\r\n",
    "    \r\n",
    "plt.plot(Bs, loop_times, 'o-', label='use_loop=True')\r\n",
    "plt.plot(Bs, no_loop_times, 'o-', label='use_loop=False')\r\n",
    "plt.xlabel('Batch size B')\r\n",
    "plt.ylabel('Runtime (s)')\r\n",
    "plt.legend()\r\n",
    "plt.show()"
   ],
   "outputs": [
    {
     "output_type": "display_data",
     "data": {
      "text/plain": [
       "<Figure size 432x288 with 1 Axes>"
      ],
      "image/svg+xml": "<?xml version=\"1.0\" encoding=\"utf-8\" standalone=\"no\"?>\r\n<!DOCTYPE svg PUBLIC \"-//W3C//DTD SVG 1.1//EN\"\r\n  \"http://www.w3.org/Graphics/SVG/1.1/DTD/svg11.dtd\">\r\n<svg height=\"262.19625pt\" version=\"1.1\" viewBox=\"0 0 400.523438 262.19625\" width=\"400.523438pt\" xmlns=\"http://www.w3.org/2000/svg\" xmlns:xlink=\"http://www.w3.org/1999/xlink\">\r\n <metadata>\r\n  <rdf:RDF xmlns:cc=\"http://creativecommons.org/ns#\" xmlns:dc=\"http://purl.org/dc/elements/1.1/\" xmlns:rdf=\"http://www.w3.org/1999/02/22-rdf-syntax-ns#\">\r\n   <cc:Work>\r\n    <dc:type rdf:resource=\"http://purl.org/dc/dcmitype/StillImage\"/>\r\n    <dc:date>2021-08-12T19:25:19.825232</dc:date>\r\n    <dc:format>image/svg+xml</dc:format>\r\n    <dc:creator>\r\n     <cc:Agent>\r\n      <dc:title>Matplotlib v3.4.2, https://matplotlib.org/</dc:title>\r\n     </cc:Agent>\r\n    </dc:creator>\r\n   </cc:Work>\r\n  </rdf:RDF>\r\n </metadata>\r\n <defs>\r\n  <style type=\"text/css\">*{stroke-linecap:butt;stroke-linejoin:round;}</style>\r\n </defs>\r\n <g id=\"figure_1\">\r\n  <g id=\"patch_1\">\r\n   <path d=\"M 0 262.19625 \r\nL 400.523438 262.19625 \r\nL 400.523438 0 \r\nL 0 0 \r\nz\r\n\" style=\"fill:none;\"/>\r\n  </g>\r\n  <g id=\"axes_1\">\r\n   <g id=\"patch_2\">\r\n    <path d=\"M 58.523438 224.64 \r\nL 393.323438 224.64 \r\nL 393.323438 7.2 \r\nL 58.523438 7.2 \r\nz\r\n\" style=\"fill:#ffffff;\"/>\r\n   </g>\r\n   <g id=\"matplotlib.axis_1\">\r\n    <g id=\"xtick_1\">\r\n     <g id=\"line2d_1\">\r\n      <defs>\r\n       <path d=\"M 0 0 \r\nL 0 3.5 \r\n\" id=\"me6c11c702b\" style=\"stroke:#000000;stroke-width:0.8;\"/>\r\n      </defs>\r\n      <g>\r\n       <use style=\"stroke:#000000;stroke-width:0.8;\" x=\"124.468892\" xlink:href=\"#me6c11c702b\" y=\"224.64\"/>\r\n      </g>\r\n     </g>\r\n     <g id=\"text_1\">\r\n      <!-- 20 -->\r\n      <g transform=\"translate(118.106392 239.238437)scale(0.1 -0.1)\">\r\n       <defs>\r\n        <path d=\"M 1228 531 \r\nL 3431 531 \r\nL 3431 0 \r\nL 469 0 \r\nL 469 531 \r\nQ 828 903 1448 1529 \r\nQ 2069 2156 2228 2338 \r\nQ 2531 2678 2651 2914 \r\nQ 2772 3150 2772 3378 \r\nQ 2772 3750 2511 3984 \r\nQ 2250 4219 1831 4219 \r\nQ 1534 4219 1204 4116 \r\nQ 875 4013 500 3803 \r\nL 500 4441 \r\nQ 881 4594 1212 4672 \r\nQ 1544 4750 1819 4750 \r\nQ 2544 4750 2975 4387 \r\nQ 3406 4025 3406 3419 \r\nQ 3406 3131 3298 2873 \r\nQ 3191 2616 2906 2266 \r\nQ 2828 2175 2409 1742 \r\nQ 1991 1309 1228 531 \r\nz\r\n\" id=\"DejaVuSans-32\" transform=\"scale(0.015625)\"/>\r\n        <path d=\"M 2034 4250 \r\nQ 1547 4250 1301 3770 \r\nQ 1056 3291 1056 2328 \r\nQ 1056 1369 1301 889 \r\nQ 1547 409 2034 409 \r\nQ 2525 409 2770 889 \r\nQ 3016 1369 3016 2328 \r\nQ 3016 3291 2770 3770 \r\nQ 2525 4250 2034 4250 \r\nz\r\nM 2034 4750 \r\nQ 2819 4750 3233 4129 \r\nQ 3647 3509 3647 2328 \r\nQ 3647 1150 3233 529 \r\nQ 2819 -91 2034 -91 \r\nQ 1250 -91 836 529 \r\nQ 422 1150 422 2328 \r\nQ 422 3509 836 4129 \r\nQ 1250 4750 2034 4750 \r\nz\r\n\" id=\"DejaVuSans-30\" transform=\"scale(0.015625)\"/>\r\n       </defs>\r\n       <use xlink:href=\"#DejaVuSans-32\"/>\r\n       <use x=\"63.623047\" xlink:href=\"#DejaVuSans-30\"/>\r\n      </g>\r\n     </g>\r\n    </g>\r\n    <g id=\"xtick_2\">\r\n     <g id=\"line2d_2\">\r\n      <g>\r\n       <use style=\"stroke:#000000;stroke-width:0.8;\" x=\"192.105256\" xlink:href=\"#me6c11c702b\" y=\"224.64\"/>\r\n      </g>\r\n     </g>\r\n     <g id=\"text_2\">\r\n      <!-- 40 -->\r\n      <g transform=\"translate(185.742756 239.238437)scale(0.1 -0.1)\">\r\n       <defs>\r\n        <path d=\"M 2419 4116 \r\nL 825 1625 \r\nL 2419 1625 \r\nL 2419 4116 \r\nz\r\nM 2253 4666 \r\nL 3047 4666 \r\nL 3047 1625 \r\nL 3713 1625 \r\nL 3713 1100 \r\nL 3047 1100 \r\nL 3047 0 \r\nL 2419 0 \r\nL 2419 1100 \r\nL 313 1100 \r\nL 313 1709 \r\nL 2253 4666 \r\nz\r\n\" id=\"DejaVuSans-34\" transform=\"scale(0.015625)\"/>\r\n       </defs>\r\n       <use xlink:href=\"#DejaVuSans-34\"/>\r\n       <use x=\"63.623047\" xlink:href=\"#DejaVuSans-30\"/>\r\n      </g>\r\n     </g>\r\n    </g>\r\n    <g id=\"xtick_3\">\r\n     <g id=\"line2d_3\">\r\n      <g>\r\n       <use style=\"stroke:#000000;stroke-width:0.8;\" x=\"259.741619\" xlink:href=\"#me6c11c702b\" y=\"224.64\"/>\r\n      </g>\r\n     </g>\r\n     <g id=\"text_3\">\r\n      <!-- 60 -->\r\n      <g transform=\"translate(253.379119 239.238437)scale(0.1 -0.1)\">\r\n       <defs>\r\n        <path d=\"M 2113 2584 \r\nQ 1688 2584 1439 2293 \r\nQ 1191 2003 1191 1497 \r\nQ 1191 994 1439 701 \r\nQ 1688 409 2113 409 \r\nQ 2538 409 2786 701 \r\nQ 3034 994 3034 1497 \r\nQ 3034 2003 2786 2293 \r\nQ 2538 2584 2113 2584 \r\nz\r\nM 3366 4563 \r\nL 3366 3988 \r\nQ 3128 4100 2886 4159 \r\nQ 2644 4219 2406 4219 \r\nQ 1781 4219 1451 3797 \r\nQ 1122 3375 1075 2522 \r\nQ 1259 2794 1537 2939 \r\nQ 1816 3084 2150 3084 \r\nQ 2853 3084 3261 2657 \r\nQ 3669 2231 3669 1497 \r\nQ 3669 778 3244 343 \r\nQ 2819 -91 2113 -91 \r\nQ 1303 -91 875 529 \r\nQ 447 1150 447 2328 \r\nQ 447 3434 972 4092 \r\nQ 1497 4750 2381 4750 \r\nQ 2619 4750 2861 4703 \r\nQ 3103 4656 3366 4563 \r\nz\r\n\" id=\"DejaVuSans-36\" transform=\"scale(0.015625)\"/>\r\n       </defs>\r\n       <use xlink:href=\"#DejaVuSans-36\"/>\r\n       <use x=\"63.623047\" xlink:href=\"#DejaVuSans-30\"/>\r\n      </g>\r\n     </g>\r\n    </g>\r\n    <g id=\"xtick_4\">\r\n     <g id=\"line2d_4\">\r\n      <g>\r\n       <use style=\"stroke:#000000;stroke-width:0.8;\" x=\"327.377983\" xlink:href=\"#me6c11c702b\" y=\"224.64\"/>\r\n      </g>\r\n     </g>\r\n     <g id=\"text_4\">\r\n      <!-- 80 -->\r\n      <g transform=\"translate(321.015483 239.238437)scale(0.1 -0.1)\">\r\n       <defs>\r\n        <path d=\"M 2034 2216 \r\nQ 1584 2216 1326 1975 \r\nQ 1069 1734 1069 1313 \r\nQ 1069 891 1326 650 \r\nQ 1584 409 2034 409 \r\nQ 2484 409 2743 651 \r\nQ 3003 894 3003 1313 \r\nQ 3003 1734 2745 1975 \r\nQ 2488 2216 2034 2216 \r\nz\r\nM 1403 2484 \r\nQ 997 2584 770 2862 \r\nQ 544 3141 544 3541 \r\nQ 544 4100 942 4425 \r\nQ 1341 4750 2034 4750 \r\nQ 2731 4750 3128 4425 \r\nQ 3525 4100 3525 3541 \r\nQ 3525 3141 3298 2862 \r\nQ 3072 2584 2669 2484 \r\nQ 3125 2378 3379 2068 \r\nQ 3634 1759 3634 1313 \r\nQ 3634 634 3220 271 \r\nQ 2806 -91 2034 -91 \r\nQ 1263 -91 848 271 \r\nQ 434 634 434 1313 \r\nQ 434 1759 690 2068 \r\nQ 947 2378 1403 2484 \r\nz\r\nM 1172 3481 \r\nQ 1172 3119 1398 2916 \r\nQ 1625 2713 2034 2713 \r\nQ 2441 2713 2670 2916 \r\nQ 2900 3119 2900 3481 \r\nQ 2900 3844 2670 4047 \r\nQ 2441 4250 2034 4250 \r\nQ 1625 4250 1398 4047 \r\nQ 1172 3844 1172 3481 \r\nz\r\n\" id=\"DejaVuSans-38\" transform=\"scale(0.015625)\"/>\r\n       </defs>\r\n       <use xlink:href=\"#DejaVuSans-38\"/>\r\n       <use x=\"63.623047\" xlink:href=\"#DejaVuSans-30\"/>\r\n      </g>\r\n     </g>\r\n    </g>\r\n    <g id=\"text_5\">\r\n     <!-- Batch size B -->\r\n     <g transform=\"translate(195.247656 252.916562)scale(0.1 -0.1)\">\r\n      <defs>\r\n       <path d=\"M 1259 2228 \r\nL 1259 519 \r\nL 2272 519 \r\nQ 2781 519 3026 730 \r\nQ 3272 941 3272 1375 \r\nQ 3272 1813 3026 2020 \r\nQ 2781 2228 2272 2228 \r\nL 1259 2228 \r\nz\r\nM 1259 4147 \r\nL 1259 2741 \r\nL 2194 2741 \r\nQ 2656 2741 2882 2914 \r\nQ 3109 3088 3109 3444 \r\nQ 3109 3797 2882 3972 \r\nQ 2656 4147 2194 4147 \r\nL 1259 4147 \r\nz\r\nM 628 4666 \r\nL 2241 4666 \r\nQ 2963 4666 3353 4366 \r\nQ 3744 4066 3744 3513 \r\nQ 3744 3084 3544 2831 \r\nQ 3344 2578 2956 2516 \r\nQ 3422 2416 3680 2098 \r\nQ 3938 1781 3938 1306 \r\nQ 3938 681 3513 340 \r\nQ 3088 0 2303 0 \r\nL 628 0 \r\nL 628 4666 \r\nz\r\n\" id=\"DejaVuSans-42\" transform=\"scale(0.015625)\"/>\r\n       <path d=\"M 2194 1759 \r\nQ 1497 1759 1228 1600 \r\nQ 959 1441 959 1056 \r\nQ 959 750 1161 570 \r\nQ 1363 391 1709 391 \r\nQ 2188 391 2477 730 \r\nQ 2766 1069 2766 1631 \r\nL 2766 1759 \r\nL 2194 1759 \r\nz\r\nM 3341 1997 \r\nL 3341 0 \r\nL 2766 0 \r\nL 2766 531 \r\nQ 2569 213 2275 61 \r\nQ 1981 -91 1556 -91 \r\nQ 1019 -91 701 211 \r\nQ 384 513 384 1019 \r\nQ 384 1609 779 1909 \r\nQ 1175 2209 1959 2209 \r\nL 2766 2209 \r\nL 2766 2266 \r\nQ 2766 2663 2505 2880 \r\nQ 2244 3097 1772 3097 \r\nQ 1472 3097 1187 3025 \r\nQ 903 2953 641 2809 \r\nL 641 3341 \r\nQ 956 3463 1253 3523 \r\nQ 1550 3584 1831 3584 \r\nQ 2591 3584 2966 3190 \r\nQ 3341 2797 3341 1997 \r\nz\r\n\" id=\"DejaVuSans-61\" transform=\"scale(0.015625)\"/>\r\n       <path d=\"M 1172 4494 \r\nL 1172 3500 \r\nL 2356 3500 \r\nL 2356 3053 \r\nL 1172 3053 \r\nL 1172 1153 \r\nQ 1172 725 1289 603 \r\nQ 1406 481 1766 481 \r\nL 2356 481 \r\nL 2356 0 \r\nL 1766 0 \r\nQ 1100 0 847 248 \r\nQ 594 497 594 1153 \r\nL 594 3053 \r\nL 172 3053 \r\nL 172 3500 \r\nL 594 3500 \r\nL 594 4494 \r\nL 1172 4494 \r\nz\r\n\" id=\"DejaVuSans-74\" transform=\"scale(0.015625)\"/>\r\n       <path d=\"M 3122 3366 \r\nL 3122 2828 \r\nQ 2878 2963 2633 3030 \r\nQ 2388 3097 2138 3097 \r\nQ 1578 3097 1268 2742 \r\nQ 959 2388 959 1747 \r\nQ 959 1106 1268 751 \r\nQ 1578 397 2138 397 \r\nQ 2388 397 2633 464 \r\nQ 2878 531 3122 666 \r\nL 3122 134 \r\nQ 2881 22 2623 -34 \r\nQ 2366 -91 2075 -91 \r\nQ 1284 -91 818 406 \r\nQ 353 903 353 1747 \r\nQ 353 2603 823 3093 \r\nQ 1294 3584 2113 3584 \r\nQ 2378 3584 2631 3529 \r\nQ 2884 3475 3122 3366 \r\nz\r\n\" id=\"DejaVuSans-63\" transform=\"scale(0.015625)\"/>\r\n       <path d=\"M 3513 2113 \r\nL 3513 0 \r\nL 2938 0 \r\nL 2938 2094 \r\nQ 2938 2591 2744 2837 \r\nQ 2550 3084 2163 3084 \r\nQ 1697 3084 1428 2787 \r\nQ 1159 2491 1159 1978 \r\nL 1159 0 \r\nL 581 0 \r\nL 581 4863 \r\nL 1159 4863 \r\nL 1159 2956 \r\nQ 1366 3272 1645 3428 \r\nQ 1925 3584 2291 3584 \r\nQ 2894 3584 3203 3211 \r\nQ 3513 2838 3513 2113 \r\nz\r\n\" id=\"DejaVuSans-68\" transform=\"scale(0.015625)\"/>\r\n       <path id=\"DejaVuSans-20\" transform=\"scale(0.015625)\"/>\r\n       <path d=\"M 2834 3397 \r\nL 2834 2853 \r\nQ 2591 2978 2328 3040 \r\nQ 2066 3103 1784 3103 \r\nQ 1356 3103 1142 2972 \r\nQ 928 2841 928 2578 \r\nQ 928 2378 1081 2264 \r\nQ 1234 2150 1697 2047 \r\nL 1894 2003 \r\nQ 2506 1872 2764 1633 \r\nQ 3022 1394 3022 966 \r\nQ 3022 478 2636 193 \r\nQ 2250 -91 1575 -91 \r\nQ 1294 -91 989 -36 \r\nQ 684 19 347 128 \r\nL 347 722 \r\nQ 666 556 975 473 \r\nQ 1284 391 1588 391 \r\nQ 1994 391 2212 530 \r\nQ 2431 669 2431 922 \r\nQ 2431 1156 2273 1281 \r\nQ 2116 1406 1581 1522 \r\nL 1381 1569 \r\nQ 847 1681 609 1914 \r\nQ 372 2147 372 2553 \r\nQ 372 3047 722 3315 \r\nQ 1072 3584 1716 3584 \r\nQ 2034 3584 2315 3537 \r\nQ 2597 3491 2834 3397 \r\nz\r\n\" id=\"DejaVuSans-73\" transform=\"scale(0.015625)\"/>\r\n       <path d=\"M 603 3500 \r\nL 1178 3500 \r\nL 1178 0 \r\nL 603 0 \r\nL 603 3500 \r\nz\r\nM 603 4863 \r\nL 1178 4863 \r\nL 1178 4134 \r\nL 603 4134 \r\nL 603 4863 \r\nz\r\n\" id=\"DejaVuSans-69\" transform=\"scale(0.015625)\"/>\r\n       <path d=\"M 353 3500 \r\nL 3084 3500 \r\nL 3084 2975 \r\nL 922 459 \r\nL 3084 459 \r\nL 3084 0 \r\nL 275 0 \r\nL 275 525 \r\nL 2438 3041 \r\nL 353 3041 \r\nL 353 3500 \r\nz\r\n\" id=\"DejaVuSans-7a\" transform=\"scale(0.015625)\"/>\r\n       <path d=\"M 3597 1894 \r\nL 3597 1613 \r\nL 953 1613 \r\nQ 991 1019 1311 708 \r\nQ 1631 397 2203 397 \r\nQ 2534 397 2845 478 \r\nQ 3156 559 3463 722 \r\nL 3463 178 \r\nQ 3153 47 2828 -22 \r\nQ 2503 -91 2169 -91 \r\nQ 1331 -91 842 396 \r\nQ 353 884 353 1716 \r\nQ 353 2575 817 3079 \r\nQ 1281 3584 2069 3584 \r\nQ 2775 3584 3186 3129 \r\nQ 3597 2675 3597 1894 \r\nz\r\nM 3022 2063 \r\nQ 3016 2534 2758 2815 \r\nQ 2500 3097 2075 3097 \r\nQ 1594 3097 1305 2825 \r\nQ 1016 2553 972 2059 \r\nL 3022 2063 \r\nz\r\n\" id=\"DejaVuSans-65\" transform=\"scale(0.015625)\"/>\r\n      </defs>\r\n      <use xlink:href=\"#DejaVuSans-42\"/>\r\n      <use x=\"68.603516\" xlink:href=\"#DejaVuSans-61\"/>\r\n      <use x=\"129.882812\" xlink:href=\"#DejaVuSans-74\"/>\r\n      <use x=\"169.091797\" xlink:href=\"#DejaVuSans-63\"/>\r\n      <use x=\"224.072266\" xlink:href=\"#DejaVuSans-68\"/>\r\n      <use x=\"287.451172\" xlink:href=\"#DejaVuSans-20\"/>\r\n      <use x=\"319.238281\" xlink:href=\"#DejaVuSans-73\"/>\r\n      <use x=\"371.337891\" xlink:href=\"#DejaVuSans-69\"/>\r\n      <use x=\"399.121094\" xlink:href=\"#DejaVuSans-7a\"/>\r\n      <use x=\"451.611328\" xlink:href=\"#DejaVuSans-65\"/>\r\n      <use x=\"513.134766\" xlink:href=\"#DejaVuSans-20\"/>\r\n      <use x=\"544.921875\" xlink:href=\"#DejaVuSans-42\"/>\r\n     </g>\r\n    </g>\r\n   </g>\r\n   <g id=\"matplotlib.axis_2\">\r\n    <g id=\"ytick_1\">\r\n     <g id=\"line2d_5\">\r\n      <defs>\r\n       <path d=\"M 0 0 \r\nL -3.5 0 \r\n\" id=\"mf9137a18c7\" style=\"stroke:#000000;stroke-width:0.8;\"/>\r\n      </defs>\r\n      <g>\r\n       <use style=\"stroke:#000000;stroke-width:0.8;\" x=\"58.523438\" xlink:href=\"#mf9137a18c7\" y=\"194.989091\"/>\r\n      </g>\r\n     </g>\r\n     <g id=\"text_6\">\r\n      <!-- −0.04 -->\r\n      <g transform=\"translate(20.878125 198.78831)scale(0.1 -0.1)\">\r\n       <defs>\r\n        <path d=\"M 678 2272 \r\nL 4684 2272 \r\nL 4684 1741 \r\nL 678 1741 \r\nL 678 2272 \r\nz\r\n\" id=\"DejaVuSans-2212\" transform=\"scale(0.015625)\"/>\r\n        <path d=\"M 684 794 \r\nL 1344 794 \r\nL 1344 0 \r\nL 684 0 \r\nL 684 794 \r\nz\r\n\" id=\"DejaVuSans-2e\" transform=\"scale(0.015625)\"/>\r\n       </defs>\r\n       <use xlink:href=\"#DejaVuSans-2212\"/>\r\n       <use x=\"83.789062\" xlink:href=\"#DejaVuSans-30\"/>\r\n       <use x=\"147.412109\" xlink:href=\"#DejaVuSans-2e\"/>\r\n       <use x=\"179.199219\" xlink:href=\"#DejaVuSans-30\"/>\r\n       <use x=\"242.822266\" xlink:href=\"#DejaVuSans-34\"/>\r\n      </g>\r\n     </g>\r\n    </g>\r\n    <g id=\"ytick_2\">\r\n     <g id=\"line2d_6\">\r\n      <g>\r\n       <use style=\"stroke:#000000;stroke-width:0.8;\" x=\"58.523438\" xlink:href=\"#mf9137a18c7\" y=\"155.454545\"/>\r\n      </g>\r\n     </g>\r\n     <g id=\"text_7\">\r\n      <!-- −0.02 -->\r\n      <g transform=\"translate(20.878125 159.253764)scale(0.1 -0.1)\">\r\n       <use xlink:href=\"#DejaVuSans-2212\"/>\r\n       <use x=\"83.789062\" xlink:href=\"#DejaVuSans-30\"/>\r\n       <use x=\"147.412109\" xlink:href=\"#DejaVuSans-2e\"/>\r\n       <use x=\"179.199219\" xlink:href=\"#DejaVuSans-30\"/>\r\n       <use x=\"242.822266\" xlink:href=\"#DejaVuSans-32\"/>\r\n      </g>\r\n     </g>\r\n    </g>\r\n    <g id=\"ytick_3\">\r\n     <g id=\"line2d_7\">\r\n      <g>\r\n       <use style=\"stroke:#000000;stroke-width:0.8;\" x=\"58.523438\" xlink:href=\"#mf9137a18c7\" y=\"115.92\"/>\r\n      </g>\r\n     </g>\r\n     <g id=\"text_8\">\r\n      <!-- 0.00 -->\r\n      <g transform=\"translate(29.257813 119.719219)scale(0.1 -0.1)\">\r\n       <use xlink:href=\"#DejaVuSans-30\"/>\r\n       <use x=\"63.623047\" xlink:href=\"#DejaVuSans-2e\"/>\r\n       <use x=\"95.410156\" xlink:href=\"#DejaVuSans-30\"/>\r\n       <use x=\"159.033203\" xlink:href=\"#DejaVuSans-30\"/>\r\n      </g>\r\n     </g>\r\n    </g>\r\n    <g id=\"ytick_4\">\r\n     <g id=\"line2d_8\">\r\n      <g>\r\n       <use style=\"stroke:#000000;stroke-width:0.8;\" x=\"58.523438\" xlink:href=\"#mf9137a18c7\" y=\"76.385455\"/>\r\n      </g>\r\n     </g>\r\n     <g id=\"text_9\">\r\n      <!-- 0.02 -->\r\n      <g transform=\"translate(29.257813 80.184673)scale(0.1 -0.1)\">\r\n       <use xlink:href=\"#DejaVuSans-30\"/>\r\n       <use x=\"63.623047\" xlink:href=\"#DejaVuSans-2e\"/>\r\n       <use x=\"95.410156\" xlink:href=\"#DejaVuSans-30\"/>\r\n       <use x=\"159.033203\" xlink:href=\"#DejaVuSans-32\"/>\r\n      </g>\r\n     </g>\r\n    </g>\r\n    <g id=\"ytick_5\">\r\n     <g id=\"line2d_9\">\r\n      <g>\r\n       <use style=\"stroke:#000000;stroke-width:0.8;\" x=\"58.523438\" xlink:href=\"#mf9137a18c7\" y=\"36.850909\"/>\r\n      </g>\r\n     </g>\r\n     <g id=\"text_10\">\r\n      <!-- 0.04 -->\r\n      <g transform=\"translate(29.257813 40.650128)scale(0.1 -0.1)\">\r\n       <use xlink:href=\"#DejaVuSans-30\"/>\r\n       <use x=\"63.623047\" xlink:href=\"#DejaVuSans-2e\"/>\r\n       <use x=\"95.410156\" xlink:href=\"#DejaVuSans-30\"/>\r\n       <use x=\"159.033203\" xlink:href=\"#DejaVuSans-34\"/>\r\n      </g>\r\n     </g>\r\n    </g>\r\n    <g id=\"text_11\">\r\n     <!-- Runtime (s) -->\r\n     <g transform=\"translate(14.798438 144.898125)rotate(-90)scale(0.1 -0.1)\">\r\n      <defs>\r\n       <path d=\"M 2841 2188 \r\nQ 3044 2119 3236 1894 \r\nQ 3428 1669 3622 1275 \r\nL 4263 0 \r\nL 3584 0 \r\nL 2988 1197 \r\nQ 2756 1666 2539 1819 \r\nQ 2322 1972 1947 1972 \r\nL 1259 1972 \r\nL 1259 0 \r\nL 628 0 \r\nL 628 4666 \r\nL 2053 4666 \r\nQ 2853 4666 3247 4331 \r\nQ 3641 3997 3641 3322 \r\nQ 3641 2881 3436 2590 \r\nQ 3231 2300 2841 2188 \r\nz\r\nM 1259 4147 \r\nL 1259 2491 \r\nL 2053 2491 \r\nQ 2509 2491 2742 2702 \r\nQ 2975 2913 2975 3322 \r\nQ 2975 3731 2742 3939 \r\nQ 2509 4147 2053 4147 \r\nL 1259 4147 \r\nz\r\n\" id=\"DejaVuSans-52\" transform=\"scale(0.015625)\"/>\r\n       <path d=\"M 544 1381 \r\nL 544 3500 \r\nL 1119 3500 \r\nL 1119 1403 \r\nQ 1119 906 1312 657 \r\nQ 1506 409 1894 409 \r\nQ 2359 409 2629 706 \r\nQ 2900 1003 2900 1516 \r\nL 2900 3500 \r\nL 3475 3500 \r\nL 3475 0 \r\nL 2900 0 \r\nL 2900 538 \r\nQ 2691 219 2414 64 \r\nQ 2138 -91 1772 -91 \r\nQ 1169 -91 856 284 \r\nQ 544 659 544 1381 \r\nz\r\nM 1991 3584 \r\nL 1991 3584 \r\nz\r\n\" id=\"DejaVuSans-75\" transform=\"scale(0.015625)\"/>\r\n       <path d=\"M 3513 2113 \r\nL 3513 0 \r\nL 2938 0 \r\nL 2938 2094 \r\nQ 2938 2591 2744 2837 \r\nQ 2550 3084 2163 3084 \r\nQ 1697 3084 1428 2787 \r\nQ 1159 2491 1159 1978 \r\nL 1159 0 \r\nL 581 0 \r\nL 581 3500 \r\nL 1159 3500 \r\nL 1159 2956 \r\nQ 1366 3272 1645 3428 \r\nQ 1925 3584 2291 3584 \r\nQ 2894 3584 3203 3211 \r\nQ 3513 2838 3513 2113 \r\nz\r\n\" id=\"DejaVuSans-6e\" transform=\"scale(0.015625)\"/>\r\n       <path d=\"M 3328 2828 \r\nQ 3544 3216 3844 3400 \r\nQ 4144 3584 4550 3584 \r\nQ 5097 3584 5394 3201 \r\nQ 5691 2819 5691 2113 \r\nL 5691 0 \r\nL 5113 0 \r\nL 5113 2094 \r\nQ 5113 2597 4934 2840 \r\nQ 4756 3084 4391 3084 \r\nQ 3944 3084 3684 2787 \r\nQ 3425 2491 3425 1978 \r\nL 3425 0 \r\nL 2847 0 \r\nL 2847 2094 \r\nQ 2847 2600 2669 2842 \r\nQ 2491 3084 2119 3084 \r\nQ 1678 3084 1418 2786 \r\nQ 1159 2488 1159 1978 \r\nL 1159 0 \r\nL 581 0 \r\nL 581 3500 \r\nL 1159 3500 \r\nL 1159 2956 \r\nQ 1356 3278 1631 3431 \r\nQ 1906 3584 2284 3584 \r\nQ 2666 3584 2933 3390 \r\nQ 3200 3197 3328 2828 \r\nz\r\n\" id=\"DejaVuSans-6d\" transform=\"scale(0.015625)\"/>\r\n       <path d=\"M 1984 4856 \r\nQ 1566 4138 1362 3434 \r\nQ 1159 2731 1159 2009 \r\nQ 1159 1288 1364 580 \r\nQ 1569 -128 1984 -844 \r\nL 1484 -844 \r\nQ 1016 -109 783 600 \r\nQ 550 1309 550 2009 \r\nQ 550 2706 781 3412 \r\nQ 1013 4119 1484 4856 \r\nL 1984 4856 \r\nz\r\n\" id=\"DejaVuSans-28\" transform=\"scale(0.015625)\"/>\r\n       <path d=\"M 513 4856 \r\nL 1013 4856 \r\nQ 1481 4119 1714 3412 \r\nQ 1947 2706 1947 2009 \r\nQ 1947 1309 1714 600 \r\nQ 1481 -109 1013 -844 \r\nL 513 -844 \r\nQ 928 -128 1133 580 \r\nQ 1338 1288 1338 2009 \r\nQ 1338 2731 1133 3434 \r\nQ 928 4138 513 4856 \r\nz\r\n\" id=\"DejaVuSans-29\" transform=\"scale(0.015625)\"/>\r\n      </defs>\r\n      <use xlink:href=\"#DejaVuSans-52\"/>\r\n      <use x=\"64.982422\" xlink:href=\"#DejaVuSans-75\"/>\r\n      <use x=\"128.361328\" xlink:href=\"#DejaVuSans-6e\"/>\r\n      <use x=\"191.740234\" xlink:href=\"#DejaVuSans-74\"/>\r\n      <use x=\"230.949219\" xlink:href=\"#DejaVuSans-69\"/>\r\n      <use x=\"258.732422\" xlink:href=\"#DejaVuSans-6d\"/>\r\n      <use x=\"356.144531\" xlink:href=\"#DejaVuSans-65\"/>\r\n      <use x=\"417.667969\" xlink:href=\"#DejaVuSans-20\"/>\r\n      <use x=\"449.455078\" xlink:href=\"#DejaVuSans-28\"/>\r\n      <use x=\"488.46875\" xlink:href=\"#DejaVuSans-73\"/>\r\n      <use x=\"540.568359\" xlink:href=\"#DejaVuSans-29\"/>\r\n     </g>\r\n    </g>\r\n   </g>\r\n   <g id=\"line2d_10\">\r\n    <path clip-path=\"url(#p7b9a0f1a5c)\" d=\"M 73.741619 115.92 \r\nL 90.65071 115.92 \r\nL 107.559801 115.92 \r\nL 124.468892 115.92 \r\nL 141.377983 115.92 \r\nL 158.287074 115.92 \r\nL 175.196165 115.92 \r\nL 192.105256 115.92 \r\nL 209.014347 115.92 \r\nL 225.923438 115.92 \r\nL 242.832528 115.92 \r\nL 259.741619 115.92 \r\nL 276.65071 115.92 \r\nL 293.559801 115.92 \r\nL 310.468892 115.92 \r\nL 327.377983 115.92 \r\nL 344.287074 115.92 \r\nL 361.196165 115.92 \r\nL 378.105256 115.92 \r\n\" style=\"fill:none;stroke:#1f77b4;stroke-linecap:square;stroke-width:1.5;\"/>\r\n    <defs>\r\n     <path d=\"M 0 3 \r\nC 0.795609 3 1.55874 2.683901 2.12132 2.12132 \r\nC 2.683901 1.55874 3 0.795609 3 0 \r\nC 3 -0.795609 2.683901 -1.55874 2.12132 -2.12132 \r\nC 1.55874 -2.683901 0.795609 -3 0 -3 \r\nC -0.795609 -3 -1.55874 -2.683901 -2.12132 -2.12132 \r\nC -2.683901 -1.55874 -3 -0.795609 -3 0 \r\nC -3 0.795609 -2.683901 1.55874 -2.12132 2.12132 \r\nC -1.55874 2.683901 -0.795609 3 0 3 \r\nz\r\n\" id=\"mf034d95103\" style=\"stroke:#1f77b4;\"/>\r\n    </defs>\r\n    <g clip-path=\"url(#p7b9a0f1a5c)\">\r\n     <use style=\"fill:#1f77b4;stroke:#1f77b4;\" x=\"73.741619\" xlink:href=\"#mf034d95103\" y=\"115.92\"/>\r\n     <use style=\"fill:#1f77b4;stroke:#1f77b4;\" x=\"90.65071\" xlink:href=\"#mf034d95103\" y=\"115.92\"/>\r\n     <use style=\"fill:#1f77b4;stroke:#1f77b4;\" x=\"107.559801\" xlink:href=\"#mf034d95103\" y=\"115.92\"/>\r\n     <use style=\"fill:#1f77b4;stroke:#1f77b4;\" x=\"124.468892\" xlink:href=\"#mf034d95103\" y=\"115.92\"/>\r\n     <use style=\"fill:#1f77b4;stroke:#1f77b4;\" x=\"141.377983\" xlink:href=\"#mf034d95103\" y=\"115.92\"/>\r\n     <use style=\"fill:#1f77b4;stroke:#1f77b4;\" x=\"158.287074\" xlink:href=\"#mf034d95103\" y=\"115.92\"/>\r\n     <use style=\"fill:#1f77b4;stroke:#1f77b4;\" x=\"175.196165\" xlink:href=\"#mf034d95103\" y=\"115.92\"/>\r\n     <use style=\"fill:#1f77b4;stroke:#1f77b4;\" x=\"192.105256\" xlink:href=\"#mf034d95103\" y=\"115.92\"/>\r\n     <use style=\"fill:#1f77b4;stroke:#1f77b4;\" x=\"209.014347\" xlink:href=\"#mf034d95103\" y=\"115.92\"/>\r\n     <use style=\"fill:#1f77b4;stroke:#1f77b4;\" x=\"225.923438\" xlink:href=\"#mf034d95103\" y=\"115.92\"/>\r\n     <use style=\"fill:#1f77b4;stroke:#1f77b4;\" x=\"242.832528\" xlink:href=\"#mf034d95103\" y=\"115.92\"/>\r\n     <use style=\"fill:#1f77b4;stroke:#1f77b4;\" x=\"259.741619\" xlink:href=\"#mf034d95103\" y=\"115.92\"/>\r\n     <use style=\"fill:#1f77b4;stroke:#1f77b4;\" x=\"276.65071\" xlink:href=\"#mf034d95103\" y=\"115.92\"/>\r\n     <use style=\"fill:#1f77b4;stroke:#1f77b4;\" x=\"293.559801\" xlink:href=\"#mf034d95103\" y=\"115.92\"/>\r\n     <use style=\"fill:#1f77b4;stroke:#1f77b4;\" x=\"310.468892\" xlink:href=\"#mf034d95103\" y=\"115.92\"/>\r\n     <use style=\"fill:#1f77b4;stroke:#1f77b4;\" x=\"327.377983\" xlink:href=\"#mf034d95103\" y=\"115.92\"/>\r\n     <use style=\"fill:#1f77b4;stroke:#1f77b4;\" x=\"344.287074\" xlink:href=\"#mf034d95103\" y=\"115.92\"/>\r\n     <use style=\"fill:#1f77b4;stroke:#1f77b4;\" x=\"361.196165\" xlink:href=\"#mf034d95103\" y=\"115.92\"/>\r\n     <use style=\"fill:#1f77b4;stroke:#1f77b4;\" x=\"378.105256\" xlink:href=\"#mf034d95103\" y=\"115.92\"/>\r\n    </g>\r\n   </g>\r\n   <g id=\"line2d_11\">\r\n    <path clip-path=\"url(#p7b9a0f1a5c)\" d=\"M 73.741619 115.92 \r\nL 90.65071 115.92 \r\nL 107.559801 115.92 \r\nL 124.468892 115.92 \r\nL 141.377983 115.92 \r\nL 158.287074 115.92 \r\nL 175.196165 115.92 \r\nL 192.105256 115.92 \r\nL 209.014347 115.92 \r\nL 225.923438 115.92 \r\nL 242.832528 115.92 \r\nL 259.741619 115.92 \r\nL 276.65071 115.92 \r\nL 293.559801 115.92 \r\nL 310.468892 115.92 \r\nL 327.377983 115.92 \r\nL 344.287074 115.92 \r\nL 361.196165 115.92 \r\nL 378.105256 115.92 \r\n\" style=\"fill:none;stroke:#ff7f0e;stroke-linecap:square;stroke-width:1.5;\"/>\r\n    <defs>\r\n     <path d=\"M 0 3 \r\nC 0.795609 3 1.55874 2.683901 2.12132 2.12132 \r\nC 2.683901 1.55874 3 0.795609 3 0 \r\nC 3 -0.795609 2.683901 -1.55874 2.12132 -2.12132 \r\nC 1.55874 -2.683901 0.795609 -3 0 -3 \r\nC -0.795609 -3 -1.55874 -2.683901 -2.12132 -2.12132 \r\nC -2.683901 -1.55874 -3 -0.795609 -3 0 \r\nC -3 0.795609 -2.683901 1.55874 -2.12132 2.12132 \r\nC -1.55874 2.683901 -0.795609 3 0 3 \r\nz\r\n\" id=\"m843cc28f78\" style=\"stroke:#ff7f0e;\"/>\r\n    </defs>\r\n    <g clip-path=\"url(#p7b9a0f1a5c)\">\r\n     <use style=\"fill:#ff7f0e;stroke:#ff7f0e;\" x=\"73.741619\" xlink:href=\"#m843cc28f78\" y=\"115.92\"/>\r\n     <use style=\"fill:#ff7f0e;stroke:#ff7f0e;\" x=\"90.65071\" xlink:href=\"#m843cc28f78\" y=\"115.92\"/>\r\n     <use style=\"fill:#ff7f0e;stroke:#ff7f0e;\" x=\"107.559801\" xlink:href=\"#m843cc28f78\" y=\"115.92\"/>\r\n     <use style=\"fill:#ff7f0e;stroke:#ff7f0e;\" x=\"124.468892\" xlink:href=\"#m843cc28f78\" y=\"115.92\"/>\r\n     <use style=\"fill:#ff7f0e;stroke:#ff7f0e;\" x=\"141.377983\" xlink:href=\"#m843cc28f78\" y=\"115.92\"/>\r\n     <use style=\"fill:#ff7f0e;stroke:#ff7f0e;\" x=\"158.287074\" xlink:href=\"#m843cc28f78\" y=\"115.92\"/>\r\n     <use style=\"fill:#ff7f0e;stroke:#ff7f0e;\" x=\"175.196165\" xlink:href=\"#m843cc28f78\" y=\"115.92\"/>\r\n     <use style=\"fill:#ff7f0e;stroke:#ff7f0e;\" x=\"192.105256\" xlink:href=\"#m843cc28f78\" y=\"115.92\"/>\r\n     <use style=\"fill:#ff7f0e;stroke:#ff7f0e;\" x=\"209.014347\" xlink:href=\"#m843cc28f78\" y=\"115.92\"/>\r\n     <use style=\"fill:#ff7f0e;stroke:#ff7f0e;\" x=\"225.923438\" xlink:href=\"#m843cc28f78\" y=\"115.92\"/>\r\n     <use style=\"fill:#ff7f0e;stroke:#ff7f0e;\" x=\"242.832528\" xlink:href=\"#m843cc28f78\" y=\"115.92\"/>\r\n     <use style=\"fill:#ff7f0e;stroke:#ff7f0e;\" x=\"259.741619\" xlink:href=\"#m843cc28f78\" y=\"115.92\"/>\r\n     <use style=\"fill:#ff7f0e;stroke:#ff7f0e;\" x=\"276.65071\" xlink:href=\"#m843cc28f78\" y=\"115.92\"/>\r\n     <use style=\"fill:#ff7f0e;stroke:#ff7f0e;\" x=\"293.559801\" xlink:href=\"#m843cc28f78\" y=\"115.92\"/>\r\n     <use style=\"fill:#ff7f0e;stroke:#ff7f0e;\" x=\"310.468892\" xlink:href=\"#m843cc28f78\" y=\"115.92\"/>\r\n     <use style=\"fill:#ff7f0e;stroke:#ff7f0e;\" x=\"327.377983\" xlink:href=\"#m843cc28f78\" y=\"115.92\"/>\r\n     <use style=\"fill:#ff7f0e;stroke:#ff7f0e;\" x=\"344.287074\" xlink:href=\"#m843cc28f78\" y=\"115.92\"/>\r\n     <use style=\"fill:#ff7f0e;stroke:#ff7f0e;\" x=\"361.196165\" xlink:href=\"#m843cc28f78\" y=\"115.92\"/>\r\n     <use style=\"fill:#ff7f0e;stroke:#ff7f0e;\" x=\"378.105256\" xlink:href=\"#m843cc28f78\" y=\"115.92\"/>\r\n    </g>\r\n   </g>\r\n   <g id=\"patch_3\">\r\n    <path d=\"M 58.523438 224.64 \r\nL 58.523438 7.2 \r\n\" style=\"fill:none;stroke:#000000;stroke-linecap:square;stroke-linejoin:miter;stroke-width:0.8;\"/>\r\n   </g>\r\n   <g id=\"patch_4\">\r\n    <path d=\"M 393.323438 224.64 \r\nL 393.323438 7.2 \r\n\" style=\"fill:none;stroke:#000000;stroke-linecap:square;stroke-linejoin:miter;stroke-width:0.8;\"/>\r\n   </g>\r\n   <g id=\"patch_5\">\r\n    <path d=\"M 58.523438 224.64 \r\nL 393.323438 224.64 \r\n\" style=\"fill:none;stroke:#000000;stroke-linecap:square;stroke-linejoin:miter;stroke-width:0.8;\"/>\r\n   </g>\r\n   <g id=\"patch_6\">\r\n    <path d=\"M 58.523438 7.2 \r\nL 393.323438 7.2 \r\n\" style=\"fill:none;stroke:#000000;stroke-linecap:square;stroke-linejoin:miter;stroke-width:0.8;\"/>\r\n   </g>\r\n   <g id=\"legend_1\">\r\n    <g id=\"patch_7\">\r\n     <path d=\"M 276.771875 45.1125 \r\nL 386.323438 45.1125 \r\nQ 388.323438 45.1125 388.323438 43.1125 \r\nL 388.323438 14.2 \r\nQ 388.323438 12.2 386.323438 12.2 \r\nL 276.771875 12.2 \r\nQ 274.771875 12.2 274.771875 14.2 \r\nL 274.771875 43.1125 \r\nQ 274.771875 45.1125 276.771875 45.1125 \r\nz\r\n\" style=\"fill:#ffffff;opacity:0.8;stroke:#cccccc;stroke-linejoin:miter;\"/>\r\n    </g>\r\n    <g id=\"line2d_12\">\r\n     <path d=\"M 278.771875 20.298437 \r\nL 298.771875 20.298437 \r\n\" style=\"fill:none;stroke:#1f77b4;stroke-linecap:square;stroke-width:1.5;\"/>\r\n    </g>\r\n    <g id=\"line2d_13\">\r\n     <g>\r\n      <use style=\"fill:#1f77b4;stroke:#1f77b4;\" x=\"288.771875\" xlink:href=\"#mf034d95103\" y=\"20.298437\"/>\r\n     </g>\r\n    </g>\r\n    <g id=\"text_12\">\r\n     <!-- use_loop=True -->\r\n     <g transform=\"translate(306.771875 23.798437)scale(0.1 -0.1)\">\r\n      <defs>\r\n       <path d=\"M 3263 -1063 \r\nL 3263 -1509 \r\nL -63 -1509 \r\nL -63 -1063 \r\nL 3263 -1063 \r\nz\r\n\" id=\"DejaVuSans-5f\" transform=\"scale(0.015625)\"/>\r\n       <path d=\"M 603 4863 \r\nL 1178 4863 \r\nL 1178 0 \r\nL 603 0 \r\nL 603 4863 \r\nz\r\n\" id=\"DejaVuSans-6c\" transform=\"scale(0.015625)\"/>\r\n       <path d=\"M 1959 3097 \r\nQ 1497 3097 1228 2736 \r\nQ 959 2375 959 1747 \r\nQ 959 1119 1226 758 \r\nQ 1494 397 1959 397 \r\nQ 2419 397 2687 759 \r\nQ 2956 1122 2956 1747 \r\nQ 2956 2369 2687 2733 \r\nQ 2419 3097 1959 3097 \r\nz\r\nM 1959 3584 \r\nQ 2709 3584 3137 3096 \r\nQ 3566 2609 3566 1747 \r\nQ 3566 888 3137 398 \r\nQ 2709 -91 1959 -91 \r\nQ 1206 -91 779 398 \r\nQ 353 888 353 1747 \r\nQ 353 2609 779 3096 \r\nQ 1206 3584 1959 3584 \r\nz\r\n\" id=\"DejaVuSans-6f\" transform=\"scale(0.015625)\"/>\r\n       <path d=\"M 1159 525 \r\nL 1159 -1331 \r\nL 581 -1331 \r\nL 581 3500 \r\nL 1159 3500 \r\nL 1159 2969 \r\nQ 1341 3281 1617 3432 \r\nQ 1894 3584 2278 3584 \r\nQ 2916 3584 3314 3078 \r\nQ 3713 2572 3713 1747 \r\nQ 3713 922 3314 415 \r\nQ 2916 -91 2278 -91 \r\nQ 1894 -91 1617 61 \r\nQ 1341 213 1159 525 \r\nz\r\nM 3116 1747 \r\nQ 3116 2381 2855 2742 \r\nQ 2594 3103 2138 3103 \r\nQ 1681 3103 1420 2742 \r\nQ 1159 2381 1159 1747 \r\nQ 1159 1113 1420 752 \r\nQ 1681 391 2138 391 \r\nQ 2594 391 2855 752 \r\nQ 3116 1113 3116 1747 \r\nz\r\n\" id=\"DejaVuSans-70\" transform=\"scale(0.015625)\"/>\r\n       <path d=\"M 678 2906 \r\nL 4684 2906 \r\nL 4684 2381 \r\nL 678 2381 \r\nL 678 2906 \r\nz\r\nM 678 1631 \r\nL 4684 1631 \r\nL 4684 1100 \r\nL 678 1100 \r\nL 678 1631 \r\nz\r\n\" id=\"DejaVuSans-3d\" transform=\"scale(0.015625)\"/>\r\n       <path d=\"M -19 4666 \r\nL 3928 4666 \r\nL 3928 4134 \r\nL 2272 4134 \r\nL 2272 0 \r\nL 1638 0 \r\nL 1638 4134 \r\nL -19 4134 \r\nL -19 4666 \r\nz\r\n\" id=\"DejaVuSans-54\" transform=\"scale(0.015625)\"/>\r\n       <path d=\"M 2631 2963 \r\nQ 2534 3019 2420 3045 \r\nQ 2306 3072 2169 3072 \r\nQ 1681 3072 1420 2755 \r\nQ 1159 2438 1159 1844 \r\nL 1159 0 \r\nL 581 0 \r\nL 581 3500 \r\nL 1159 3500 \r\nL 1159 2956 \r\nQ 1341 3275 1631 3429 \r\nQ 1922 3584 2338 3584 \r\nQ 2397 3584 2469 3576 \r\nQ 2541 3569 2628 3553 \r\nL 2631 2963 \r\nz\r\n\" id=\"DejaVuSans-72\" transform=\"scale(0.015625)\"/>\r\n      </defs>\r\n      <use xlink:href=\"#DejaVuSans-75\"/>\r\n      <use x=\"63.378906\" xlink:href=\"#DejaVuSans-73\"/>\r\n      <use x=\"115.478516\" xlink:href=\"#DejaVuSans-65\"/>\r\n      <use x=\"177.001953\" xlink:href=\"#DejaVuSans-5f\"/>\r\n      <use x=\"227.001953\" xlink:href=\"#DejaVuSans-6c\"/>\r\n      <use x=\"254.785156\" xlink:href=\"#DejaVuSans-6f\"/>\r\n      <use x=\"315.966797\" xlink:href=\"#DejaVuSans-6f\"/>\r\n      <use x=\"377.148438\" xlink:href=\"#DejaVuSans-70\"/>\r\n      <use x=\"440.625\" xlink:href=\"#DejaVuSans-3d\"/>\r\n      <use x=\"524.414062\" xlink:href=\"#DejaVuSans-54\"/>\r\n      <use x=\"570.748047\" xlink:href=\"#DejaVuSans-72\"/>\r\n      <use x=\"611.861328\" xlink:href=\"#DejaVuSans-75\"/>\r\n      <use x=\"675.240234\" xlink:href=\"#DejaVuSans-65\"/>\r\n     </g>\r\n    </g>\r\n    <g id=\"line2d_14\">\r\n     <path d=\"M 278.771875 35.254687 \r\nL 298.771875 35.254687 \r\n\" style=\"fill:none;stroke:#ff7f0e;stroke-linecap:square;stroke-width:1.5;\"/>\r\n    </g>\r\n    <g id=\"line2d_15\">\r\n     <g>\r\n      <use style=\"fill:#ff7f0e;stroke:#ff7f0e;\" x=\"288.771875\" xlink:href=\"#m843cc28f78\" y=\"35.254687\"/>\r\n     </g>\r\n    </g>\r\n    <g id=\"text_13\">\r\n     <!-- use_loop=False -->\r\n     <g transform=\"translate(306.771875 38.754687)scale(0.1 -0.1)\">\r\n      <defs>\r\n       <path d=\"M 628 4666 \r\nL 3309 4666 \r\nL 3309 4134 \r\nL 1259 4134 \r\nL 1259 2759 \r\nL 3109 2759 \r\nL 3109 2228 \r\nL 1259 2228 \r\nL 1259 0 \r\nL 628 0 \r\nL 628 4666 \r\nz\r\n\" id=\"DejaVuSans-46\" transform=\"scale(0.015625)\"/>\r\n      </defs>\r\n      <use xlink:href=\"#DejaVuSans-75\"/>\r\n      <use x=\"63.378906\" xlink:href=\"#DejaVuSans-73\"/>\r\n      <use x=\"115.478516\" xlink:href=\"#DejaVuSans-65\"/>\r\n      <use x=\"177.001953\" xlink:href=\"#DejaVuSans-5f\"/>\r\n      <use x=\"227.001953\" xlink:href=\"#DejaVuSans-6c\"/>\r\n      <use x=\"254.785156\" xlink:href=\"#DejaVuSans-6f\"/>\r\n      <use x=\"315.966797\" xlink:href=\"#DejaVuSans-6f\"/>\r\n      <use x=\"377.148438\" xlink:href=\"#DejaVuSans-70\"/>\r\n      <use x=\"440.625\" xlink:href=\"#DejaVuSans-3d\"/>\r\n      <use x=\"524.414062\" xlink:href=\"#DejaVuSans-46\"/>\r\n      <use x=\"572.808594\" xlink:href=\"#DejaVuSans-61\"/>\r\n      <use x=\"634.087891\" xlink:href=\"#DejaVuSans-6c\"/>\r\n      <use x=\"661.871094\" xlink:href=\"#DejaVuSans-73\"/>\r\n      <use x=\"713.970703\" xlink:href=\"#DejaVuSans-65\"/>\r\n     </g>\r\n    </g>\r\n   </g>\r\n  </g>\r\n </g>\r\n <defs>\r\n  <clipPath id=\"p7b9a0f1a5c\">\r\n   <rect height=\"217.44\" width=\"334.8\" x=\"58.523438\" y=\"7.2\"/>\r\n  </clipPath>\r\n </defs>\r\n</svg>\r\n",
      "image/png": "[encoded data removed]"
     },
     "metadata": {
      "needs_background": "light"
     }
    }
   ],
   "metadata": {
    "colab": {
     "base_uri": "https://localhost:8080/",
     "height": 279
    },
    "colab_type": "code",
    "id": "a-acTIOpVTRR",
    "outputId": "23233526-944f-4cea-8f95-eeaca2fa94eb"
   }
  },
  {
   "cell_type": "markdown",
   "source": [
    "## Broadcasting"
   ],
   "metadata": {
    "colab_type": "text",
    "id": "UISn2pcf9QjY"
   }
  },
  {
   "cell_type": "markdown",
   "source": [
    "Broadcasting is a powerful mechanism that allows PyTorch to work with arrays of different shapes when performing arithmetic operations. Frequently we have a smaller tensor and a larger tensor, and we want to use the smaller tensor multiple times to perform some operation on the larger tensor.\n",
    "\n",
    "For example, suppose that we want to add a constant vector to each row of a tensor. We could do it like this:\n"
   ],
   "metadata": {
    "colab_type": "text",
    "id": "fTj6f8VN9UZg"
   }
  },
  {
   "cell_type": "code",
   "execution_count": 72,
   "source": [
    "# We will add the vector v to each row of the matrix x,\r\n",
    "# storing the result in the matrix y\r\n",
    "x = torch.tensor([[1,2,3], [4,5,6], [7,8,9], [10, 11, 12]])\r\n",
    "v = torch.tensor([1, 0, 1])\r\n",
    "y = torch.zeros_like(x)   # Create an empty matrix with the same shape as x\r\n",
    "\r\n",
    "# Add the vector v to each row of the matrix x with an explicit loop\r\n",
    "for i in range(4):\r\n",
    "    y[i, :] = x[i, :] + v\r\n",
    "\r\n",
    "print(y)"
   ],
   "outputs": [
    {
     "output_type": "stream",
     "name": "stdout",
     "text": [
      "tensor([[ 2,  2,  4],\n",
      "        [ 5,  5,  7],\n",
      "        [ 8,  8, 10],\n",
      "        [11, 11, 13]])\n"
     ]
    }
   ],
   "metadata": {
    "colab": {
     "base_uri": "https://localhost:8080/",
     "height": 85
    },
    "colab_type": "code",
    "id": "kF0Dhzlu9fef",
    "outputId": "77826484-6cad-4953-ecbe-099c4460c0e0"
   }
  },
  {
   "cell_type": "markdown",
   "source": [
    "This works; however when the tensor x is very large, computing an explicit loop in Python could be slow. Note that adding the vector v to each row of the tensor x is equivalent to forming a tensor vv by stacking multiple copies of v vertically, then performing elementwise summation of x and vv. We could implement this approach like this:\n"
   ],
   "metadata": {
    "colab_type": "text",
    "id": "7gXpoBKE9vp7"
   }
  },
  {
   "cell_type": "code",
   "execution_count": 75,
   "source": [
    "vv = v.repeat((4, 1))  # Stack 4 copies of v on top of each other\r\n",
    "print(vv)              # Prints \"[[1 0 1]\r\n",
    "                       #          [1 0 1]\r\n",
    "                       #          [1 0 1]\r\n",
    "                       #          [1 0 1]]\""
   ],
   "outputs": [
    {
     "output_type": "stream",
     "name": "stdout",
     "text": [
      "tensor([[1, 0, 1],\n",
      "        [1, 0, 1],\n",
      "        [1, 0, 1],\n",
      "        [1, 0, 1]])\n"
     ]
    }
   ],
   "metadata": {
    "colab": {
     "base_uri": "https://localhost:8080/",
     "height": 85
    },
    "colab_type": "code",
    "id": "_2_5cKeu94c2",
    "outputId": "2ff7ec2f-28ff-4f61-ca72-96ccd0b6464b"
   }
  },
  {
   "cell_type": "code",
   "execution_count": 76,
   "source": [
    "y = x + vv  # Add x and vv elementwise\r\n",
    "print(y)"
   ],
   "outputs": [
    {
     "output_type": "stream",
     "name": "stdout",
     "text": [
      "tensor([[ 2,  2,  4],\n",
      "        [ 5,  5,  7],\n",
      "        [ 8,  8, 10],\n",
      "        [11, 11, 13]])\n"
     ]
    }
   ],
   "metadata": {
    "colab": {
     "base_uri": "https://localhost:8080/",
     "height": 85
    },
    "colab_type": "code",
    "id": "1KiRj23p-QIs",
    "outputId": "4e08cbed-1ca2-4c55-eb37-beed43f19bdb"
   }
  },
  {
   "cell_type": "markdown",
   "source": [
    "PyTorch broadcasting allows us to perform this computation without actually creating multiple copies of v. Consider this version, using broadcasting:"
   ],
   "metadata": {
    "colab_type": "text",
    "id": "A7NNlSsHBKib"
   }
  },
  {
   "cell_type": "code",
   "execution_count": 77,
   "source": [
    "# We will add the vector v to each row of the matrix x,\r\n",
    "# storing the result in the matrix y\r\n",
    "x = torch.tensor([[1,2,3], [4,5,6], [7,8,9], [10, 11, 12]])\r\n",
    "v = torch.tensor([1, 0, 1])\r\n",
    "y = x + v  # Add v to each row of x using broadcasting\r\n",
    "print(y)"
   ],
   "outputs": [
    {
     "output_type": "stream",
     "name": "stdout",
     "text": [
      "tensor([[ 2,  2,  4],\n",
      "        [ 5,  5,  7],\n",
      "        [ 8,  8, 10],\n",
      "        [11, 11, 13]])\n"
     ]
    }
   ],
   "metadata": {
    "colab": {
     "base_uri": "https://localhost:8080/",
     "height": 85
    },
    "colab_type": "code",
    "id": "2jIiZc-ABBnt",
    "outputId": "21434ba2-5bb7-448b-b524-76ac4f57c340"
   }
  },
  {
   "cell_type": "markdown",
   "source": [
    "The line y = x + v works even though x has shape (4, 3) and v has shape (3,) due to broadcasting; this line works as if v actually had shape (4, 3), where each row was a copy of v, and the sum was performed elementwise.\n",
    "\n",
    "Broadcasting two tensors together follows these rules:\n",
    "\n",
    "1.   If the tensors do not have the same rank, prepend the shape of the lower rank array with 1s until both shapes have the same length.\n",
    "2.   The two tensors are said to be *compatible* in a dimension if they have the same size in the dimension, or if one of the tensors has size 1 in that dimension.\n",
    "3.   The tensors can be broadcast together if they are compatible in all dimensions.\n",
    "4.   After broadcasting, each tensor behaves as if it had shape equal to the elementwise maximum of shapes of the two input tensors.\n",
    "5.   In any dimension where one tensor had size 1 and the other tensor had size greater than 1, the first tensor behaves as if it were copied along that dimension\n",
    "\n",
    "If this explanation does not make sense, try reading the explanation from the [documentation](https://pytorch.org/docs/stable/notes/broadcasting.html).\n",
    "\n",
    "Broadcasting usually happens implicitly inside many PyTorch operators. However we can also broadcast explicitly using the function [`torch.broadcast_tensors`](https://pytorch.org/docs/stable/generated/torch.broadcast_tensors.html#torch.broadcast_tensors):"
   ],
   "metadata": {
    "colab_type": "text",
    "id": "HuUBX8YnBSIG"
   }
  },
  {
   "cell_type": "code",
   "execution_count": 80,
   "source": [
    "x = torch.tensor([[1, 2, 3], [4, 5, 6], [7, 8, 9], [10, 11, 12]])\r\n",
    "v = torch.tensor([1, 0, 1])\r\n",
    "print('Here is x (before broadcasting):')\r\n",
    "print(x)\r\n",
    "print('x.shape: ', x.shape)\r\n",
    "print('\\nHere is v (before broadcasting):')\r\n",
    "print(v)\r\n",
    "print('v.shape: ', v.shape)\r\n",
    "\r\n",
    "xx, vv = torch.broadcast_tensors(x, v)\r\n",
    "print('Here is xx (after) broadcasting):')\r\n",
    "print(xx)\r\n",
    "print('xx.shape: ', x.shape)\r\n",
    "print('\\nHere is vv (after broadcasting):')\r\n",
    "print(vv)\r\n",
    "print('vv.shape: ', vv.shape)\r\n",
    "\r\n",
    "print('Broadcast Result')\r\n",
    "print(x+v)"
   ],
   "outputs": [
    {
     "output_type": "stream",
     "name": "stdout",
     "text": [
      "Here is x (before broadcasting):\n",
      "tensor([[ 1,  2,  3],\n",
      "        [ 4,  5,  6],\n",
      "        [ 7,  8,  9],\n",
      "        [10, 11, 12]])\n",
      "x.shape:  torch.Size([4, 3])\n",
      "\n",
      "Here is v (before broadcasting):\n",
      "tensor([1, 0, 1])\n",
      "v.shape:  torch.Size([3])\n",
      "Here is xx (after) broadcasting):\n",
      "tensor([[ 1,  2,  3],\n",
      "        [ 4,  5,  6],\n",
      "        [ 7,  8,  9],\n",
      "        [10, 11, 12]])\n",
      "xx.shape:  torch.Size([4, 3])\n",
      "\n",
      "Here is vv (after broadcasting):\n",
      "tensor([[1, 0, 1],\n",
      "        [1, 0, 1],\n",
      "        [1, 0, 1],\n",
      "        [1, 0, 1]])\n",
      "vv.shape:  torch.Size([4, 3])\n",
      "Broadcast Result\n",
      "tensor([[ 2,  2,  4],\n",
      "        [ 5,  5,  7],\n",
      "        [ 8,  8, 10],\n",
      "        [11, 11, 13]])\n"
     ]
    }
   ],
   "metadata": {
    "colab": {
     "base_uri": "https://localhost:8080/",
     "height": 408
    },
    "colab_type": "code",
    "id": "YIlIBao3VTRc",
    "outputId": "02841ff2-e5a7-43ef-a1fe-c49cebd60716"
   }
  },
  {
   "cell_type": "markdown",
   "source": [
    "Notice that after broadcasting, `x` remains the same but `v` has an extra dimension prepended to its shape, and it is duplicated to have the same shape as `x`; since they have the same shape after broadcasting they can be added elementwise.\n",
    "\n",
    "Not all functions support broadcasting. You can find functions that does not support broadcasting from the official docs. (e.g. [`torch.mm`](https://pytorch.org/docs/stable/torch.html#torch.mm) does not support broadcasting, but [`torch.matmul`](https://pytorch.org/docs/1.1.0/torch.html#torch.matmul) does)\n",
    "\n",
    "Broadcasting can let us easily implement many different operations. For example we can compute an outer product of vectors:"
   ],
   "metadata": {
    "colab_type": "text",
    "id": "PWXtBo6eVTRf"
   }
  },
  {
   "cell_type": "code",
   "execution_count": 81,
   "source": [
    "# Compute outer product of vectors\r\n",
    "v = torch.tensor([1, 2, 3])  # v has shape (3,)\r\n",
    "w = torch.tensor([4, 5])     # w has shape (2,)\r\n",
    "# To compute an outer product, we first reshape v to be a column\r\n",
    "# vector of shape (3, 1); we can then broadcast it against w to yield\r\n",
    "# an output of shape (3, 2), which is the outer product of v and w:\r\n",
    "print(v.view(3, 1) * w)"
   ],
   "outputs": [
    {
     "output_type": "stream",
     "name": "stdout",
     "text": [
      "tensor([[ 4,  5],\n",
      "        [ 8, 10],\n",
      "        [12, 15]])\n"
     ]
    }
   ],
   "metadata": {
    "colab": {
     "base_uri": "https://localhost:8080/",
     "height": 68
    },
    "colab_type": "code",
    "id": "_W-k7-hpCwlT",
    "outputId": "96937ee0-a27d-482f-d59e-1c0d5b277004"
   }
  },
  {
   "cell_type": "markdown",
   "source": [
    "We can add a vector to each row of a matrix:"
   ],
   "metadata": {
    "colab_type": "text",
    "id": "6a9EcX20moP_"
   }
  },
  {
   "cell_type": "code",
   "execution_count": 82,
   "source": [
    "x = torch.tensor([[1, 2, 3], [4, 5, 6]])  # x has shape (2, 3)\r\n",
    "v = torch.tensor([1, 2, 3])               # v has shape (3,)\r\n",
    "print('Here is the matrix:')\r\n",
    "print(x)\r\n",
    "print('\\nHere is the vector:')\r\n",
    "print(v)\r\n",
    "\r\n",
    "# x has shape (2, 3) and v has shape (3,) so they broadcast to (2, 3),\r\n",
    "# giving the following matrix:\r\n",
    "print('\\nAdd the vector to each row of the matrix:')\r\n",
    "print(x + v)"
   ],
   "outputs": [
    {
     "output_type": "stream",
     "name": "stdout",
     "text": [
      "Here is the matrix:\n",
      "tensor([[1, 2, 3],\n",
      "        [4, 5, 6]])\n",
      "\n",
      "Here is the vector:\n",
      "tensor([1, 2, 3])\n",
      "\n",
      "Add the vector to each row of the matrix:\n",
      "tensor([[2, 4, 6],\n",
      "        [5, 7, 9]])\n"
     ]
    }
   ],
   "metadata": {
    "colab": {
     "base_uri": "https://localhost:8080/",
     "height": 187
    },
    "colab_type": "code",
    "id": "9bhmBiwcDF1B",
    "outputId": "f9b160f1-a9fe-4848-da6b-562c6da3cc0c"
   }
  },
  {
   "cell_type": "markdown",
   "source": [
    "We can add a vector to each column of a matrix:"
   ],
   "metadata": {
    "colab_type": "text",
    "id": "jYloJIvmm_Me"
   }
  },
  {
   "cell_type": "code",
   "execution_count": 85,
   "source": [
    "x = torch.tensor([[1, 2, 3], [4, 5, 6]])  # x has shape (2, 3)\r\n",
    "w = torch.tensor([4, 5])                  # w has shape (2,)\r\n",
    "print('Here is the matrix:')\r\n",
    "print(x)\r\n",
    "print('\\nHere is the vector:')\r\n",
    "print(w)\r\n",
    "\r\n",
    "# x has shape (2, 3) and w has shape (2,). We reshape w to (2, 1);\r\n",
    "# then when we add the two the result broadcasts to (2, 3):\r\n",
    "print('\\nAdd the vector to each column of the matrix:')\r\n",
    "print(x + w.view(-1, 1))\r\n",
    "\r\n",
    "# Another solution is the following:\r\n",
    "# 1. Transpose x so it has shape (3, 2)\r\n",
    "# 2. Since w has shape (2,), adding will broadcast to (3, 2)\r\n",
    "# 3. Transpose the result, resulting in a shape (2, 3)\r\n",
    "print((x.t() + w).t())"
   ],
   "outputs": [
    {
     "output_type": "stream",
     "name": "stdout",
     "text": [
      "Here is the matrix:\n",
      "tensor([[1, 2, 3],\n",
      "        [4, 5, 6]])\n",
      "\n",
      "Here is the vector:\n",
      "tensor([4, 5])\n",
      "\n",
      "Add the vector to each column of the matrix:\n",
      "tensor([[ 5,  6,  7],\n",
      "        [ 9, 10, 11]])\n",
      "tensor([[ 5,  6,  7],\n",
      "        [ 9, 10, 11]])\n"
     ]
    }
   ],
   "metadata": {
    "colab": {
     "base_uri": "https://localhost:8080/",
     "height": 221
    },
    "colab_type": "code",
    "id": "TDTFKACqDK22",
    "outputId": "44a9d01c-09d5-4283-88bd-795454ca02eb"
   }
  },
  {
   "cell_type": "markdown",
   "source": [
    "Multiply a tensor by a set of constants:"
   ],
   "metadata": {
    "colab_type": "text",
    "id": "9717YmBBpBfr"
   }
  },
  {
   "cell_type": "code",
   "execution_count": 86,
   "source": [
    "x = torch.tensor([[1, 2, 3], [4, 5, 6]])  # x has shape (2, 3)\r\n",
    "c = torch.tensor([1, 10, 11, 100])        # c has shape (4)\r\n",
    "print('Here is the matrix:')\r\n",
    "print(x)\r\n",
    "print('\\nHere is the vector:')\r\n",
    "print(c)\r\n",
    "\r\n",
    "# We do the following:\r\n",
    "# 1. Reshape c from (4,) to (4, 1, 1)\r\n",
    "# 2. x has shape (2, 3). Since they have different ranks, when we multiply the\r\n",
    "#    two, x behaves as if its shape were (1, 2, 3)\r\n",
    "# 3. The result of the broadcast multiplication between tensor of shape\r\n",
    "#    (4, 1, 1) and (1, 2, 3) has shape (4, 2, 3)\r\n",
    "# 4. The result y has shape (4, 2, 3), and y[i] (shape (2, 3)) is equal to\r\n",
    "#    c[i] * x\r\n",
    "y = c.view(-1, 1, 1) * x\r\n",
    "print('\\nMultiply x by a set of constants:')\r\n",
    "print(y)"
   ],
   "outputs": [
    {
     "output_type": "stream",
     "name": "stdout",
     "text": [
      "Here is the matrix:\n",
      "tensor([[1, 2, 3],\n",
      "        [4, 5, 6]])\n",
      "\n",
      "Here is the vector:\n",
      "tensor([  1,  10,  11, 100])\n",
      "\n",
      "Multiply x by a set of constants:\n",
      "tensor([[[  1,   2,   3],\n",
      "         [  4,   5,   6]],\n",
      "\n",
      "        [[ 10,  20,  30],\n",
      "         [ 40,  50,  60]],\n",
      "\n",
      "        [[ 11,  22,  33],\n",
      "         [ 44,  55,  66]],\n",
      "\n",
      "        [[100, 200, 300],\n",
      "         [400, 500, 600]]])\n"
     ]
    }
   ],
   "metadata": {
    "colab": {
     "base_uri": "https://localhost:8080/",
     "height": 340
    },
    "colab_type": "code",
    "id": "4UjWDp_XDc_-",
    "outputId": "ca8afe6b-5d58-430d-d202-64886eddcac2"
   }
  },
  {
   "cell_type": "markdown",
   "source": [
    "**Your turn**: In the file `pytorch101.py`, implement the function `normalize_columns` that normalizes the columns of a matrix. It should compute the mean and standard deviation of each column, then subtract the mean and divide by the standard deviation for each element in the column.\r\n",
    "\r\n",
    "Example:\r\n",
    "```\r\n",
    "x = [[ 0,  30,  600],\r\n",
    "     [ 1,  10,  200],\r\n",
    "     [-1,  20,  400]]\r\n",
    "```\r\n",
    "- The first column has mean 0 and std 1\r\n",
    "- The second column has mean 20 and std 10\r\n",
    "- The third column has mean 400 and std 200\r\n",
    "\r\n",
    "After normalizing the columns, the result should be:\r\n",
    "```\r\n",
    "y = [[ 0,  1,  1],\r\n",
    "     [ 1, -1, -1],\r\n",
    "     [-1,  0,  0]]\r\n",
    "```\r\n",
    "\r\n",
    "Recall that given scalars $x_1,\\ldots,x_M$ the mean $\\mu$ and standard deviation $\\sigma$ are given by\r\n",
    "\r\n",
    "$$\\mu=\\frac{1}{M}\\sum_{i=1}^M x_i \\hspace{4pc} \\sigma = \\sqrt{\\frac{1}{M-1}\\sum_{i=1}^M(x_i-\\mu)^2}$$"
   ],
   "metadata": {
    "colab_type": "text",
    "id": "J2EHXFBFq1ea"
   }
  },
  {
   "cell_type": "code",
   "execution_count": 92,
   "source": [
    "from pytorch101 import normalize_columns\r\n",
    "def normalize_columns(x):\r\n",
    "    size = x.shape[0]\r\n",
    "    col_mean = x.mean(dim=0)\r\n",
    "    print(col_mean)\r\n",
    "    sigma = (((x-col_mean)**2).sum(dim=0)/(size-1))**0.5\r\n",
    "    return (x-col_mean)/sigma\r\n",
    "x = torch.tensor([[0., 30., 600.], [1., 10., 200.], [-1., 20., 400.]])\r\n",
    "y = normalize_columns(x)\r\n",
    "print('Here is x:')\r\n",
    "print(x)\r\n",
    "print('Here is y:')\r\n",
    "print(y)\r\n",
    "\r\n",
    "x_expected = [[0., 30., 600.], [1., 10., 200.], [-1., 20., 400.]]\r\n",
    "y_expected = [[0., 1., 1.], [1., -1., -1.], [-1., 0., 0.]]\r\n",
    "y_correct = y.tolist() == y_expected\r\n",
    "x_correct = x.tolist() == x_expected\r\n",
    "print('y correct: ', y_correct)\r\n",
    "print('x unchanged: ', x_correct)"
   ],
   "outputs": [
    {
     "output_type": "stream",
     "name": "stdout",
     "text": [
      "tensor([  0.,  20., 400.])\n",
      "Here is x:\n",
      "tensor([[  0.,  30., 600.],\n",
      "        [  1.,  10., 200.],\n",
      "        [ -1.,  20., 400.]])\n",
      "Here is y:\n",
      "tensor([[ 0.,  1.,  1.],\n",
      "        [ 1., -1., -1.],\n",
      "        [-1.,  0.,  0.]])\n",
      "y correct:  True\n",
      "x unchanged:  True\n"
     ]
    }
   ],
   "metadata": {
    "colab": {
     "base_uri": "https://localhost:8080/",
     "height": 187
    },
    "colab_type": "code",
    "id": "rVh1DMqMr3zl",
    "outputId": "254fd394-4178-429c-96ed-eb3e087b808c"
   }
  },
  {
   "cell_type": "markdown",
   "source": [
    "### Out-of-place vs in-place operators\n",
    "Most PyTorch operators are classified into one of two categories:\n",
    "- **Out-of-place operators:** return a new tensor. Most PyTorch operators behave this way.\n",
    "- **In-place operators:** modify and return the input tensor. Instance methods that end with an underscore (such as `add_()` are in-place. Operators in the `torch` namespace can be made in-place using the `out=` keyword argument.\n",
    "\n",
    "For example:"
   ],
   "metadata": {
    "colab_type": "text",
    "id": "NlJs-yN4VTRp"
   }
  },
  {
   "cell_type": "code",
   "execution_count": null,
   "source": [
    "# Out-of-place addition creates and returns a new tensor without modifying the inputs:\r\n",
    "x = torch.tensor([1, 2, 3])\r\n",
    "y = torch.tensor([3, 4, 5])\r\n",
    "print('Out-of-place addition:')\r\n",
    "print('Before addition:')\r\n",
    "print('x: ', x)\r\n",
    "print('y: ', y)\r\n",
    "z = x.add(y)  # Same as z = x + y or z = torch.add(x, y)\r\n",
    "print('\\nAfter addition (x and y unchanged):')\r\n",
    "print('x: ', x)\r\n",
    "print('y: ', y)\r\n",
    "print('z: ', z)\r\n",
    "print('z is x: ', z is x)\r\n",
    "print('z is y: ', z is y)\r\n",
    "\r\n",
    "# In-place addition modifies the input tensor:\r\n",
    "print('\\n\\nIn-place Addition:')\r\n",
    "print('Before addition:')\r\n",
    "print('x: ', x)\r\n",
    "print('y: ', y)\r\n",
    "x.add_(y)  # Same as x += y or torch.add(x, y, out=x)\r\n",
    "print('\\nAfter addition (x is modified):')\r\n",
    "print('x: ', x)\r\n",
    "print('y: ', y)\r\n",
    "print('z: ', z)\r\n",
    "print('z is x: ', z is x)\r\n",
    "print('z is y: ', z is y)"
   ],
   "outputs": [],
   "metadata": {
    "colab": {
     "base_uri": "https://localhost:8080/",
     "height": 425
    },
    "colab_type": "code",
    "id": "lnwGzmU9VTRp",
    "outputId": "f3fb78d4-d7e7-4df4-99a8-f7bc366a17ff"
   }
  },
  {
   "cell_type": "markdown",
   "source": [
    "In general, **you should avoid in-place operations** since they can cause problems when computing gradients using autograd (which we will cover in a future assignment)."
   ],
   "metadata": {
    "colab_type": "text",
    "id": "uNTk5heeVTRr"
   }
  },
  {
   "cell_type": "markdown",
   "source": [
    "## Running on GPU"
   ],
   "metadata": {
    "colab_type": "text",
    "id": "uN6FfqU9wFeG"
   }
  },
  {
   "cell_type": "markdown",
   "source": [
    "One of the most important features of PyTorch is that it can use graphics processing units (GPUs) to accelerate its tensor operations.\n",
    "\n",
    "We can easily check whether PyTorch is configured to use GPUs:\n",
    "\n",
    "Tensors can be moved onto any device using the .to method."
   ],
   "metadata": {
    "colab_type": "text",
    "id": "Ds6SDTbrwOc1"
   }
  },
  {
   "cell_type": "code",
   "execution_count": 11,
   "source": [
    "import torch\r\n",
    "\r\n",
    "if torch.cuda.is_available:\r\n",
    "  print('PyTorch can use GPUs!')\r\n",
    "else:\r\n",
    "  print('PyTorch cannot use GPUs.')"
   ],
   "outputs": [
    {
     "output_type": "stream",
     "name": "stdout",
     "text": [
      "PyTorch can use GPUs!\n"
     ]
    }
   ],
   "metadata": {
    "colab": {
     "base_uri": "https://localhost:8080/",
     "height": 34
    },
    "colab_type": "code",
    "id": "_RkoFEVVKWlW",
    "outputId": "c4c639a6-4a2e-4ec9-cf55-1563aee711be"
   }
  },
  {
   "cell_type": "markdown",
   "source": [
    "You can enable GPUs in Colab via Runtime -> Change Runtime Type -> Hardware Accelerator -> GPU.\n",
    "\n",
    "This may cause the Colab runtime to restart, so we will re-import torch in the next cell.\n",
    "\n",
    "We have already seen that PyTorch tensors have a `dtype` attribute specifying their datatype. All PyTorch tensors also have a `device` attribute that specifies the device where the tensor is stored -- either CPU, or CUDA (for NVIDA GPUs). A tensor on a CUDA device will automatically use that device to accelerate all of its operations.\n",
    "\n",
    "Just as with datatypes, we can use the [`.to()`](https://pytorch.org/docs/1.1.0/tensors.html#torch.Tensor.to) method to change the device of a tensor. We can also use the convenience methods `.cuda()` and `.cpu()` methods to move tensors between CPU and GPU. "
   ],
   "metadata": {
    "colab_type": "text",
    "id": "7i_5n_XuKr5k"
   }
  },
  {
   "cell_type": "code",
   "execution_count": 14,
   "source": [
    "# Construct a tensor on the CPU\r\n",
    "x0 = torch.tensor([[1, 2], [3, 4]], dtype=torch.float32)\r\n",
    "print('x0 device:', x0.device)\r\n",
    "\r\n",
    "# Move it to the GPU using .to()\r\n",
    "x1 = x0.to('cuda')\r\n",
    "print('x1 device:', x1.device)\r\n",
    "\r\n",
    "# Move it to the GPU using .cuda()\r\n",
    "x2 = x0.cuda()\r\n",
    "print('x2 device:', x2.device)\r\n",
    "\r\n",
    "# Move it back to the CPU using .to()\r\n",
    "x3 = x1.to('cpu')\r\n",
    "print('x3 device:', x3.device)\r\n",
    "\r\n",
    "# Move it back to the CPU using .cpu()\r\n",
    "x4 = x2.cpu()\r\n",
    "print('x4 device:', x4.device)\r\n",
    "\r\n",
    "# We can construct tensors directly on the GPU as well\r\n",
    "y = torch.tensor([[1, 2, 3], [4, 5, 6]], dtype=torch.float64, device='cuda')\r\n",
    "print('y device / dtype:', y.device, y.dtype)\r\n",
    "\r\n",
    "# Calling x.to(y) where y is a tensor will return a copy of x with the same\r\n",
    "# device and dtype as y\r\n",
    "x5 = x0.to(y)\r\n",
    "print('x5 device / dtype:', x5.device, x5.dtype)"
   ],
   "outputs": [
    {
     "output_type": "stream",
     "name": "stdout",
     "text": [
      "x0 device: cpu\n"
     ]
    },
    {
     "output_type": "error",
     "ename": "RuntimeError",
     "evalue": "Expected one of cpu, cuda, xpu, mkldnn, opengl, opencl, ideep, hip, msnpu, xla, vulkan device type at start of device string: gpu",
     "traceback": [
      "\u001b[1;31m---------------------------------------------------------------------------\u001b[0m",
      "\u001b[1;31mRuntimeError\u001b[0m                              Traceback (most recent call last)",
      "\u001b[1;32m<ipython-input-14-50149f0ca2f0>\u001b[0m in \u001b[0;36m<module>\u001b[1;34m\u001b[0m\n\u001b[0;32m      4\u001b[0m \u001b[1;33m\u001b[0m\u001b[0m\n\u001b[0;32m      5\u001b[0m \u001b[1;31m# Move it to the GPU using .to()\u001b[0m\u001b[1;33m\u001b[0m\u001b[1;33m\u001b[0m\u001b[1;33m\u001b[0m\u001b[0m\n\u001b[1;32m----> 6\u001b[1;33m \u001b[0mx1\u001b[0m \u001b[1;33m=\u001b[0m \u001b[0mx0\u001b[0m\u001b[1;33m.\u001b[0m\u001b[0mto\u001b[0m\u001b[1;33m(\u001b[0m\u001b[1;34m'gpu'\u001b[0m\u001b[1;33m)\u001b[0m\u001b[1;33m\u001b[0m\u001b[1;33m\u001b[0m\u001b[0m\n\u001b[0m\u001b[0;32m      7\u001b[0m \u001b[0mprint\u001b[0m\u001b[1;33m(\u001b[0m\u001b[1;34m'x1 device:'\u001b[0m\u001b[1;33m,\u001b[0m \u001b[0mx1\u001b[0m\u001b[1;33m.\u001b[0m\u001b[0mdevice\u001b[0m\u001b[1;33m)\u001b[0m\u001b[1;33m\u001b[0m\u001b[1;33m\u001b[0m\u001b[0m\n\u001b[0;32m      8\u001b[0m \u001b[1;33m\u001b[0m\u001b[0m\n",
      "\u001b[1;31mRuntimeError\u001b[0m: Expected one of cpu, cuda, xpu, mkldnn, opengl, opencl, ideep, hip, msnpu, xla, vulkan device type at start of device string: gpu"
     ]
    }
   ],
   "metadata": {
    "colab": {
     "base_uri": "https://localhost:8080/",
     "height": 136
    },
    "colab_type": "code",
    "id": "D03s614dMCvy",
    "outputId": "7664a13e-9a50-4d79-b8f7-3d8d456c3f0f"
   }
  },
  {
   "cell_type": "markdown",
   "source": [
    "Performing large tensor operations on a GPU can be **a lot faster** than running the equivalent operation on CPU.\n",
    "\n",
    "Here we compare the speed of adding two tensors of shape (10000, 10000) on CPU and GPU:\n",
    "\n",
    "(Note that GPU code may run asynchronously with CPU code, so when timing the speed of operations on the GPU it is important to use `torch.cuda.synchronize` to synchronize the CPU and GPU.)"
   ],
   "metadata": {
    "colab_type": "text",
    "id": "O-TDxICdOmJo"
   }
  },
  {
   "cell_type": "code",
   "execution_count": null,
   "source": [
    "import time\r\n",
    "\r\n",
    "a_cpu = torch.randn(10000, 10000, dtype=torch.float32)\r\n",
    "b_cpu = torch.randn(10000, 10000, dtype=torch.float32)\r\n",
    "\r\n",
    "a_gpu = a_cpu.cuda()\r\n",
    "b_gpu = b_cpu.cuda()\r\n",
    "torch.cuda.synchronize()\r\n",
    "\r\n",
    "t0 = time.time()\r\n",
    "c_cpu = a_cpu + b_cpu\r\n",
    "t1 = time.time()\r\n",
    "c_gpu = a_gpu + b_gpu\r\n",
    "torch.cuda.synchronize()\r\n",
    "t2 = time.time()\r\n",
    "\r\n",
    "# Check that they computed the same thing\r\n",
    "diff = (c_gpu.cpu() - c_cpu).abs().max().item()\r\n",
    "print('Max difference between c_gpu and c_cpu:', diff)\r\n",
    "\r\n",
    "cpu_time = 1000.0 * (t1 - t0)\r\n",
    "gpu_time = 1000.0 * (t2 - t1)\r\n",
    "print('CPU time: %.2f ms' % cpu_time)\r\n",
    "print('GPU time: %.2f ms' % gpu_time)\r\n",
    "print('GPU speedup: %.2f x' % (cpu_time / gpu_time))"
   ],
   "outputs": [],
   "metadata": {
    "colab": {
     "base_uri": "https://localhost:8080/",
     "height": 85
    },
    "colab_type": "code",
    "id": "GW14ZF-_PK7t",
    "outputId": "ecb3ff89-8318-4581-a080-5c7a1dc34933"
   }
  },
  {
   "cell_type": "markdown",
   "source": [
    "You should see that running the same computation on the GPU was more than 10~30 times faster than on the CPU! Due to the massive speedups that GPUs offer, we will use GPUs to accelerate much of our machine learning code starting in Assignment 2.\n",
    "\n",
    "**Your turn**: Use the GPU to accelerate the following matrix multiplication operation. You should see 5~10x speedup by using the GPU."
   ],
   "metadata": {
    "colab_type": "text",
    "id": "7HEAVPEwviYb"
   }
  },
  {
   "cell_type": "code",
   "execution_count": null,
   "source": [
    "import time\r\n",
    "from pytorch101 import mm_on_cpu, mm_on_gpu\r\n",
    "\r\n",
    "x = torch.rand(512, 4096)\r\n",
    "w = torch.rand(4096, 4096)\r\n",
    "\r\n",
    "t0 = time.time()\r\n",
    "y0 = mm_on_cpu(x, w)\r\n",
    "t1 = time.time()\r\n",
    "\r\n",
    "y1 = mm_on_gpu(x, w)\r\n",
    "torch.cuda.synchronize()\r\n",
    "t2 = time.time()\r\n",
    "\r\n",
    "print('y1 on CPU:', y1.device == torch.device('cpu'))\r\n",
    "diff = (y0 - y1).abs().max().item()\r\n",
    "print('Max difference between y0 and y1:', diff)\r\n",
    "print('Difference within tolerance:', diff < 5e-2)\r\n",
    "\r\n",
    "cpu_time = 1000.0 * (t1 - t0)\r\n",
    "gpu_time = 1000.0 * (t2 - t1)\r\n",
    "print('CPU time: %.2f ms' % cpu_time)\r\n",
    "print('GPU time: %.2f ms' % gpu_time)\r\n",
    "print('GPU speedup: %.2f x' % (cpu_time / gpu_time))"
   ],
   "outputs": [],
   "metadata": {
    "colab": {
     "base_uri": "https://localhost:8080/",
     "height": 119
    },
    "colab_type": "code",
    "id": "uqEUdst7SAuZ",
    "outputId": "d15fd1f7-e664-49de-8578-068541413a73"
   }
  },
  {
   "cell_type": "markdown",
   "source": [
    "Done! Now you can move to kNN.ipynb. Before you move, please check whether you generated any additional cell in every ipynb file (e.g. empty cell after very last code cell)."
   ],
   "metadata": {
    "colab_type": "text",
    "id": "vekSz6WtpUXc"
   }
  }
 ],
 "metadata": {
  "accelerator": "GPU",
  "colab": {
   "collapsed_sections": [
    "kQndOAmiVTO3",
    "bCtoiSyVVTO8",
    "hQrEwOpXb9Gh",
    "zjosrOn8mOMV",
    "OgPaSNS2mVPn",
    "zeH5501nmh7W",
    "1MEmHrgBsgX4",
    "HrBSx6hYu8ca",
    "LWagwmXuvIle",
    "Yz_VDA3IvP33",
    "Rz_hiJD33fu1",
    "rlANfnILvX3S",
    "mo-PoTWNvbba",
    "4y93rPhGveWw",
    "oGt8ZPb_vixw",
    "Ad-xqELwyqpN",
    "Ql9_eXuU4OG8",
    "Z150qBob4Wkz",
    "f4SJCVbf-bZ0",
    "WJiiBxNE-X8g",
    "NgcdvD1evxTQ",
    "1BCVlPHZ4_Qz",
    "yDyH9USAuyZ-",
    "lRyLyXU2u29N",
    "mbCVOr2sVTRR",
    "UISn2pcf9QjY",
    "NlJs-yN4VTRp",
    "uN6FfqU9wFeG"
   ],
   "name": "pytorch101.ipynb",
   "provenance": [],
   "toc_visible": true
  },
  "kernelspec": {
   "name": "python3",
   "display_name": "Python 3.8.10 64-bit ('pytorch-gpu': conda)"
  },
  "language_info": {
   "codemirror_mode": {
    "name": "ipython",
    "version": 3
   },
   "file_extension": ".py",
   "mimetype": "text/x-python",
   "name": "python",
   "nbconvert_exporter": "python",
   "pygments_lexer": "ipython3",
   "version": "3.8.10"
  },
  "interpreter": {
   "hash": "fc64277828e59f7eb78ffbc0ddab14d90cc83f703145cbebfb602b1b2278d053"
  }
 },
 "nbformat": 4,
 "nbformat_minor": 2
}